{
  "nbformat": 4,
  "nbformat_minor": 0,
  "metadata": {
    "colab": {
      "provenance": [],
      "authorship_tag": "ABX9TyOJKf4Q0Piy7E8Xxkh0HWUZ",
      "include_colab_link": true
    },
    "kernelspec": {
      "name": "python3",
      "display_name": "Python 3"
    },
    "language_info": {
      "name": "python"
    }
  },
  "cells": [
    {
      "cell_type": "markdown",
      "metadata": {
        "id": "view-in-github",
        "colab_type": "text"
      },
      "source": [
        "<a href=\"https://colab.research.google.com/github/GHROTH-L/crawler/blob/main/YAHOO%E8%82%A1%E5%83%B9%E7%88%AC%E8%9F%B2.ipynb\" target=\"_parent\"><img src=\"https://colab.research.google.com/assets/colab-badge.svg\" alt=\"Open In Colab\"/></a>"
      ]
    },
    {
      "cell_type": "code",
      "execution_count": 128,
      "metadata": {
        "id": "19YVNRKyPejP"
      },
      "outputs": [],
      "source": [
        "import time\n",
        "import requests\n",
        "import csv\n",
        "from bs4 import BeautifulSoup\n",
        "#YAHOO 網址\n",
        "url = \"https://tw.stock.yahoo.com/q/q?s=\" #s= 後面是要放股票號碼"
      ]
    },
    {
      "cell_type": "code",
      "source": [
        "#產生搜尋的url 以及股票名稱\n",
        "def gen_url(url, stocks):\n",
        "  urls = []\n",
        "  for stock in stocks:\n",
        "    urls.append(url+stock)\n",
        "  return urls"
      ],
      "metadata": {
        "id": "nes3-CfBP746"
      },
      "execution_count": 123,
      "outputs": []
    },
    {
      "cell_type": "code",
      "source": [
        "#get_resouse 抓取資料\n",
        "def get_r(url):\n",
        "  headers = {\"user-agen\" :\"Mozilla/5.0 (Windows NT 10.0; Win64; x64) AppleWebKit/537.36 (KHTML, like Gecko) Chrome/113.0.0.0 Safari/537.36\"}\n",
        "  return requests.get(url,headers= headers)"
      ],
      "metadata": {
        "id": "ZRWYEV3RVDIy"
      },
      "execution_count": 4,
      "outputs": []
    },
    {
      "cell_type": "code",
      "source": [
        "#製造stock_crawler\n",
        "# stock_id name stauts price yclose volume high low\n",
        "def stock_crawler(soup, stock_id):\n",
        "  sp3 = soup.find_all(text=\"成交\")[0].parent.parent.parent\n",
        "  name = soup.find_all(\"h1\")[1].text\n",
        "  price = sp3.select(\"span[class='Fw(600) Fz(16px)--mobile Fz(14px) D(f) Ai(c) C($c-trend-up)']\")[0].text\n",
        "  yclose = sp3.select(\"span[class='Fw(600) Fz(16px)--mobile Fz(14px) D(f) Ai(c)']\")[0].text\n",
        "  volume = sp3.select(\"span[class='Fw(600) Fz(16px)--mobile Fz(14px)']\")[1].text\n",
        "  high = sp3.select(\"span[class='Fw(600) Fz(16px)--mobile Fz(14px) D(f) Ai(c) C($c-trend-up)']\")[2].text\n",
        "  low = sp3.select(\"span[class='Fw(600) Fz(16px)--mobile Fz(14px) D(f) Ai(c) C($c-trend-up)']\")[3].text\n",
        "  if float(price) > float(yclose):\n",
        "    status = \"漲\" + sp3.select(\"span[class='Fw(600) Fz(16px)--mobile Fz(14px) D(f) Ai(c) C($c-trend-up)']\")[5].text\n",
        "  else:\n",
        "    status = \"跌\" + sp3.select(\"span[class='Fw(600) Fz(16px)--mobile Fz(14px) D(f) Ai(c) C($c-trend-up)']\")[5].text\n",
        "  return [stock_id,name,status,price,yclose,volume,high,low]\n"
      ],
      "metadata": {
        "id": "shaP-QKwqI-c"
      },
      "execution_count": 120,
      "outputs": []
    },
    {
      "cell_type": "code",
      "source": [
        "#stock_soup 製造soup\n",
        "'''\n",
        "代碼 名稱 漲跌幅 股價 昨收 總量 最高 最低\n",
        "'''\n",
        "def stock_soup(urls):\n",
        "  stocks= [[\"代碼\",\"名稱\",\"漲跌幅\",\"股價\",\"昨收\",\"總量\",\"最高\",\"最低\"]]\n",
        "  \n",
        "  for url in urls:\n",
        "    stock_id = url.split(\"=\")[-1] \n",
        "    '''\n",
        "    例如，如果url的值是\"https://example.com?id=12345\"，那么url.split(\"=\")将返回[\"https://example.com?id\", \"12345\"]。[-1]是通过索引访问列表中的最后一个元素。在上述示例中，url.split(\"=\")[-1]将返回\"12345\"。\n",
        "    '''\n",
        "    print(\"抓取:\"+stock_id+\"網路資料...\")\n",
        "    r= get_r(url)\n",
        "    if r.status_code == requests.codes.ok:\n",
        "      soup = BeautifulSoup(r.text,\"html.parser\") #製造soup\n",
        "      stock = stock_crawler(soup, stock_id)\n",
        "      stocks.append(stock)\n",
        "      print(\"wait for 5 seconds\")\n",
        "      time.sleep(5)\n",
        "    else:\n",
        "      print(\"請求錯誤\")\n",
        "  return stocks\n",
        "\n"
      ],
      "metadata": {
        "id": "-XWlONgfQVCz"
      },
      "execution_count": 70,
      "outputs": []
    },
    {
      "cell_type": "code",
      "source": [
        "if __name__ == \"__main__\":  #主程式開頭\n",
        "  urls = gen_url(url, [\"3711\",\"2330\"])\n",
        "  #print(urls) 測試連結\n",
        "  stocks = stock_soup(urls)\n",
        "  for stock in stocks:\n",
        "    print(stock)"
      ],
      "metadata": {
        "colab": {
          "base_uri": "https://localhost:8080/"
        },
        "id": "IXvVb1LSPh16",
        "outputId": "64f2731b-ff0f-446d-cda7-9332e500a807"
      },
      "execution_count": 133,
      "outputs": [
        {
          "output_type": "stream",
          "name": "stdout",
          "text": [
            "抓取:3711網路資料...\n"
          ]
        },
        {
          "output_type": "stream",
          "name": "stderr",
          "text": [
            "<ipython-input-120-40d728c7c43a>:4: DeprecationWarning: The 'text' argument to find()-type methods is deprecated. Use 'string' instead.\n",
            "  sp3 = soup.find_all(text=\"成交\")[0].parent.parent.parent\n"
          ]
        },
        {
          "output_type": "stream",
          "name": "stdout",
          "text": [
            "wait for 5 seconds\n",
            "抓取:2330網路資料...\n",
            "wait for 5 seconds\n",
            "['代碼', '名稱', '狀態', '股價', '昨收', '總量', '最高', '最低']\n",
            "['3711', '日月光投控', '漲2.0', '110.5', '108.5', '42,112', '111.5', '109.0']\n",
            "['2330', '台積電', '漲23', '566', '543', '95,692', '568', '563']\n"
          ]
        }
      ]
    }
  ]
}