{
  "nbformat": 4,
  "nbformat_minor": 0,
  "metadata": {
    "colab": {
      "provenance": [],
      "authorship_tag": "ABX9TyMAHEcvSO7g7iq0PB3B+3oK",
      "include_colab_link": true
    },
    "kernelspec": {
      "name": "python3",
      "display_name": "Python 3"
    },
    "language_info": {
      "name": "python"
    }
  },
  "cells": [
    {
      "cell_type": "markdown",
      "metadata": {
        "id": "view-in-github",
        "colab_type": "text"
      },
      "source": [
        "<a href=\"https://colab.research.google.com/github/GHROTH-L/crawler/blob/main/selenium.ipynb\" target=\"_parent\"><img src=\"https://colab.research.google.com/assets/colab-badge.svg\" alt=\"Open In Colab\"/></a>"
      ]
    },
    {
      "cell_type": "code",
      "execution_count": 1,
      "metadata": {
        "colab": {
          "base_uri": "https://localhost:8080/"
        },
        "id": "CGl6Do8RTwSs",
        "outputId": "c88a426d-4cf4-49e7-8b84-69481b20286a"
      },
      "outputs": [
        {
          "output_type": "stream",
          "name": "stdout",
          "text": [
            "\u001b[33m\r0% [Working]\u001b[0m\r            \rHit:1 http://archive.ubuntu.com/ubuntu focal InRelease\n",
            "\u001b[33m\r0% [Waiting for headers] [Connecting to security.ubuntu.com (185.125.190.39)] [\u001b[0m\r                                                                               \rGet:2 http://archive.ubuntu.com/ubuntu focal-updates InRelease [114 kB]\n",
            "\u001b[33m\r0% [2 InRelease 15.6 kB/114 kB 14%] [Waiting for headers] [Waiting for headers]\u001b[0m\r                                                                               \rGet:3 https://cloud.r-project.org/bin/linux/ubuntu focal-cran40/ InRelease [3,622 B]\n",
            "\u001b[33m\r0% [2 InRelease 15.6 kB/114 kB 14%] [Waiting for headers] [Waiting for headers]\u001b[0m\r                                                                               \rHit:4 https://developer.download.nvidia.com/compute/cuda/repos/ubuntu2004/x86_64  InRelease\n",
            "\u001b[33m\r0% [2 InRelease 15.6 kB/114 kB 14%] [Waiting for headers] [Waiting for headers]\u001b[0m\r                                                                               \rGet:5 http://security.ubuntu.com/ubuntu focal-security InRelease [114 kB]\n",
            "\u001b[33m\r0% [2 InRelease 50.4 kB/114 kB 44%] [5 InRelease 14.2 kB/114 kB 12%] [Waiting f\u001b[0m\r                                                                               \rGet:6 http://ppa.launchpad.net/c2d4u.team/c2d4u4.0+/ubuntu focal InRelease [18.1 kB]\n",
            "Get:7 http://archive.ubuntu.com/ubuntu focal-backports InRelease [108 kB]\n",
            "Hit:8 http://ppa.launchpad.net/cran/libgit2/ubuntu focal InRelease\n",
            "Get:9 https://cloud.r-project.org/bin/linux/ubuntu focal-cran40/ Packages [78.0 kB]\n",
            "Hit:10 http://ppa.launchpad.net/deadsnakes/ppa/ubuntu focal InRelease\n",
            "Get:11 http://archive.ubuntu.com/ubuntu focal-updates/main amd64 Packages [3,252 kB]\n",
            "Hit:12 http://ppa.launchpad.net/graphics-drivers/ppa/ubuntu focal InRelease\n",
            "Get:13 http://archive.ubuntu.com/ubuntu focal-updates/universe amd64 Packages [1,351 kB]\n",
            "Hit:14 http://ppa.launchpad.net/ubuntugis/ppa/ubuntu focal InRelease\n",
            "Get:15 http://ppa.launchpad.net/c2d4u.team/c2d4u4.0+/ubuntu focal/main Sources [2,588 kB]\n",
            "Get:16 http://security.ubuntu.com/ubuntu focal-security/main amd64 Packages [2,773 kB]\n",
            "Get:17 http://ppa.launchpad.net/c2d4u.team/c2d4u4.0+/ubuntu focal/main amd64 Packages [1,221 kB]\n",
            "Fetched 11.6 MB in 3s (4,217 kB/s)\n",
            "Reading package lists... Done\n",
            "Building dependency tree       \n",
            "Reading state information... Done\n",
            "38 packages can be upgraded. Run 'apt list --upgradable' to see them.\n",
            "Reading package lists... Done\n",
            "Building dependency tree       \n",
            "Reading state information... Done\n",
            "curl is already the newest version (7.68.0-1ubuntu2.18).\n",
            "unzip is already the newest version (6.0-25ubuntu1.1).\n",
            "wget is already the newest version (1.20.3-1ubuntu2).\n",
            "0 upgraded, 0 newly installed, 0 to remove and 38 not upgraded.\n",
            "--2023-06-05 02:35:29--  http://archive.ubuntu.com/ubuntu/pool/main/libu/libu2f-host/libu2f-udev_1.1.4-1_all.deb\n",
            "Resolving archive.ubuntu.com (archive.ubuntu.com)... 91.189.91.39, 185.125.190.36, 91.189.91.38, ...\n",
            "Connecting to archive.ubuntu.com (archive.ubuntu.com)|91.189.91.39|:80... connected.\n",
            "HTTP request sent, awaiting response... 200 OK\n",
            "Length: 3708 (3.6K) [application/x-debian-package]\n",
            "Saving to: ‘libu2f-udev_1.1.4-1_all.deb’\n",
            "\n",
            "libu2f-udev_1.1.4-1 100%[===================>]   3.62K  --.-KB/s    in 0s      \n",
            "\n",
            "2023-06-05 02:35:29 (357 MB/s) - ‘libu2f-udev_1.1.4-1_all.deb’ saved [3708/3708]\n",
            "\n",
            "Selecting previously unselected package libu2f-udev.\n",
            "(Reading database ... 122542 files and directories currently installed.)\n",
            "Preparing to unpack libu2f-udev_1.1.4-1_all.deb ...\n",
            "Unpacking libu2f-udev (1.1.4-1) ...\n",
            "Setting up libu2f-udev (1.1.4-1) ...\n",
            "--2023-06-05 02:35:30--  https://dl.google.com/linux/direct/google-chrome-stable_current_amd64.deb\n",
            "Resolving dl.google.com (dl.google.com)... 108.177.11.91, 108.177.11.136, 108.177.11.190, ...\n",
            "Connecting to dl.google.com (dl.google.com)|108.177.11.91|:443... connected.\n",
            "HTTP request sent, awaiting response... 200 OK\n",
            "Length: 93841272 (89M) [application/x-debian-package]\n",
            "Saving to: ‘google-chrome-stable_current_amd64.deb’\n",
            "\n",
            "google-chrome-stabl 100%[===================>]  89.49M   114MB/s    in 0.8s    \n",
            "\n",
            "2023-06-05 02:35:31 (114 MB/s) - ‘google-chrome-stable_current_amd64.deb’ saved [93841272/93841272]\n",
            "\n",
            "Selecting previously unselected package google-chrome-stable.\n",
            "(Reading database ... 122546 files and directories currently installed.)\n",
            "Preparing to unpack google-chrome-stable_current_amd64.deb ...\n",
            "Unpacking google-chrome-stable (114.0.5735.90-1) ...\n",
            "Setting up google-chrome-stable (114.0.5735.90-1) ...\n",
            "update-alternatives: using /usr/bin/google-chrome-stable to provide /usr/bin/x-www-browser (x-www-browser) in auto mode\n",
            "update-alternatives: using /usr/bin/google-chrome-stable to provide /usr/bin/gnome-www-browser (gnome-www-browser) in auto mode\n",
            "update-alternatives: using /usr/bin/google-chrome-stable to provide /usr/bin/google-chrome (google-chrome) in auto mode\n",
            "Processing triggers for mime-support (3.64ubuntu1) ...\n",
            "Processing triggers for man-db (2.9.1-1) ...\n",
            "--2023-06-05 02:35:48--  https://chromedriver.storage.googleapis.com/114.0.5735.90/chromedriver_linux64.zip\n",
            "Resolving chromedriver.storage.googleapis.com (chromedriver.storage.googleapis.com)... 173.194.216.128, 2607:f8b0:400c:c08::80\n",
            "Connecting to chromedriver.storage.googleapis.com (chromedriver.storage.googleapis.com)|173.194.216.128|:443... connected.\n",
            "HTTP request sent, awaiting response... 200 OK\n",
            "Length: 7407250 (7.1M) [application/zip]\n",
            "Saving to: ‘/tmp/chromedriver_linux64.zip’\n",
            "\n",
            "chromedriver_linux6 100%[===================>]   7.06M  --.-KB/s    in 0.04s   \n",
            "\n",
            "2023-06-05 02:35:48 (165 MB/s) - ‘/tmp/chromedriver_linux64.zip’ saved [7407250/7407250]\n",
            "\n",
            "Archive:  /tmp/chromedriver_linux64.zip\n",
            "  inflating: /tmp/chromedriver       \n",
            "  inflating: /tmp/LICENSE.chromedriver  \n",
            "Looking in indexes: https://pypi.org/simple, https://us-python.pkg.dev/colab-wheels/public/simple/\n",
            "Collecting selenium\n",
            "  Downloading selenium-4.9.1-py3-none-any.whl (6.6 MB)\n",
            "\u001b[2K     \u001b[90m━━━━━━━━━━━━━━━━━━━━━━━━━━━━━━━━━━━━━━━━\u001b[0m \u001b[32m6.6/6.6 MB\u001b[0m \u001b[31m37.7 MB/s\u001b[0m eta \u001b[36m0:00:00\u001b[0m\n",
            "\u001b[?25hRequirement already satisfied: urllib3[socks]<3,>=1.26 in /usr/local/lib/python3.10/dist-packages (from selenium) (1.26.15)\n",
            "Collecting trio~=0.17 (from selenium)\n",
            "  Downloading trio-0.22.0-py3-none-any.whl (384 kB)\n",
            "\u001b[2K     \u001b[90m━━━━━━━━━━━━━━━━━━━━━━━━━━━━━━━━━━━━━━\u001b[0m \u001b[32m384.9/384.9 kB\u001b[0m \u001b[31m27.2 MB/s\u001b[0m eta \u001b[36m0:00:00\u001b[0m\n",
            "\u001b[?25hCollecting trio-websocket~=0.9 (from selenium)\n",
            "  Downloading trio_websocket-0.10.2-py3-none-any.whl (17 kB)\n",
            "Requirement already satisfied: certifi>=2021.10.8 in /usr/local/lib/python3.10/dist-packages (from selenium) (2022.12.7)\n",
            "Requirement already satisfied: attrs>=19.2.0 in /usr/local/lib/python3.10/dist-packages (from trio~=0.17->selenium) (23.1.0)\n",
            "Requirement already satisfied: sortedcontainers in /usr/local/lib/python3.10/dist-packages (from trio~=0.17->selenium) (2.4.0)\n",
            "Collecting async-generator>=1.9 (from trio~=0.17->selenium)\n",
            "  Downloading async_generator-1.10-py3-none-any.whl (18 kB)\n",
            "Requirement already satisfied: idna in /usr/local/lib/python3.10/dist-packages (from trio~=0.17->selenium) (3.4)\n",
            "Collecting outcome (from trio~=0.17->selenium)\n",
            "  Downloading outcome-1.2.0-py2.py3-none-any.whl (9.7 kB)\n",
            "Requirement already satisfied: sniffio in /usr/local/lib/python3.10/dist-packages (from trio~=0.17->selenium) (1.3.0)\n",
            "Requirement already satisfied: exceptiongroup>=1.0.0rc9 in /usr/local/lib/python3.10/dist-packages (from trio~=0.17->selenium) (1.1.1)\n",
            "Collecting wsproto>=0.14 (from trio-websocket~=0.9->selenium)\n",
            "  Downloading wsproto-1.2.0-py3-none-any.whl (24 kB)\n",
            "Requirement already satisfied: PySocks!=1.5.7,<2.0,>=1.5.6 in /usr/local/lib/python3.10/dist-packages (from urllib3[socks]<3,>=1.26->selenium) (1.7.1)\n",
            "Collecting h11<1,>=0.9.0 (from wsproto>=0.14->trio-websocket~=0.9->selenium)\n",
            "  Downloading h11-0.14.0-py3-none-any.whl (58 kB)\n",
            "\u001b[2K     \u001b[90m━━━━━━━━━━━━━━━━━━━━━━━━━━━━━━━━━━━━━━━━\u001b[0m \u001b[32m58.3/58.3 kB\u001b[0m \u001b[31m6.7 MB/s\u001b[0m eta \u001b[36m0:00:00\u001b[0m\n",
            "\u001b[?25hInstalling collected packages: outcome, h11, async-generator, wsproto, trio, trio-websocket, selenium\n",
            "Successfully installed async-generator-1.10 h11-0.14.0 outcome-1.2.0 selenium-4.9.1 trio-0.22.0 trio-websocket-0.10.2 wsproto-1.2.0\n"
          ]
        },
        {
          "output_type": "execute_result",
          "data": {
            "text/plain": []
          },
          "metadata": {},
          "execution_count": 1
        }
      ],
      "source": [
        "%%shell\n",
        "sudo apt -y update\n",
        "sudo apt install -y wget curl unzip\n",
        "wget http://archive.ubuntu.com/ubuntu/pool/main/libu/libu2f-host/libu2f-udev_1.1.4-1_all.deb\n",
        "dpkg -i libu2f-udev_1.1.4-1_all.deb\n",
        "wget https://dl.google.com/linux/direct/google-chrome-stable_current_amd64.deb\n",
        "dpkg -i google-chrome-stable_current_amd64.deb\n",
        "CHROME_DRIVER_VERSION=`curl -sS chromedriver.storage.googleapis.com/LATEST_RELEASE`\n",
        "wget -N https://chromedriver.storage.googleapis.com/$CHROME_DRIVER_VERSION/chromedriver_linux64.zip -P /tmp/\n",
        "unzip -o /tmp/chromedriver_linux64.zip -d /tmp/\n",
        "chmod +x /tmp/chromedriver\n",
        "mv /tmp/chromedriver /usr/local/bin/chromedriver\n",
        "pip install selenium"
      ]
    },
    {
      "cell_type": "markdown",
      "source": [
        "#針對java的網頁，載入需要時間且有動畫\n"
      ],
      "metadata": {
        "id": "nP31cCFpJTjx"
      }
    },
    {
      "cell_type": "code",
      "source": [
        "from selenium import webdriver\n",
        "from bs4 import BeautifulSoup\n",
        "URL = \"https://example.com\"\n",
        "\n",
        "options = webdriver.ChromeOptions()\n",
        "options.add_argument(\"--headless\")\n",
        "options.add_argument('--disable-dev-shm-usage')\n",
        "options.add_argument(\"--no-sandbox\")\n",
        "\n",
        "driver = webdriver.Chrome(\n",
        "    options=options\n",
        ")\n",
        "driver.implicitly_wait(30)#讓網頁等待十秒以防還沒完全載入\n",
        "driver.get(URL)\n",
        "title = driver.title\n",
        "#driver.close() #關閉webDriver 目前打開的瀏覽器\n",
        "#webdriver.quit() 關閉所有開啟的視窗\n",
        "\n",
        "print(title)\n"
      ],
      "metadata": {
        "colab": {
          "base_uri": "https://localhost:8080/"
        },
        "id": "LeiEmiXBW1iN",
        "outputId": "a5369907-dbbb-45f2-a656-19294cf6a69f"
      },
      "execution_count": null,
      "outputs": [
        {
          "output_type": "stream",
          "name": "stdout",
          "text": [
            "Example Domain\n"
          ]
        }
      ]
    },
    {
      "cell_type": "markdown",
      "source": [
        "#剖析打開的網頁\n"
      ],
      "metadata": {
        "id": "FVnP3NILKl5d"
      }
    },
    {
      "cell_type": "code",
      "source": [
        "soup= BeautifulSoup(driver.page_source,\"lxml\")\n",
        "fp = open(\"index.html\",\"w\",encoding=\"utf8\")\n",
        "'''\n",
        "\"r\": 讀取模式（read mode），用於讀取檔案的內容。如果檔案不存在，將會拋出錯誤。\n",
        "\"w\": 寫入模式（write mode），用於創建新檔案或清空已存在的檔案，然後寫入內容。\n",
        "\"a\": 附加模式（append mode），用於在檔案末尾追加內容。如果檔案不存在，將會創建一個新檔案。\n",
        "\"x\": 創建模式（exclusive creation mode），用於創建新檔案。如果檔案已存在，將會拋出錯誤。\n",
        "\"b\": 二進位模式（binary mode），用於處理二進位檔案，如圖片、影片等。可以與上述模式組合使用，例如 \"rb\" 或 \"wb\"。\n",
        "在你提供的程式碼中，fp = open(\"index.html\", \"w\", encoding=\"utf8\") 打開了一個名為 \"index.html\" 的檔案，以寫入模式進行編寫。並且使用了 encoding=\"utf8\" 參數，指定了檔案的編碼方式為 UTF-8。接下來，你可以使用 fp 變數來對該檔案進行寫入操作。\n",
        "'''\n",
        "fp.write(soup.prettify())\n",
        "print(\"寫入檔案index.html....\")\n",
        "#fp.close()\n",
        "#driver.quit()"
      ],
      "metadata": {
        "id": "h6hAuuJ4XPVW",
        "colab": {
          "base_uri": "https://localhost:8080/"
        },
        "outputId": "3131f35d-6b10-49ee-da63-264f37fbc563"
      },
      "execution_count": null,
      "outputs": [
        {
          "output_type": "stream",
          "name": "stdout",
          "text": [
            "寫入檔案index.html....\n"
          ]
        }
      ]
    },
    {
      "cell_type": "markdown",
      "source": [
        "#使用selenium 定位網路資料"
      ],
      "metadata": {
        "id": "RDrV8yG8WNVA"
      }
    },
    {
      "cell_type": "code",
      "source": [
        "from selenium import webdriver\n",
        "from selenium.webdriver.common.by import By\n",
        "h1 = driver.find_element(By.TAG_NAME, \"h1\")\n",
        "print(h1.text)\n",
        "\n",
        "p = driver.find_element(By.TAG_NAME, \"p\")\n",
        "print(p.text)"
      ],
      "metadata": {
        "colab": {
          "base_uri": "https://localhost:8080/"
        },
        "id": "ZGNHgTysL46a",
        "outputId": "a27c5c04-d32b-4ddd-ebae-e54f1c9d62f4"
      },
      "execution_count": null,
      "outputs": [
        {
          "output_type": "stream",
          "name": "stdout",
          "text": [
            "Example Domain\n",
            "This domain is for use in illustrative examples in documents. You may use this domain in literature without prior coordination or asking for permission.\n"
          ]
        }
      ]
    },
    {
      "cell_type": "markdown",
      "source": [
        "#如果不是要取得內容，而是要取得本身標籤\n",
        "可以尋求內部標籤\n",
        "可以尋求包含本身標籤以及內部標籤"
      ],
      "metadata": {
        "id": "xUgaAvrbVEEJ"
      }
    },
    {
      "cell_type": "code",
      "source": [
        "html_h1 = h1.get_attribute(\"innerHTML\")\n",
        "print(html_h1)"
      ],
      "metadata": {
        "colab": {
          "base_uri": "https://localhost:8080/"
        },
        "id": "hef-iIlKVjP8",
        "outputId": "e3484bde-ca1b-4a18-aac8-bfdc157639c1"
      },
      "execution_count": null,
      "outputs": [
        {
          "output_type": "stream",
          "name": "stdout",
          "text": [
            "Example Domain\n"
          ]
        }
      ]
    },
    {
      "cell_type": "code",
      "source": [
        "html_h1 = h1.get_attribute(\"outerHTML\")\n",
        "print(html_h1)"
      ],
      "metadata": {
        "colab": {
          "base_uri": "https://localhost:8080/"
        },
        "id": "ctXn9DDWVrYf",
        "outputId": "3a863b90-7f79-4a15-d03d-bdae133b4612"
      },
      "execution_count": null,
      "outputs": [
        {
          "output_type": "stream",
          "name": "stdout",
          "text": [
            "<h1>Example Domain</h1>\n"
          ]
        }
      ]
    },
    {
      "cell_type": "markdown",
      "source": [
        "#使用beautiful soup"
      ],
      "metadata": {
        "id": "rmVaOwqiWKPJ"
      }
    },
    {
      "cell_type": "code",
      "source": [
        "soup = BeautifulSoup(driver.page_source, \"lxml\")\n",
        "tag_h1 = soup.find(\"h1\")\n",
        "print(tag_h1.string)\n",
        "tag_p = soup.find(\"p\")\n",
        "print(tag_p.string)\n",
        "#注意跟Selenium 相比 會保留換行與空白"
      ],
      "metadata": {
        "colab": {
          "base_uri": "https://localhost:8080/"
        },
        "id": "Wf99cEPsV8rf",
        "outputId": "32ac269b-a3c6-4814-baaf-11e85867e8e5"
      },
      "execution_count": null,
      "outputs": [
        {
          "output_type": "stream",
          "name": "stdout",
          "text": [
            "Example Domain\n",
            "This domain is for use in illustrative examples in documents. You may use this\n",
            "    domain in literature without prior coordination or asking for permission.\n"
          ]
        }
      ]
    },
    {
      "cell_type": "code",
      "source": [
        "soup"
      ],
      "metadata": {
        "colab": {
          "base_uri": "https://localhost:8080/"
        },
        "id": "xDlLsT8dWygf",
        "outputId": "7e9edce4-6bd5-4716-9063-631bf7421fab"
      },
      "execution_count": null,
      "outputs": [
        {
          "output_type": "execute_result",
          "data": {
            "text/plain": [
              "<html><head>\n",
              "<title>Example Domain</title>\n",
              "<meta charset=\"utf-8\"/>\n",
              "<meta content=\"text/html; charset=utf-8\" http-equiv=\"Content-type\"/>\n",
              "<meta content=\"width=device-width, initial-scale=1\" name=\"viewport\"/>\n",
              "<style type=\"text/css\">\n",
              "    body {\n",
              "        background-color: #f0f0f2;\n",
              "        margin: 0;\n",
              "        padding: 0;\n",
              "        font-family: -apple-system, system-ui, BlinkMacSystemFont, \"Segoe UI\", \"Open Sans\", \"Helvetica Neue\", Helvetica, Arial, sans-serif;\n",
              "        \n",
              "    }\n",
              "    div {\n",
              "        width: 600px;\n",
              "        margin: 5em auto;\n",
              "        padding: 2em;\n",
              "        background-color: #fdfdff;\n",
              "        border-radius: 0.5em;\n",
              "        box-shadow: 2px 3px 7px 2px rgba(0,0,0,0.02);\n",
              "    }\n",
              "    a:link, a:visited {\n",
              "        color: #38488f;\n",
              "        text-decoration: none;\n",
              "    }\n",
              "    @media (max-width: 700px) {\n",
              "        div {\n",
              "            margin: 0 auto;\n",
              "            width: auto;\n",
              "        }\n",
              "    }\n",
              "    </style>\n",
              "</head>\n",
              "<body>\n",
              "<div>\n",
              "<h1>Example Domain</h1>\n",
              "<p>This domain is for use in illustrative examples in documents. You may use this\n",
              "    domain in literature without prior coordination or asking for permission.</p>\n",
              "<p><a href=\"https://www.iana.org/domains/example\">More information...</a></p>\n",
              "</div>\n",
              "</body></html>"
            ]
          },
          "metadata": {},
          "execution_count": 45
        }
      ]
    },
    {
      "cell_type": "markdown",
      "source": [
        "#SELENIUM 可止元多種網頁\n",
        "定位函數\n",
        "find_element_by_??()\n",
        "find_elements_by_??() >可以取回清單  >這個方法已經不能用了\n"
      ],
      "metadata": {
        "id": "62OIUZ5lcGHO"
      }
    },
    {
      "cell_type": "code",
      "source": [
        "from google.colab import files\n",
        "uploaded = files.upload()  #上傳測試檔案"
      ],
      "metadata": {
        "colab": {
          "base_uri": "https://localhost:8080/",
          "height": 59
        },
        "id": "WZrdc7RocTAp",
        "outputId": "31c6eaca-3f3c-4e43-f982-34b65c0d9b90"
      },
      "execution_count": null,
      "outputs": [
        {
          "output_type": "display_data",
          "data": {
            "text/plain": [
              "<IPython.core.display.HTML object>"
            ],
            "text/html": [
              "\n",
              "     <input type=\"file\" id=\"files-86d51f3b-fb31-41fc-a0d2-701178c16a96\" name=\"files[]\" multiple disabled\n",
              "        style=\"border:none\" />\n",
              "     <output id=\"result-86d51f3b-fb31-41fc-a0d2-701178c16a96\">\n",
              "      Upload widget is only available when the cell has been executed in the\n",
              "      current browser session. Please rerun this cell to enable.\n",
              "      </output>\n",
              "      <script>// Copyright 2017 Google LLC\n",
              "//\n",
              "// Licensed under the Apache License, Version 2.0 (the \"License\");\n",
              "// you may not use this file except in compliance with the License.\n",
              "// You may obtain a copy of the License at\n",
              "//\n",
              "//      http://www.apache.org/licenses/LICENSE-2.0\n",
              "//\n",
              "// Unless required by applicable law or agreed to in writing, software\n",
              "// distributed under the License is distributed on an \"AS IS\" BASIS,\n",
              "// WITHOUT WARRANTIES OR CONDITIONS OF ANY KIND, either express or implied.\n",
              "// See the License for the specific language governing permissions and\n",
              "// limitations under the License.\n",
              "\n",
              "/**\n",
              " * @fileoverview Helpers for google.colab Python module.\n",
              " */\n",
              "(function(scope) {\n",
              "function span(text, styleAttributes = {}) {\n",
              "  const element = document.createElement('span');\n",
              "  element.textContent = text;\n",
              "  for (const key of Object.keys(styleAttributes)) {\n",
              "    element.style[key] = styleAttributes[key];\n",
              "  }\n",
              "  return element;\n",
              "}\n",
              "\n",
              "// Max number of bytes which will be uploaded at a time.\n",
              "const MAX_PAYLOAD_SIZE = 100 * 1024;\n",
              "\n",
              "function _uploadFiles(inputId, outputId) {\n",
              "  const steps = uploadFilesStep(inputId, outputId);\n",
              "  const outputElement = document.getElementById(outputId);\n",
              "  // Cache steps on the outputElement to make it available for the next call\n",
              "  // to uploadFilesContinue from Python.\n",
              "  outputElement.steps = steps;\n",
              "\n",
              "  return _uploadFilesContinue(outputId);\n",
              "}\n",
              "\n",
              "// This is roughly an async generator (not supported in the browser yet),\n",
              "// where there are multiple asynchronous steps and the Python side is going\n",
              "// to poll for completion of each step.\n",
              "// This uses a Promise to block the python side on completion of each step,\n",
              "// then passes the result of the previous step as the input to the next step.\n",
              "function _uploadFilesContinue(outputId) {\n",
              "  const outputElement = document.getElementById(outputId);\n",
              "  const steps = outputElement.steps;\n",
              "\n",
              "  const next = steps.next(outputElement.lastPromiseValue);\n",
              "  return Promise.resolve(next.value.promise).then((value) => {\n",
              "    // Cache the last promise value to make it available to the next\n",
              "    // step of the generator.\n",
              "    outputElement.lastPromiseValue = value;\n",
              "    return next.value.response;\n",
              "  });\n",
              "}\n",
              "\n",
              "/**\n",
              " * Generator function which is called between each async step of the upload\n",
              " * process.\n",
              " * @param {string} inputId Element ID of the input file picker element.\n",
              " * @param {string} outputId Element ID of the output display.\n",
              " * @return {!Iterable<!Object>} Iterable of next steps.\n",
              " */\n",
              "function* uploadFilesStep(inputId, outputId) {\n",
              "  const inputElement = document.getElementById(inputId);\n",
              "  inputElement.disabled = false;\n",
              "\n",
              "  const outputElement = document.getElementById(outputId);\n",
              "  outputElement.innerHTML = '';\n",
              "\n",
              "  const pickedPromise = new Promise((resolve) => {\n",
              "    inputElement.addEventListener('change', (e) => {\n",
              "      resolve(e.target.files);\n",
              "    });\n",
              "  });\n",
              "\n",
              "  const cancel = document.createElement('button');\n",
              "  inputElement.parentElement.appendChild(cancel);\n",
              "  cancel.textContent = 'Cancel upload';\n",
              "  const cancelPromise = new Promise((resolve) => {\n",
              "    cancel.onclick = () => {\n",
              "      resolve(null);\n",
              "    };\n",
              "  });\n",
              "\n",
              "  // Wait for the user to pick the files.\n",
              "  const files = yield {\n",
              "    promise: Promise.race([pickedPromise, cancelPromise]),\n",
              "    response: {\n",
              "      action: 'starting',\n",
              "    }\n",
              "  };\n",
              "\n",
              "  cancel.remove();\n",
              "\n",
              "  // Disable the input element since further picks are not allowed.\n",
              "  inputElement.disabled = true;\n",
              "\n",
              "  if (!files) {\n",
              "    return {\n",
              "      response: {\n",
              "        action: 'complete',\n",
              "      }\n",
              "    };\n",
              "  }\n",
              "\n",
              "  for (const file of files) {\n",
              "    const li = document.createElement('li');\n",
              "    li.append(span(file.name, {fontWeight: 'bold'}));\n",
              "    li.append(span(\n",
              "        `(${file.type || 'n/a'}) - ${file.size} bytes, ` +\n",
              "        `last modified: ${\n",
              "            file.lastModifiedDate ? file.lastModifiedDate.toLocaleDateString() :\n",
              "                                    'n/a'} - `));\n",
              "    const percent = span('0% done');\n",
              "    li.appendChild(percent);\n",
              "\n",
              "    outputElement.appendChild(li);\n",
              "\n",
              "    const fileDataPromise = new Promise((resolve) => {\n",
              "      const reader = new FileReader();\n",
              "      reader.onload = (e) => {\n",
              "        resolve(e.target.result);\n",
              "      };\n",
              "      reader.readAsArrayBuffer(file);\n",
              "    });\n",
              "    // Wait for the data to be ready.\n",
              "    let fileData = yield {\n",
              "      promise: fileDataPromise,\n",
              "      response: {\n",
              "        action: 'continue',\n",
              "      }\n",
              "    };\n",
              "\n",
              "    // Use a chunked sending to avoid message size limits. See b/62115660.\n",
              "    let position = 0;\n",
              "    do {\n",
              "      const length = Math.min(fileData.byteLength - position, MAX_PAYLOAD_SIZE);\n",
              "      const chunk = new Uint8Array(fileData, position, length);\n",
              "      position += length;\n",
              "\n",
              "      const base64 = btoa(String.fromCharCode.apply(null, chunk));\n",
              "      yield {\n",
              "        response: {\n",
              "          action: 'append',\n",
              "          file: file.name,\n",
              "          data: base64,\n",
              "        },\n",
              "      };\n",
              "\n",
              "      let percentDone = fileData.byteLength === 0 ?\n",
              "          100 :\n",
              "          Math.round((position / fileData.byteLength) * 100);\n",
              "      percent.textContent = `${percentDone}% done`;\n",
              "\n",
              "    } while (position < fileData.byteLength);\n",
              "  }\n",
              "\n",
              "  // All done.\n",
              "  yield {\n",
              "    response: {\n",
              "      action: 'complete',\n",
              "    }\n",
              "  };\n",
              "}\n",
              "\n",
              "scope.google = scope.google || {};\n",
              "scope.google.colab = scope.google.colab || {};\n",
              "scope.google.colab._files = {\n",
              "  _uploadFiles,\n",
              "  _uploadFilesContinue,\n",
              "};\n",
              "})(self);\n",
              "</script> "
            ]
          },
          "metadata": {}
        },
        {
          "output_type": "stream",
          "name": "stdout",
          "text": [
            "Saving Ch7_4.html to Ch7_4 (1).html\n"
          ]
        }
      ]
    },
    {
      "cell_type": "code",
      "source": [
        "uploaded"
      ],
      "metadata": {
        "colab": {
          "base_uri": "https://localhost:8080/"
        },
        "id": "BIZu29hCLE-C",
        "outputId": "02b32215-6a3f-4c26-8e9f-4013a3ff35c3"
      },
      "execution_count": null,
      "outputs": [
        {
          "output_type": "execute_result",
          "data": {
            "text/plain": [
              "{'Ch7_4.html': b'<!DOCTYPE html>\\r\\n<html>\\r\\n<head>\\r\\n  <meta charset=\"utf-8\"/>\\r\\n  <title>\\xe5\\xae\\x9a\\xe4\\xbd\\x8d\\xe5\\x87\\xbd\\xe6\\x95\\xb8\\xe6\\xb8\\xac\\xe8\\xa9\\xa6\\xe7\\x9a\\x84HTML\\xe7\\xb6\\xb2\\xe9\\xa0\\x81\\xe6\\xaa\\x94\\xe6\\xa1\\x88</title>\\r\\n</head>\\r\\n<body>\\r\\n  <h3 class=\"content\">\\xe8\\xab\\x8b\\xe8\\xbc\\xb8\\xe5\\x85\\xa5\\xe5\\x90\\x8d\\xe7\\xa8\\xb1\\xe5\\x92\\x8c\\xe5\\xaf\\x86\\xe7\\xa2\\xbc\\xe7\\x99\\xbb\\xe5\\x85\\xa5\\xe7\\xb6\\xb2\\xe7\\xab\\x99...</h3>\\r\\n  <form id=\"loginForm\">\\r\\n   \\xe5\\x90\\x8d\\xe7\\xa8\\xb1:\\r\\n   <input type=\"text\" name=\"username\" id=\"loginName\"/><br/>\\r\\n   \\xe5\\xaf\\x86\\xe7\\xa2\\xbc:\\r\\n   <input type=\"text\" name=\"password\" id=\"loginPwd\"/><br/>\\r\\n   <input type=\"submit\" name=\"continue\" value=\"\\xe7\\x99\\xbb\\xe5\\x85\\xa5\"/>\\r\\n   <input type=\"button\" name=\"continue\" value=\"\\xe6\\xb8\\x85\\xe9\\x99\\xa4\"/>\\r\\n  </form>\\r\\n  <p class=\"question\">\\xe7\\xa2\\xba\\xe8\\xaa\\x8d\\xe5\\x9f\\xb7\\xe8\\xa1\\x8c\\xe7\\x99\\xbb\\xe5\\x85\\xa5\\xe6\\x93\\x8d\\xe4\\xbd\\x9c?</p>\\r\\n  <a href=\"continue.html\">Continue</a>\\r\\n  <a href=\"cancel.html\">\\xe5\\x8f\\x96\\xe6\\xb6\\x88</a>\\r\\n</body>\\r\\n</html>'}"
            ]
          },
          "metadata": {},
          "execution_count": 74
        }
      ]
    },
    {
      "cell_type": "code",
      "source": [
        "from selenium.webdriver.common.by import By\n",
        "h3 = driver.find_element(By.TAG_NAME, \"h3\")\n",
        "print(h3.text)"
      ],
      "metadata": {
        "id": "kj_F6kVvgSx2"
      },
      "execution_count": null,
      "outputs": []
    },
    {
      "cell_type": "markdown",
      "source": [
        "#Selenium 執行google搜尋\n"
      ],
      "metadata": {
        "id": "Py9LwVqAewdu"
      }
    },
    {
      "cell_type": "code",
      "source": [
        "from selenium import webdriver\n",
        "from bs4 import BeautifulSoup\n",
        "URL = \"https://www.google.com/webhp?hl=zh-TW&sa=X&ved=0ahUKEwit1a3koaf_AhUKEogKHQm0AO4QPAgI\"\n",
        "\n",
        "options = webdriver.ChromeOptions()\n",
        "options.add_argument(\"--headless\")\n",
        "options.add_argument('--disable-dev-shm-usage')\n",
        "options.add_argument(\"--no-sandbox\")\n",
        "\n",
        "driver = webdriver.Chrome(\n",
        "    options=options\n",
        ")\n",
        "driver.implicitly_wait(30)#讓網頁等待十秒以防還沒完全載入\n",
        "driver.get(URL)\n"
      ],
      "metadata": {
        "id": "dVWAPhplddHe"
      },
      "execution_count": null,
      "outputs": []
    },
    {
      "cell_type": "code",
      "source": [
        "from selenium.webdriver.common.keys import Keys\n",
        "from selenium.webdriver.common.by import By"
      ],
      "metadata": {
        "id": "kGxjUmEVKz3U"
      },
      "execution_count": null,
      "outputs": []
    },
    {
      "cell_type": "code",
      "source": [
        "keyword = driver.find_element(By.CSS_SELECTOR, \"#APjFqb\")\n",
        "keyword.send_keys(\"蔡阿嘎\")\n",
        "keyword.send_keys(Keys.ENTER)"
      ],
      "metadata": {
        "id": "unW4aySffSYk"
      },
      "execution_count": null,
      "outputs": []
    },
    {
      "cell_type": "code",
      "source": [
        "items = driver.find_elements(By.XPATH, \"//div[@class='yuRUbf']\") #抓取xpath\n",
        "for item in items:\n",
        "    h3 = item.find_element(By.TAG_NAME, \"h3\")\n",
        "    print(h3.text)\n",
        "    a = item.find_element(By.TAG_NAME, \"a\") #抓取標籤\n",
        "    print(a.get_attribute(\"href\"))\n",
        "    \n",
        "#driver.quit()"
      ],
      "metadata": {
        "colab": {
          "base_uri": "https://localhost:8080/"
        },
        "id": "yMX7pmcagrRe",
        "outputId": "c5996b0c-cbb9-469a-97e9-8f4d9a9cfab0"
      },
      "execution_count": null,
      "outputs": [
        {
          "output_type": "stream",
          "name": "stdout",
          "text": [
            "蔡阿嘎543\n",
            "https://www.youtube.com/channel/UC8LCkeaTXk8ONRTFJ8b6klw\n",
            "蔡阿嘎 - YouTube\n",
            "https://www.youtube.com/@TsaiAGa\n",
            "蔡阿嘎\n",
            "https://www.facebook.com/WithGaLoveTaiwan/\n",
            "蔡阿嘎543 - Spotify\n",
            "https://open.spotify.com/show/78496VAXcPyPK4B1PuhhWa\n",
            "蔡阿嘎- 維基百科，自由的百科全書\n",
            "https://zh.wikipedia.org/zh-hant/%E8%94%A1%E9%98%BF%E5%98%8E\n",
            "蔡阿嘎543 on Apple Podcasts\n",
            "https://podcasts.apple.com/sg/podcast/%E8%94%A1%E9%98%BF%E5%98%8E543/id1636817588\n",
            "蔡阿嘎遭「日本2大女神」包夾！網怒：自肥 - Yahoo奇摩新聞\n",
            "https://tw.news.yahoo.com/%E8%94%A1%E9%98%BF%E5%98%8E%E9%81%AD-%E6%97%A5%E6%9C%AC2%E5%A4%A7%E5%A5%B3%E7%A5%9E-%E5%8C%85%E5%A4%BE-%E7%B6%B2%E6%80%92-%E8%87%AA%E8%82%A5-070951630.html\n",
            "蔡阿嘎嘲笑日本5名店！在台日本人發聲分析 - Yahoo奇摩新聞\n",
            "https://tw.news.yahoo.com/%E8%94%A1%E9%98%BF%E5%98%8E%E5%98%B2%E7%AC%91%E6%97%A5%E6%9C%AC5%E5%90%8D%E5%BA%97-%E5%9C%A8%E5%8F%B0%E6%97%A5%E6%9C%AC%E4%BA%BA%E7%99%BC%E8%81%B2%E5%88%86%E6%9E%90-073650637.html\n",
            "《欧美男和日本女AV ed2k》资源列表-塞尔维亚剧\n",
            "http://app.idiabetes.com.cn/news/?r3T8/\n"
          ]
        }
      ]
    },
    {
      "cell_type": "markdown",
      "source": [
        "#進行表單互動(也可以用HTML 完成)詳情可看爬取COVID19\n",
        "登入github"
      ],
      "metadata": {
        "id": "Aq4CUUawuLHR"
      }
    },
    {
      "cell_type": "code",
      "source": [
        "from selenium import webdriver\n",
        "from bs4 import BeautifulSoup\n",
        "URL = \"https://github.com/login\"\n",
        "\n",
        "options = webdriver.ChromeOptions()\n",
        "options.add_argument(\"--headless\")\n",
        "options.add_argument('--disable-dev-shm-usage')\n",
        "options.add_argument(\"--no-sandbox\")\n",
        "\n",
        "driver = webdriver.Chrome(\n",
        "    options=options\n",
        ")\n",
        "driver.implicitly_wait(30)#讓網頁等待十秒以防還沒完全載入\n",
        "driver.get(URL)"
      ],
      "metadata": {
        "id": "uuvK92bek3V_"
      },
      "execution_count": null,
      "outputs": []
    },
    {
      "cell_type": "code",
      "source": [
        "from selenium.webdriver.common.keys import Keys\n",
        "from selenium.webdriver.common.by import By"
      ],
      "metadata": {
        "id": "RuHW730FkVp3"
      },
      "execution_count": null,
      "outputs": []
    },
    {
      "cell_type": "code",
      "source": [
        "#USERNAME #login_field\n",
        "#PASSWORD #password\n",
        "#SIGN IN  #login > input.btn.btn-primary.btn-block.js-sign-in-button\n",
        "\n",
        "username = \"ghrothlin@gmail.com\"\n",
        "password = \"XXXXXXXXXXXXX\"\n",
        "user = driver.find_element(By.CSS_SELECTOR, \"#login_field\")\n",
        "user.send_keys(username)\n",
        "pwd = driver.find_element(By.CSS_SELECTOR,\"#password\")\n",
        "pwd.send_keys(password)\n",
        "button = driver.find_element(By.CSS_SELECTOR,\"input.btn.btn-primary.btn-block.js-sign-in-button\")\n",
        "button.click()"
      ],
      "metadata": {
        "id": "K_UpRAs8kVjO"
      },
      "execution_count": null,
      "outputs": []
    },
    {
      "cell_type": "code",
      "source": [
        "items = driver.find_elements(By.TAG_NAME, 'a')\n",
        "for item in items:\n",
        "  print(item.text)\n",
        "  print(item.get_attribute(\"href\"))\n",
        "#driver.quit()"
      ],
      "metadata": {
        "colab": {
          "base_uri": "https://localhost:8080/"
        },
        "id": "fnmU0ooEvzaV",
        "outputId": "667679ce-d87b-437d-9d6a-c62627a42a4d"
      },
      "execution_count": null,
      "outputs": [
        {
          "output_type": "stream",
          "name": "stdout",
          "text": [
            "Skip to content\n",
            "https://github.com/sessions/verified-device/mobile?auto=true#start-of-content\n",
            "\n",
            "https://github.com/\n",
            "Retry\n",
            "https://github.com/sessions/verified-device/mobile\n",
            "\n",
            "https://github.com/login\n",
            "Send a verification code via email\n",
            "https://github.com/sessions/two-factor/mobile_metrics?auto=true&reason=verified_devices_prompt\n",
            "two-factor authentication\n",
            "https://docs.github.com/articles/configuring-two-factor-authentication\n",
            "Terms\n",
            "https://github.com/site/terms\n",
            "Privacy\n",
            "https://github.com/site/privacy\n",
            "Security\n",
            "https://github.com/security\n",
            "Contact GitHub\n",
            "https://github.com/contact\n",
            "\n",
            "\n",
            "\n",
            "\n"
          ]
        }
      ]
    },
    {
      "cell_type": "markdown",
      "source": [
        "#下拉式功能表\n",
        "進入python 官網進行下拉式選單\n"
      ],
      "metadata": {
        "id": "ra3NLzenz3K4"
      }
    },
    {
      "cell_type": "code",
      "source": [
        "from selenium import webdriver\n",
        "from bs4 import BeautifulSoup\n",
        "URL = \"https://www.python.org/\"\n",
        "\n",
        "options = webdriver.ChromeOptions()\n",
        "options.add_argument(\"--headless\")\n",
        "options.add_argument('--disable-dev-shm-usage')\n",
        "options.add_argument(\"--no-sandbox\")\n",
        "\n",
        "driver = webdriver.Chrome(\n",
        "    options=options\n",
        ")\n",
        "driver.implicitly_wait(30)#讓網頁等待十秒以防還沒完全載入\n",
        "driver.get(URL)"
      ],
      "metadata": {
        "id": "Id4p_OJ5zIvJ"
      },
      "execution_count": null,
      "outputs": []
    },
    {
      "cell_type": "code",
      "source": [
        "from selenium.webdriver.common.keys import Keys\n",
        "from selenium.webdriver.common.by import By\n",
        "from selenium.webdriver.common.action_chains import ActionChains\n",
        "import time"
      ],
      "metadata": {
        "id": "4DJuJi0y07ar"
      },
      "execution_count": null,
      "outputs": []
    },
    {
      "cell_type": "code",
      "source": [
        "#about  #about\n",
        "#applications #about > ul > li.tier-2.element-1 > a\n",
        "menu = driver.find_element(By.CSS_SELECTOR, \"#about\")\n",
        "item= driver.find_element(By.CSS_SELECTOR, \"#about > ul > li.tier-2.element-1 > a\")\n",
        "actions = ActionChains(driver)\n",
        "actions.move_to_element(menu)\n",
        "actions.click(item)\n",
        "actions.perform() #actions.perform()方法是将操作链应用于当前的WebDriver对象。它会按顺序执行每个操作，模拟用户与网页的交互。\n",
        "time.sleep(5)\n",
        "#也可以將以上動作變成一條\n",
        "#ActionChains(driver).move_to_element(menu).click(item).perform()\n",
        "#driver.quit()"
      ],
      "metadata": {
        "id": "EbdJ-qn_09PO"
      },
      "execution_count": null,
      "outputs": []
    },
    {
      "cell_type": "code",
      "source": [
        "#/html/body/div/div[3]/div/section/article/header/h1\n",
        "items = driver.find_element(By.XPATH, '/html/body/div/div[3]/div/section/article/header/h1')\n",
        "item.text"
      ],
      "metadata": {
        "colab": {
          "base_uri": "https://localhost:8080/",
          "height": 36
        },
        "id": "DgnTgAIt1xNT",
        "outputId": "cb06ca01-6764-4904-ca2e-720537e23765"
      },
      "execution_count": null,
      "outputs": [
        {
          "output_type": "execute_result",
          "data": {
            "text/plain": [
              "'Applications for Python'"
            ],
            "application/vnd.google.colaboratory.intrinsic+json": {
              "type": "string"
            }
          },
          "metadata": {},
          "execution_count": 192
        }
      ]
    },
    {
      "cell_type": "markdown",
      "source": [
        "#Javascript 動態網頁擷取\n",
        "抓取hahow學校的課程"
      ],
      "metadata": {
        "id": "YNwUu6IA32uf"
      }
    },
    {
      "cell_type": "code",
      "source": [
        "from selenium import webdriver\n",
        "from bs4 import BeautifulSoup\n",
        "URL = \"https://hahow.in/courses\"\n",
        "\n",
        "options = webdriver.ChromeOptions()\n",
        "options.add_argument(\"--headless\")\n",
        "options.add_argument('--disable-dev-shm-usage')\n",
        "options.add_argument(\"--no-sandbox\")\n",
        "\n",
        "driver = webdriver.Chrome(\n",
        "    options=options\n",
        ")\n",
        "driver.implicitly_wait(30)#讓網頁等待十秒以防還沒完全載入\n",
        "driver.get(URL)"
      ],
      "metadata": {
        "id": "6Lv3Pxtk267n"
      },
      "execution_count": null,
      "outputs": []
    },
    {
      "cell_type": "code",
      "source": [
        "##main-screen > div > div.container > div:nth-child(2) > div > a:nth-child(1) > div > div.flex > div.course-meta > h4\n",
        "##main-screen > div > div.container > div:nth-child(2) > div > a:nth-child(2) > div > div.flex > div.course-meta > h4\n",
        "\n",
        "items = driver.find_elements(By.CSS_SELECTOR, \"h4\")\n",
        "for item in items:\n",
        "  print(item.text)"
      ],
      "metadata": {
        "colab": {
          "base_uri": "https://localhost:8080/"
        },
        "id": "lgW40j4R4lN1",
        "outputId": "e74ab067-af52-4b16-b2ed-952f10b2278a"
      },
      "execution_count": null,
      "outputs": [
        {
          "output_type": "stream",
          "name": "stdout",
          "text": [
            "撰股機器人：打造 Python 股票機器人\n",
            "品牌經理養成班：外商行銷前輩帶你入行\n",
            "練出日語聽說實戰力：電話情境會話全攻略\n",
            "Python x Pytest x TDD 自動化產品測試\n",
            "職場英文大補帖｜科技英文寫作快易通\n",
            "跟著 MASA 煮出日本道地家常菜！快速 x 多變的日式常備菜與特色料理\n",
            "站在巨人的肩上！ESG 企業實戰對談\n",
            "兒福聯盟嬰幼兒親職培力課：啟動親子心關係\n",
            "一日精通籌碼密技特訓班｜財訊ｘ豹投資\n",
            "獨門脫韭術：新手也能懂的股票投資術\n",
            "ChatGPT x WordPress 不寫程式打造內容行銷利器\n",
            "林思翰的 AIGC 工作流：聚焦核心問題，打造創意實戰力\n",
            "股票期貨二合一：創造台股最佳投資效益\n",
            "跨領域數位人才培育專題沙龍－活動精華摘錄\n",
            "跑者瑜伽：深長呼吸，調理身心，遠離傷害\n",
            "從收藏、鑑賞到發行 NFT：生成式藝術全攻略\n",
            "單字從此不靠背！Sonny 的秒懂英文字彙力\n",
            "AI 時代人人必學：用 ChatGPT 全面升級你的工作流程\n",
            "聰明主管的正向領導學\n",
            "劉必榮最受歡迎的談判課\n",
            "矽谷專家給新手的第一堂數據管理課\n",
            "解密成功品牌\n",
            "CEO 的 24 堂經營智慧課\n",
            "AI 繪圖溝通術：搭上 AI 藝術的魔法列車\n"
          ]
        }
      ]
    }
  ]
}