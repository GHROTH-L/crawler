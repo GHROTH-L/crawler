{
  "nbformat": 4,
  "nbformat_minor": 0,
  "metadata": {
    "colab": {
      "provenance": [],
      "authorship_tag": "ABX9TyPKHNY3C2w9le3RIPbVzsGJ",
      "include_colab_link": true
    },
    "kernelspec": {
      "name": "python3",
      "display_name": "Python 3"
    },
    "language_info": {
      "name": "python"
    }
  },
  "cells": [
    {
      "cell_type": "markdown",
      "metadata": {
        "id": "view-in-github",
        "colab_type": "text"
      },
      "source": [
        "<a href=\"https://colab.research.google.com/github/GHROTH-L/crawler/blob/main/webcrawler2.ipynb\" target=\"_parent\"><img src=\"https://colab.research.google.com/assets/colab-badge.svg\" alt=\"Open In Colab\"/></a>"
      ]
    },
    {
      "cell_type": "markdown",
      "source": [
        "#連續抓取頁面\n",
        "###進入網址，連續抓取\n",
        "###cookie 解決"
      ],
      "metadata": {
        "id": "JFg5_w2tW88H"
      }
    },
    {
      "cell_type": "code",
      "source": [
        "import urllib.request as req\n",
        "#抓取八卦版的原始碼\n",
        "url = \"https://www.ptt.cc/bbs/Gossiping/index.html\"\n",
        "#建立一個request 物件\n",
        "# 因為如果單純要求網頁容易被拒絕 所以要讓自己看起來像個人類\n",
        "# 網頁 >開發人員工具>網頁 >標頭>右邊格子的標頭 \n",
        "#開發人員>application >cookies (左邊選單)>下變就會出現cookies (over18)\n",
        "request = req.Request(url, headers ={\n",
        "    \"User-Agent\":\"Mozilla/5.0 (Windows NT 10.0; Win64; x64) AppleWebKit/537.36 (KHTML, like Gecko) Chrome/113.0.0.0 Safari/537.36\",\n",
        "    \"cookie\":\"over18=1\"\n",
        "})\n",
        "\n",
        "with req.urlopen(request) as response:\n",
        "  data = response.read().decode(\"utf-8\")"
      ],
      "metadata": {
        "id": "WDd5Jq_sW8oW"
      },
      "execution_count": 2,
      "outputs": []
    },
    {
      "cell_type": "code",
      "execution_count": 3,
      "metadata": {
        "id": "xGdJjToBW4VK"
      },
      "outputs": [],
      "source": [
        "import bs4"
      ]
    },
    {
      "cell_type": "code",
      "source": [
        "root = bs4.BeautifulSoup (data, \"html.parser\")  #告訴她剛剛下載下來的是html\n",
        "titles_all = root.find_all(\"div\", class_=\"title\") #搜尋 class = \"title\"的div 標籤"
      ],
      "metadata": {
        "id": "lcQymvpcYSgb"
      },
      "execution_count": 5,
      "outputs": []
    },
    {
      "cell_type": "code",
      "source": [
        "titles_all"
      ],
      "metadata": {
        "colab": {
          "base_uri": "https://localhost:8080/"
        },
        "id": "gi4SALaYExKx",
        "outputId": "f4354f4c-7ada-4c60-8f51-4e712a4eaf2a"
      },
      "execution_count": 6,
      "outputs": [
        {
          "output_type": "execute_result",
          "data": {
            "text/plain": [
              "[<div class=\"title\">\n",
              " <a href=\"/bbs/Gossiping/M.1684223301.A.943.html\">[問卦] 天使新世界聖戰軍 Day345</a>\n",
              " </div>,\n",
              " <div class=\"title\">\n",
              " <a href=\"/bbs/Gossiping/M.1684223309.A.C3F.html\">[問卦] 區塊鏈、5G、元宇宙哪個比較有用？</a>\n",
              " </div>,\n",
              " <div class=\"title\">\n",
              " <a href=\"/bbs/Gossiping/M.1684223310.A.2B7.html\">[問卦] 長官紅人一直搞自己要怎麼辦</a>\n",
              " </div>,\n",
              " <div class=\"title\">\n",
              " <a href=\"/bbs/Gossiping/M.1684223434.A.380.html\">[問卦] 冷氣是不是買太強了?</a>\n",
              " </div>,\n",
              " <div class=\"title\">\n",
              " <a href=\"/bbs/Gossiping/M.1684223439.A.787.html\">[問卦] 去美國德州要注意啥？</a>\n",
              " </div>,\n",
              " <div class=\"title\">\n",
              " <a href=\"/bbs/Gossiping/M.1684223441.A.334.html\">[問卦] 大S跟小菲 還在吵床墊的遺產問題嗎</a>\n",
              " </div>,\n",
              " <div class=\"title\">\n",
              " <a href=\"/bbs/Gossiping/M.1684223470.A.DB0.html\">[問卦] 中國就算內部崩了也是對外宣稱良好？</a>\n",
              " </div>,\n",
              " <div class=\"title\">\n",
              " <a href=\"/bbs/Gossiping/M.1684223484.A.7A2.html\">[問卦] 被百合媽媽×2領養要怎麼適應</a>\n",
              " </div>,\n",
              " <div class=\"title\">\n",
              " <a href=\"/bbs/Gossiping/M.1684223493.A.EF6.html\">[問卦] 館長當初和吃屎哥打拳怎沒有賣票？</a>\n",
              " </div>,\n",
              " <div class=\"title\">\n",
              " <a href=\"/bbs/Gossiping/M.1684223521.A.989.html\">Re: [問卦] 為什麼現在年輕人不上健身房了</a>\n",
              " </div>,\n",
              " <div class=\"title\">\n",
              " <a href=\"/bbs/Gossiping/M.1684223632.A.282.html\">[新聞] 週休三日恐讓寒暑假消失 教團籲:不減薪</a>\n",
              " </div>,\n",
              " <div class=\"title\">\n",
              " <a href=\"/bbs/Gossiping/M.1684223638.A.6FC.html\">[問卦] 為什麼看企鵝比較不會討厭？</a>\n",
              " </div>,\n",
              " <div class=\"title\">\n",
              " <a href=\"/bbs/Gossiping/M.1684223671.A.ED3.html\">Re: [問卦] 俄羅斯人怎麼可以一手好牌打得超爛</a>\n",
              " </div>,\n",
              " <div class=\"title\">\n",
              " <a href=\"/bbs/Gossiping/M.1684223688.A.62F.html\">[問卦] 會因為老闆認識自己不去特定店嗎</a>\n",
              " </div>,\n",
              " <div class=\"title\">\n",
              " <a href=\"/bbs/Gossiping/M.1684223717.A.DBC.html\">[新聞] 山葉R15撞聯結車　騎士「頭掛車斗晃」傷</a>\n",
              " </div>,\n",
              " <div class=\"title\">\n",
              " <a href=\"/bbs/Gossiping/M.1684223728.A.EB0.html\">Re: [問卦] 為什麼同性領養孩子引發社會焦慮？</a>\n",
              " </div>,\n",
              " <div class=\"title\">\n",
              " <a href=\"/bbs/Gossiping/M.1677600392.A.D12.html\">[公告] 八卦板板規(2023.03.01)</a>\n",
              " </div>,\n",
              " <div class=\"title\">\n",
              " <a href=\"/bbs/Gossiping/M.1682072265.A.E99.html\">[爆卦] 內湖托育中心虐嬰（發錢）</a>\n",
              " </div>,\n",
              " <div class=\"title\">\n",
              " <a href=\"/bbs/Gossiping/M.1683371005.A.2C0.html\">[協尋] 發錢 貓咪 雲林斗六環球'嘉新6路' 賞1萬6</a>\n",
              " </div>]"
            ]
          },
          "metadata": {},
          "execution_count": 6
        }
      ]
    },
    {
      "cell_type": "code",
      "source": [
        "for title in titles_all:\n",
        "  if title.a != None: #如果標題有A就把他列出來\n",
        "   print (title.a.string)"
      ],
      "metadata": {
        "colab": {
          "base_uri": "https://localhost:8080/"
        },
        "id": "tybFb8wpY9DQ",
        "outputId": "7f562551-9939-494c-83ae-dda8a00799cf"
      },
      "execution_count": 7,
      "outputs": [
        {
          "output_type": "stream",
          "name": "stdout",
          "text": [
            "[問卦] 天使新世界聖戰軍 Day345\n",
            "[問卦] 區塊鏈、5G、元宇宙哪個比較有用？\n",
            "[問卦] 長官紅人一直搞自己要怎麼辦\n",
            "[問卦] 冷氣是不是買太強了?\n",
            "[問卦] 去美國德州要注意啥？\n",
            "[問卦] 大S跟小菲 還在吵床墊的遺產問題嗎\n",
            "[問卦] 中國就算內部崩了也是對外宣稱良好？\n",
            "[問卦] 被百合媽媽×2領養要怎麼適應\n",
            "[問卦] 館長當初和吃屎哥打拳怎沒有賣票？\n",
            "Re: [問卦] 為什麼現在年輕人不上健身房了\n",
            "[新聞] 週休三日恐讓寒暑假消失 教團籲:不減薪\n",
            "[問卦] 為什麼看企鵝比較不會討厭？\n",
            "Re: [問卦] 俄羅斯人怎麼可以一手好牌打得超爛\n",
            "[問卦] 會因為老闆認識自己不去特定店嗎\n",
            "[新聞] 山葉R15撞聯結車　騎士「頭掛車斗晃」傷\n",
            "Re: [問卦] 為什麼同性領養孩子引發社會焦慮？\n",
            "[公告] 八卦板板規(2023.03.01)\n",
            "[爆卦] 內湖托育中心虐嬰（發錢）\n",
            "[協尋] 發錢 貓咪 雲林斗六環球'嘉新6路' 賞1萬6\n"
          ]
        }
      ]
    },
    {
      "cell_type": "code",
      "source": [
        "list = []\n",
        "for title in titles_all:\n",
        "  if title.a != None: #如果標題有A就把他列出來\n",
        "    list.append(title.a.string) "
      ],
      "metadata": {
        "id": "-A7TN5lhVaxC"
      },
      "execution_count": 8,
      "outputs": []
    },
    {
      "cell_type": "code",
      "source": [
        "list"
      ],
      "metadata": {
        "colab": {
          "base_uri": "https://localhost:8080/"
        },
        "id": "zYynLHvfWG3S",
        "outputId": "e95361fe-b0ad-4a56-92ea-da8e795cc361"
      },
      "execution_count": 9,
      "outputs": [
        {
          "output_type": "execute_result",
          "data": {
            "text/plain": [
              "['[問卦] 天使新世界聖戰軍 Day345',\n",
              " '[問卦] 區塊鏈、5G、元宇宙哪個比較有用？',\n",
              " '[問卦] 長官紅人一直搞自己要怎麼辦',\n",
              " '[問卦] 冷氣是不是買太強了?',\n",
              " '[問卦] 去美國德州要注意啥？',\n",
              " '[問卦] 大S跟小菲 還在吵床墊的遺產問題嗎',\n",
              " '[問卦] 中國就算內部崩了也是對外宣稱良好？',\n",
              " '[問卦] 被百合媽媽×2領養要怎麼適應',\n",
              " '[問卦] 館長當初和吃屎哥打拳怎沒有賣票？',\n",
              " 'Re: [問卦] 為什麼現在年輕人不上健身房了',\n",
              " '[新聞] 週休三日恐讓寒暑假消失 教團籲:不減薪',\n",
              " '[問卦] 為什麼看企鵝比較不會討厭？',\n",
              " 'Re: [問卦] 俄羅斯人怎麼可以一手好牌打得超爛',\n",
              " '[問卦] 會因為老闆認識自己不去特定店嗎',\n",
              " '[新聞] 山葉R15撞聯結車\\u3000騎士「頭掛車斗晃」傷',\n",
              " 'Re: [問卦] 為什麼同性領養孩子引發社會焦慮？',\n",
              " '[公告] 八卦板板規(2023.03.01)',\n",
              " '[爆卦] 內湖托育中心虐嬰（發錢）',\n",
              " \"[協尋] 發錢 貓咪 雲林斗六環球'嘉新6路' 賞1萬6\"]"
            ]
          },
          "metadata": {},
          "execution_count": 9
        }
      ]
    },
    {
      "cell_type": "code",
      "source": [
        "dic = {}\n",
        "for title in list:\n",
        "  if title.startswith('[問卦]'):\n",
        "      dic.setdefault('[問卦]', []).append(title[5:])\n",
        "  elif title.startswith('[新聞]'):\n",
        "      dic.setdefault('[新聞]', []).append(title[5:])\n",
        "  elif title.startswith('[爆卦]'):\n",
        "      dic.setdefault('[爆卦]', []).append(title[5:])\n",
        "  elif title.startswith('[協尋]'):\n",
        "      dic.setdefault('[協尋]', []).append(title[5:]) \n",
        "  "
      ],
      "metadata": {
        "id": "AsN8WHwcXc_q"
      },
      "execution_count": 10,
      "outputs": []
    },
    {
      "cell_type": "code",
      "source": [
        "dic"
      ],
      "metadata": {
        "colab": {
          "base_uri": "https://localhost:8080/"
        },
        "id": "0Vp0-neZyTHW",
        "outputId": "74af0847-4b72-49d6-bcf7-1bb0922a2483"
      },
      "execution_count": 11,
      "outputs": [
        {
          "output_type": "execute_result",
          "data": {
            "text/plain": [
              "{'[問卦]': ['天使新世界聖戰軍 Day345',\n",
              "  '區塊鏈、5G、元宇宙哪個比較有用？',\n",
              "  '長官紅人一直搞自己要怎麼辦',\n",
              "  '冷氣是不是買太強了?',\n",
              "  '去美國德州要注意啥？',\n",
              "  '大S跟小菲 還在吵床墊的遺產問題嗎',\n",
              "  '中國就算內部崩了也是對外宣稱良好？',\n",
              "  '被百合媽媽×2領養要怎麼適應',\n",
              "  '館長當初和吃屎哥打拳怎沒有賣票？',\n",
              "  '為什麼看企鵝比較不會討厭？',\n",
              "  '會因為老闆認識自己不去特定店嗎'],\n",
              " '[新聞]': ['週休三日恐讓寒暑假消失 教團籲:不減薪', '山葉R15撞聯結車\\u3000騎士「頭掛車斗晃」傷'],\n",
              " '[爆卦]': ['內湖托育中心虐嬰（發錢）'],\n",
              " '[協尋]': [\"發錢 貓咪 雲林斗六環球'嘉新6路' 賞1萬6\"]}"
            ]
          },
          "metadata": {},
          "execution_count": 11
        }
      ]
    },
    {
      "cell_type": "code",
      "source": [
        "\n",
        "import pandas as pd\n",
        "df = pd.DataFrame([(k, title) for k, v in dic.items() for title in v], columns=['分類', '標題'])\n",
        "print(df)"
      ],
      "metadata": {
        "colab": {
          "base_uri": "https://localhost:8080/"
        },
        "id": "f8ZTMlgo1JpW",
        "outputId": "af9c4b90-adfe-4d9a-ca2d-0b0f10bb174a"
      },
      "execution_count": 12,
      "outputs": [
        {
          "output_type": "stream",
          "name": "stdout",
          "text": [
            "      分類                       標題\n",
            "0   [問卦]          天使新世界聖戰軍 Day345\n",
            "1   [問卦]        區塊鏈、5G、元宇宙哪個比較有用？\n",
            "2   [問卦]            長官紅人一直搞自己要怎麼辦\n",
            "3   [問卦]               冷氣是不是買太強了?\n",
            "4   [問卦]               去美國德州要注意啥？\n",
            "5   [問卦]        大S跟小菲 還在吵床墊的遺產問題嗎\n",
            "6   [問卦]        中國就算內部崩了也是對外宣稱良好？\n",
            "7   [問卦]           被百合媽媽×2領養要怎麼適應\n",
            "8   [問卦]         館長當初和吃屎哥打拳怎沒有賣票？\n",
            "9   [問卦]            為什麼看企鵝比較不會討厭？\n",
            "10  [問卦]          會因為老闆認識自己不去特定店嗎\n",
            "11  [新聞]      週休三日恐讓寒暑假消失 教團籲:不減薪\n",
            "12  [新聞]     山葉R15撞聯結車　騎士「頭掛車斗晃」傷\n",
            "13  [爆卦]             內湖托育中心虐嬰（發錢）\n",
            "14  [協尋]  發錢 貓咪 雲林斗六環球'嘉新6路' 賞1萬6\n"
          ]
        }
      ]
    },
    {
      "cell_type": "code",
      "source": [
        "#將List 拆開 然後再做成pandas\n",
        "import pandas as pd\n",
        "result = []\n",
        "for i in list:\n",
        "    result.append(i.split(\"]\"))\n",
        "\n",
        "l_data = pd.DataFrame(result, columns=[\"分類\",\"標題\"])\n",
        "l_data['分類'] =l_data['分類'].str.replace('[', '', regex=True) #刪除[\n",
        "l_data"
      ],
      "metadata": {
        "colab": {
          "base_uri": "https://localhost:8080/",
          "height": 645
        },
        "id": "dBK1ipXmj3QS",
        "outputId": "c4df4670-db6f-4f5c-d1a4-852b553b341d"
      },
      "execution_count": 30,
      "outputs": [
        {
          "output_type": "execute_result",
          "data": {
            "text/plain": [
              "        分類                        標題\n",
              "0       問卦           天使新世界聖戰軍 Day345\n",
              "1       問卦         區塊鏈、5G、元宇宙哪個比較有用？\n",
              "2       問卦             長官紅人一直搞自己要怎麼辦\n",
              "3       問卦                冷氣是不是買太強了?\n",
              "4       問卦                去美國德州要注意啥？\n",
              "5       問卦         大S跟小菲 還在吵床墊的遺產問題嗎\n",
              "6       問卦         中國就算內部崩了也是對外宣稱良好？\n",
              "7       問卦            被百合媽媽×2領養要怎麼適應\n",
              "8       問卦          館長當初和吃屎哥打拳怎沒有賣票？\n",
              "9   Re: 問卦            為什麼現在年輕人不上健身房了\n",
              "10      新聞       週休三日恐讓寒暑假消失 教團籲:不減薪\n",
              "11      問卦             為什麼看企鵝比較不會討厭？\n",
              "12  Re: 問卦          俄羅斯人怎麼可以一手好牌打得超爛\n",
              "13      問卦           會因為老闆認識自己不去特定店嗎\n",
              "14      新聞      山葉R15撞聯結車　騎士「頭掛車斗晃」傷\n",
              "15  Re: 問卦          為什麼同性領養孩子引發社會焦慮？\n",
              "16      公告         八卦板板規(2023.03.01)\n",
              "17      爆卦              內湖托育中心虐嬰（發錢）\n",
              "18      協尋   發錢 貓咪 雲林斗六環球'嘉新6路' 賞1萬6"
            ],
            "text/html": [
              "\n",
              "  <div id=\"df-c5ed36bd-70b2-433a-92da-dd85c2913f83\">\n",
              "    <div class=\"colab-df-container\">\n",
              "      <div>\n",
              "<style scoped>\n",
              "    .dataframe tbody tr th:only-of-type {\n",
              "        vertical-align: middle;\n",
              "    }\n",
              "\n",
              "    .dataframe tbody tr th {\n",
              "        vertical-align: top;\n",
              "    }\n",
              "\n",
              "    .dataframe thead th {\n",
              "        text-align: right;\n",
              "    }\n",
              "</style>\n",
              "<table border=\"1\" class=\"dataframe\">\n",
              "  <thead>\n",
              "    <tr style=\"text-align: right;\">\n",
              "      <th></th>\n",
              "      <th>分類</th>\n",
              "      <th>標題</th>\n",
              "    </tr>\n",
              "  </thead>\n",
              "  <tbody>\n",
              "    <tr>\n",
              "      <th>0</th>\n",
              "      <td>問卦</td>\n",
              "      <td>天使新世界聖戰軍 Day345</td>\n",
              "    </tr>\n",
              "    <tr>\n",
              "      <th>1</th>\n",
              "      <td>問卦</td>\n",
              "      <td>區塊鏈、5G、元宇宙哪個比較有用？</td>\n",
              "    </tr>\n",
              "    <tr>\n",
              "      <th>2</th>\n",
              "      <td>問卦</td>\n",
              "      <td>長官紅人一直搞自己要怎麼辦</td>\n",
              "    </tr>\n",
              "    <tr>\n",
              "      <th>3</th>\n",
              "      <td>問卦</td>\n",
              "      <td>冷氣是不是買太強了?</td>\n",
              "    </tr>\n",
              "    <tr>\n",
              "      <th>4</th>\n",
              "      <td>問卦</td>\n",
              "      <td>去美國德州要注意啥？</td>\n",
              "    </tr>\n",
              "    <tr>\n",
              "      <th>5</th>\n",
              "      <td>問卦</td>\n",
              "      <td>大S跟小菲 還在吵床墊的遺產問題嗎</td>\n",
              "    </tr>\n",
              "    <tr>\n",
              "      <th>6</th>\n",
              "      <td>問卦</td>\n",
              "      <td>中國就算內部崩了也是對外宣稱良好？</td>\n",
              "    </tr>\n",
              "    <tr>\n",
              "      <th>7</th>\n",
              "      <td>問卦</td>\n",
              "      <td>被百合媽媽×2領養要怎麼適應</td>\n",
              "    </tr>\n",
              "    <tr>\n",
              "      <th>8</th>\n",
              "      <td>問卦</td>\n",
              "      <td>館長當初和吃屎哥打拳怎沒有賣票？</td>\n",
              "    </tr>\n",
              "    <tr>\n",
              "      <th>9</th>\n",
              "      <td>Re: 問卦</td>\n",
              "      <td>為什麼現在年輕人不上健身房了</td>\n",
              "    </tr>\n",
              "    <tr>\n",
              "      <th>10</th>\n",
              "      <td>新聞</td>\n",
              "      <td>週休三日恐讓寒暑假消失 教團籲:不減薪</td>\n",
              "    </tr>\n",
              "    <tr>\n",
              "      <th>11</th>\n",
              "      <td>問卦</td>\n",
              "      <td>為什麼看企鵝比較不會討厭？</td>\n",
              "    </tr>\n",
              "    <tr>\n",
              "      <th>12</th>\n",
              "      <td>Re: 問卦</td>\n",
              "      <td>俄羅斯人怎麼可以一手好牌打得超爛</td>\n",
              "    </tr>\n",
              "    <tr>\n",
              "      <th>13</th>\n",
              "      <td>問卦</td>\n",
              "      <td>會因為老闆認識自己不去特定店嗎</td>\n",
              "    </tr>\n",
              "    <tr>\n",
              "      <th>14</th>\n",
              "      <td>新聞</td>\n",
              "      <td>山葉R15撞聯結車　騎士「頭掛車斗晃」傷</td>\n",
              "    </tr>\n",
              "    <tr>\n",
              "      <th>15</th>\n",
              "      <td>Re: 問卦</td>\n",
              "      <td>為什麼同性領養孩子引發社會焦慮？</td>\n",
              "    </tr>\n",
              "    <tr>\n",
              "      <th>16</th>\n",
              "      <td>公告</td>\n",
              "      <td>八卦板板規(2023.03.01)</td>\n",
              "    </tr>\n",
              "    <tr>\n",
              "      <th>17</th>\n",
              "      <td>爆卦</td>\n",
              "      <td>內湖托育中心虐嬰（發錢）</td>\n",
              "    </tr>\n",
              "    <tr>\n",
              "      <th>18</th>\n",
              "      <td>協尋</td>\n",
              "      <td>發錢 貓咪 雲林斗六環球'嘉新6路' 賞1萬6</td>\n",
              "    </tr>\n",
              "  </tbody>\n",
              "</table>\n",
              "</div>\n",
              "      <button class=\"colab-df-convert\" onclick=\"convertToInteractive('df-c5ed36bd-70b2-433a-92da-dd85c2913f83')\"\n",
              "              title=\"Convert this dataframe to an interactive table.\"\n",
              "              style=\"display:none;\">\n",
              "        \n",
              "  <svg xmlns=\"http://www.w3.org/2000/svg\" height=\"24px\"viewBox=\"0 0 24 24\"\n",
              "       width=\"24px\">\n",
              "    <path d=\"M0 0h24v24H0V0z\" fill=\"none\"/>\n",
              "    <path d=\"M18.56 5.44l.94 2.06.94-2.06 2.06-.94-2.06-.94-.94-2.06-.94 2.06-2.06.94zm-11 1L8.5 8.5l.94-2.06 2.06-.94-2.06-.94L8.5 2.5l-.94 2.06-2.06.94zm10 10l.94 2.06.94-2.06 2.06-.94-2.06-.94-.94-2.06-.94 2.06-2.06.94z\"/><path d=\"M17.41 7.96l-1.37-1.37c-.4-.4-.92-.59-1.43-.59-.52 0-1.04.2-1.43.59L10.3 9.45l-7.72 7.72c-.78.78-.78 2.05 0 2.83L4 21.41c.39.39.9.59 1.41.59.51 0 1.02-.2 1.41-.59l7.78-7.78 2.81-2.81c.8-.78.8-2.07 0-2.86zM5.41 20L4 18.59l7.72-7.72 1.47 1.35L5.41 20z\"/>\n",
              "  </svg>\n",
              "      </button>\n",
              "      \n",
              "  <style>\n",
              "    .colab-df-container {\n",
              "      display:flex;\n",
              "      flex-wrap:wrap;\n",
              "      gap: 12px;\n",
              "    }\n",
              "\n",
              "    .colab-df-convert {\n",
              "      background-color: #E8F0FE;\n",
              "      border: none;\n",
              "      border-radius: 50%;\n",
              "      cursor: pointer;\n",
              "      display: none;\n",
              "      fill: #1967D2;\n",
              "      height: 32px;\n",
              "      padding: 0 0 0 0;\n",
              "      width: 32px;\n",
              "    }\n",
              "\n",
              "    .colab-df-convert:hover {\n",
              "      background-color: #E2EBFA;\n",
              "      box-shadow: 0px 1px 2px rgba(60, 64, 67, 0.3), 0px 1px 3px 1px rgba(60, 64, 67, 0.15);\n",
              "      fill: #174EA6;\n",
              "    }\n",
              "\n",
              "    [theme=dark] .colab-df-convert {\n",
              "      background-color: #3B4455;\n",
              "      fill: #D2E3FC;\n",
              "    }\n",
              "\n",
              "    [theme=dark] .colab-df-convert:hover {\n",
              "      background-color: #434B5C;\n",
              "      box-shadow: 0px 1px 3px 1px rgba(0, 0, 0, 0.15);\n",
              "      filter: drop-shadow(0px 1px 2px rgba(0, 0, 0, 0.3));\n",
              "      fill: #FFFFFF;\n",
              "    }\n",
              "  </style>\n",
              "\n",
              "      <script>\n",
              "        const buttonEl =\n",
              "          document.querySelector('#df-c5ed36bd-70b2-433a-92da-dd85c2913f83 button.colab-df-convert');\n",
              "        buttonEl.style.display =\n",
              "          google.colab.kernel.accessAllowed ? 'block' : 'none';\n",
              "\n",
              "        async function convertToInteractive(key) {\n",
              "          const element = document.querySelector('#df-c5ed36bd-70b2-433a-92da-dd85c2913f83');\n",
              "          const dataTable =\n",
              "            await google.colab.kernel.invokeFunction('convertToInteractive',\n",
              "                                                     [key], {});\n",
              "          if (!dataTable) return;\n",
              "\n",
              "          const docLinkHtml = 'Like what you see? Visit the ' +\n",
              "            '<a target=\"_blank\" href=https://colab.research.google.com/notebooks/data_table.ipynb>data table notebook</a>'\n",
              "            + ' to learn more about interactive tables.';\n",
              "          element.innerHTML = '';\n",
              "          dataTable['output_type'] = 'display_data';\n",
              "          await google.colab.output.renderOutput(dataTable, element);\n",
              "          const docLink = document.createElement('div');\n",
              "          docLink.innerHTML = docLinkHtml;\n",
              "          element.appendChild(docLink);\n",
              "        }\n",
              "      </script>\n",
              "    </div>\n",
              "  </div>\n",
              "  "
            ]
          },
          "metadata": {},
          "execution_count": 30
        }
      ]
    },
    {
      "cell_type": "markdown",
      "source": [
        "#增加網點選上一頁\n",
        "  #抓取「上頁」文字，選擇超連結"
      ],
      "metadata": {
        "id": "iw3-WREk06M6"
      }
    },
    {
      "cell_type": "code",
      "source": [
        "#增加網點選上一頁然後繼續抓取\n",
        "#抓取「上頁」文字，選擇超連結\n",
        "nextlink = root.find(\"a\", string=\"‹ 上頁\")#找到內文是‹ 上頁的a 的標籤\n"
      ],
      "metadata": {
        "id": "ViB5W7CUZZqV"
      },
      "execution_count": null,
      "outputs": []
    },
    {
      "cell_type": "code",
      "source": [
        "print(nextlink[\"href\"]) #要這個標籤的href屬性"
      ],
      "metadata": {
        "colab": {
          "base_uri": "https://localhost:8080/"
        },
        "id": "Nwy9zckG1U9q",
        "outputId": "018a9963-d4d8-4b6f-ee99-822d57dd01af"
      },
      "execution_count": null,
      "outputs": [
        {
          "output_type": "stream",
          "name": "stdout",
          "text": [
            "/bbs/Gossiping/index39488.html\n"
          ]
        }
      ]
    },
    {
      "cell_type": "markdown",
      "source": [
        "#將以上包裝成一個函數"
      ],
      "metadata": {
        "id": "yPwfGm8k2aR4"
      }
    },
    {
      "cell_type": "code",
      "source": [
        "def getData(url):\n",
        "  request = req.Request(url, headers ={\n",
        "    \"User-Agent\":\"Mozilla/5.0 (Windows NT 10.0; Win64; x64) AppleWebKit/537.36 (KHTML, like Gecko) Chrome/113.0.0.0 Safari/537.36\",\n",
        "    \"cookie\":\"over18=1\"\n",
        "     })\n",
        "\n",
        "  with req.urlopen(request) as response:\n",
        "    data = response.read().decode(\"utf-8\")\n",
        "  import bs4\n",
        "  root = bs4.BeautifulSoup (data, \"html.parser\")  #告訴她剛剛下載下來的是html\n",
        "  titles_all = root.find_all(\"div\", class_=\"title\") #搜尋 class = \"title\"的div 標籤\n",
        "  for title in titles_all:\n",
        "    if title.a != None: #如果標題有A就把他列出來\n",
        "      list.append(title.a.string)  #list 連結再一起\n",
        "  #增加網點選上一頁然後繼續抓取\n",
        "  #抓取「上頁」文字，選擇超連結\n",
        "  nextlink = root.find(\"a\", string=\"‹ 上頁\")#找到內文是‹ 上頁的a 的標籤\n",
        "  return nextlink[\"href\"] #回傳這個標籤的href屬性 \n",
        "  for title in list:   #變成dic\n",
        "    if title.startswith('[問卦]'):\n",
        "        dic.setdefault('[問卦]', []).append(title[5:])\n",
        "    elif title.startswith('[新聞]'):\n",
        "        dic.setdefault('[新聞]', []).append(title[5:])\n",
        "    elif title.startswith('[爆卦]'):\n",
        "        dic.setdefault('[爆卦]', []).append(title[5:])\n",
        "    elif title.startswith('[協尋]'):\n",
        "        dic.setdefault('[協尋]', []).append(title[5:]) \n",
        "    "
      ],
      "metadata": {
        "id": "IIKNXViO118g"
      },
      "execution_count": null,
      "outputs": []
    },
    {
      "cell_type": "code",
      "source": [
        "#主程序\n",
        "import urllib.request as req\n",
        "pageurl = \"https://www.ptt.cc/bbs/Gossiping/index.html\"\n",
        "count= 0\n",
        "list=[]\n",
        "dic = {}\n",
        "while count<3:  #看你想要抓幾頁\n",
        "  pageurl = \"https://www.ptt.cc\"+getData(pageurl) #這裡就會得到下一頁的網址 並覆蓋上去\n",
        "  count= count+1\n",
        "import pandas as pd\n",
        "dic = {}\n",
        "for title in list:\n",
        "  if title.startswith('[問卦]'):\n",
        "      dic.setdefault('[問卦]', []).append(title[5:])\n",
        "  elif title.startswith('[新聞]'):\n",
        "      dic.setdefault('[新聞]', []).append(title[5:])\n",
        "  elif title.startswith('[爆卦]'):\n",
        "      dic.setdefault('[爆卦]', []).append(title[5:])\n",
        "  elif title.startswith('[協尋]'):\n",
        "      dic.setdefault('[協尋]', []).append(title[5:]) \n",
        "df = pd.DataFrame([(k, title) for k, v in dic.items() for title in v], columns=['分類', '標題'])\n",
        "print(df)"
      ],
      "metadata": {
        "colab": {
          "base_uri": "https://localhost:8080/"
        },
        "id": "RlQybleN2fkZ",
        "outputId": "78726d6a-fa54-4c3d-fb8d-508924833954"
      },
      "execution_count": null,
      "outputs": [
        {
          "output_type": "stream",
          "name": "stdout",
          "text": [
            "      分類                       標題\n",
            "0   [問卦]            在台北領30K的意義在哪？\n",
            "1   [問卦]    不是阿.....周末都結束了...雨呢??\n",
            "2   [問卦]           日本當初貪上海是不是才是敗因\n",
            "3   [問卦]            推薦一些台灣的好品牌好嗎?\n",
            "4   [問卦]    還有在用Discman聽音樂的舉個手好嗎？\n",
            "5   [問卦]              攝圖八炯頻道很多人看嗎\n",
            "6   [問卦]         Acer和Asus 誰比較耐用?\n",
            "7   [問卦]                  今天雨下去哪了\n",
            "8   [問卦]      有沒有臺中建商「一親二發三總」的八卦？\n",
            "9   [問卦]       會自己轉頭回家的矽膠娃娃算矽基生命嗎\n",
            "10  [問卦]       大陸拍vlog都要先擺個腳架走一次?\n",
            "11  [問卦]                你各位薪水穩定嗎？\n",
            "12  [問卦]                    泰國翻盤囉\n",
            "13  [問卦]       為什麼划手機和看劇 對身體不算休息?\n",
            "14  [問卦]            為什麼胖女孩幻想嫁瘦王子？\n",
            "15  [問卦]                肥宅在海拉魯能幹嘛\n",
            "16  [問卦]                二戰最慘烈的戰役？\n",
            "17  [問卦]                 無印VS 宜特利\n",
            "18  [問卦]      R:台灣觀光哪裡輸泰國，去過的能分享一\n",
            "19  [問卦]       人民的抗中意志會影響交通死亡人數嗎?\n",
            "20  [問卦]              五月份這種天氣正常嗎？\n",
            "21  [問卦]       有沒有可愛的狗狗比三寶還聽話的卦卦？\n",
            "22  [問卦]         D卡 : 你薪水沒四萬就是不努力\n",
            "23  [問卦]               阿北：和中國互相諒解\n",
            "24  [問卦]        你敢說你或另一半IG有多少人追嗎？\n",
            "25  [問卦]                 女兒接外拍的八卦\n",
            "26  [問卦]         cheap的活動怎麽沒什麼人討論\n",
            "27  [問卦]          買地上權房子跟租房到底差在哪?\n",
            "28  [問卦]             桃園的總舖師怎麼那麼強阿\n",
            "29  [問卦]           泰國選舉轉播也大贏台灣的卦?\n",
            "30  [新聞]      賴清德重申 一旦接受九二共識「主權就沒\n",
            "31  [新聞]     國軍漢光39號兵推明起展開 傳官兵收假嚴\n",
            "32  [新聞]       買《阿共打來怎麼辦》一書…阿共真的打\n",
            "33  [新聞]     挺過18次化療！朱芯儀首公開「插管、禿頭\n",
            "34  [新聞]            女童魂斷路口 快閃捍衛路權\n",
            "35  [新聞]     屏東信賴台灣之友會授旗 賴：力量夠大 就\n",
            "36  [爆卦]             內湖托育中心虐嬰（發錢）\n",
            "37  [協尋]  發錢 貓咪 雲林斗六環球'嘉新6路' 賞1萬6\n"
          ]
        }
      ]
    }
  ]
}