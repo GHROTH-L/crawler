{
  "nbformat": 4,
  "nbformat_minor": 0,
  "metadata": {
    "colab": {
      "provenance": [],
      "authorship_tag": "ABX9TyOIstFEewMhn+R3570SRB85",
      "include_colab_link": true
    },
    "kernelspec": {
      "name": "python3",
      "display_name": "Python 3"
    },
    "language_info": {
      "name": "python"
    }
  },
  "cells": [
    {
      "cell_type": "markdown",
      "metadata": {
        "id": "view-in-github",
        "colab_type": "text"
      },
      "source": [
        "<a href=\"https://colab.research.google.com/github/GHROTH-L/crawler/blob/main/webcrawler2.ipynb\" target=\"_parent\"><img src=\"https://colab.research.google.com/assets/colab-badge.svg\" alt=\"Open In Colab\"/></a>"
      ]
    },
    {
      "cell_type": "markdown",
      "source": [
        "#連續抓取頁面\n",
        "###進入網址，連續抓取\n",
        "###cookie 解決"
      ],
      "metadata": {
        "id": "JFg5_w2tW88H"
      }
    },
    {
      "cell_type": "code",
      "source": [
        "import urllib.request as req\n",
        "#抓取八卦版的原始碼\n",
        "url = \"https://www.ptt.cc/bbs/Gossiping/index.html\"\n",
        "#建立一個request 物件\n",
        "# 因為如果單純要求網頁容易被拒絕 所以要讓自己看起來像個人類\n",
        "# 網頁 >開發人員工具>網頁 >標頭>右邊格子的標頭 \n",
        "#開發人員>application >cookies (左邊選單)>下變就會出現cookies (over18)\n",
        "request = req.Request(url, headers ={\n",
        "    \"User-Agent\":\"Mozilla/5.0 (Windows NT 10.0; Win64; x64) AppleWebKit/537.36 (KHTML, like Gecko) Chrome/113.0.0.0 Safari/537.36\",\n",
        "    \"cookie\":\"over18=1\"\n",
        "})\n",
        "\n",
        "with req.urlopen(request) as response:\n",
        "  data = response.read().decode(\"utf-8\")"
      ],
      "metadata": {
        "id": "WDd5Jq_sW8oW"
      },
      "execution_count": null,
      "outputs": []
    },
    {
      "cell_type": "code",
      "execution_count": null,
      "metadata": {
        "id": "xGdJjToBW4VK"
      },
      "outputs": [],
      "source": [
        "import bs4"
      ]
    },
    {
      "cell_type": "code",
      "source": [
        "root = bs4.BeautifulSoup (data, \"html.parser\")  #告訴她剛剛下載下來的是html\n",
        "titles_all = root.find_all(\"div\", class_=\"title\") #搜尋 class = \"title\"的div 標籤"
      ],
      "metadata": {
        "id": "lcQymvpcYSgb"
      },
      "execution_count": null,
      "outputs": []
    },
    {
      "cell_type": "code",
      "source": [
        "titles_all"
      ],
      "metadata": {
        "colab": {
          "base_uri": "https://localhost:8080/"
        },
        "id": "gi4SALaYExKx",
        "outputId": "61e781f1-ed5b-46e7-bbfe-5c5aa6659ae5"
      },
      "execution_count": null,
      "outputs": [
        {
          "output_type": "execute_result",
          "data": {
            "text/plain": [
              "[<div class=\"title\">\n",
              " <a href=\"/bbs/Gossiping/M.1684068535.A.9A1.html\">[新聞] 大內宣炒過頭 中國急帶風向反戰:攻台不切</a>\n",
              " </div>,\n",
              " <div class=\"title\">\n",
              " <a href=\"/bbs/Gossiping/M.1684068563.A.C7F.html\">Re: [問卦] 有人認為中國已超英趕美大家相信嗎？</a>\n",
              " </div>,\n",
              " <div class=\"title\">\n",
              " <a href=\"/bbs/Gossiping/M.1684068666.A.D3A.html\">[問卦] PTT裏垢被認出來了 該注意什麼</a>\n",
              " </div>,\n",
              " <div class=\"title\">\n",
              " <a href=\"/bbs/Gossiping/M.1684068715.A.A01.html\">Re: [問卦]  花兩、三萬割包皮會花太多錢嗎？</a>\n",
              " </div>,\n",
              " <div class=\"title\">\n",
              " <a href=\"/bbs/Gossiping/M.1684068732.A.912.html\">[問卦] 75D大概多大？？</a>\n",
              " </div>,\n",
              " <div class=\"title\">\n",
              " <a href=\"/bbs/Gossiping/M.1684068744.A.60F.html\">[問卦] 賣吃的店家是不是都會故意偷料啊？</a>\n",
              " </div>,\n",
              " <div class=\"title\">\n",
              " <a href=\"/bbs/Gossiping/M.1684068838.A.40F.html\">Re: [新聞] 「巴氏量表」卡關難請外籍看護！專家呼籲</a>\n",
              " </div>,\n",
              " <div class=\"title\">\n",
              " <a href=\"/bbs/Gossiping/M.1684068846.A.03A.html\">[新聞] 足球》梅西結束禁賽回歸 首戰又被大巴黎</a>\n",
              " </div>,\n",
              " <div class=\"title\">\n",
              " <a href=\"/bbs/Gossiping/M.1684068863.A.BAF.html\">Re: [問卦] 「釋迦」的台語要怎麼說呀？</a>\n",
              " </div>,\n",
              " <div class=\"title\">\n",
              " <a href=\"/bbs/Gossiping/M.1684068865.A.8B2.html\">[問卦] 66女博士是不是慈禧啊？？</a>\n",
              " </div>,\n",
              " <div class=\"title\">\n",
              " <a href=\"/bbs/Gossiping/M.1684068886.A.CC5.html\">[問卦] 明天突然台海戰爭！你會做啥？</a>\n",
              " </div>,\n",
              " <div class=\"title\">\n",
              " <a href=\"/bbs/Gossiping/M.1684068909.A.01F.html\">[問卦] 天地會分舵要怎麼去？</a>\n",
              " </div>,\n",
              " <div class=\"title\">\n",
              " <a href=\"/bbs/Gossiping/M.1684068946.A.774.html\">[問卦] 警察都這麼暖 善良?</a>\n",
              " </div>,\n",
              " <div class=\"title\">\n",
              " <a href=\"/bbs/Gossiping/M.1684068973.A.21F.html\">[新聞] 「中共陷四線作戰」文章在大陸熱傳 專家</a>\n",
              " </div>,\n",
              " <div class=\"title\">\n",
              " <a href=\"/bbs/Gossiping/M.1684069019.A.54D.html\">[問卦] 送什麼才會讓企鵝妹和聊天室的人滿意？</a>\n",
              " </div>,\n",
              " <div class=\"title\">\n",
              " <a href=\"/bbs/Gossiping/M.1684069033.A.DD9.html\">[新聞] 2024最新民調賴清德領先！郭台銘勝過侯友</a>\n",
              " </div>,\n",
              " <div class=\"title\">\n",
              " <a href=\"/bbs/Gossiping/M.1684069081.A.8AC.html\">Re: [問卦] 南海地震是不是快了？</a>\n",
              " </div>,\n",
              " <div class=\"title\">\n",
              " <a href=\"/bbs/Gossiping/M.1684069141.A.9B8.html\">[問卦] 今天看羽球時一直出現林襄廣告!?</a>\n",
              " </div>,\n",
              " <div class=\"title\">\n",
              " <a href=\"/bbs/Gossiping/M.1677600392.A.D12.html\">[公告] 八卦板板規(2023.03.01)</a>\n",
              " </div>,\n",
              " <div class=\"title\">\n",
              " <a href=\"/bbs/Gossiping/M.1682072265.A.E99.html\">[爆卦] 內湖托育中心虐嬰（發錢）</a>\n",
              " </div>,\n",
              " <div class=\"title\">\n",
              " <a href=\"/bbs/Gossiping/M.1683371005.A.2C0.html\">[協尋] 發錢 貓咪 雲林斗六環球'嘉新6路' 賞1萬6</a>\n",
              " </div>]"
            ]
          },
          "metadata": {},
          "execution_count": 5
        }
      ]
    },
    {
      "cell_type": "code",
      "source": [
        "for title in titles_all:\n",
        "  if title.a != None: #如果標題有A就把他列出來\n",
        "   print (title.a.string)"
      ],
      "metadata": {
        "colab": {
          "base_uri": "https://localhost:8080/"
        },
        "id": "tybFb8wpY9DQ",
        "outputId": "ae7f47c8-f4b4-4564-badb-67cf1d9e5dc5"
      },
      "execution_count": null,
      "outputs": [
        {
          "output_type": "stream",
          "name": "stdout",
          "text": [
            "[新聞] 大內宣炒過頭 中國急帶風向反戰:攻台不切\n",
            "Re: [問卦] 有人認為中國已超英趕美大家相信嗎？\n",
            "[問卦] PTT裏垢被認出來了 該注意什麼\n",
            "Re: [問卦]  花兩、三萬割包皮會花太多錢嗎？\n",
            "[問卦] 75D大概多大？？\n",
            "[問卦] 賣吃的店家是不是都會故意偷料啊？\n",
            "Re: [新聞] 「巴氏量表」卡關難請外籍看護！專家呼籲\n",
            "[新聞] 足球》梅西結束禁賽回歸 首戰又被大巴黎\n",
            "Re: [問卦] 「釋迦」的台語要怎麼說呀？\n",
            "[問卦] 66女博士是不是慈禧啊？？\n",
            "[問卦] 明天突然台海戰爭！你會做啥？\n",
            "[問卦] 天地會分舵要怎麼去？\n",
            "[問卦] 警察都這麼暖 善良?\n",
            "[新聞] 「中共陷四線作戰」文章在大陸熱傳 專家\n",
            "[問卦] 送什麼才會讓企鵝妹和聊天室的人滿意？\n",
            "[新聞] 2024最新民調賴清德領先！郭台銘勝過侯友\n",
            "Re: [問卦] 南海地震是不是快了？\n",
            "[問卦] 今天看羽球時一直出現林襄廣告!?\n",
            "[公告] 八卦板板規(2023.03.01)\n",
            "[爆卦] 內湖托育中心虐嬰（發錢）\n",
            "[協尋] 發錢 貓咪 雲林斗六環球'嘉新6路' 賞1萬6\n"
          ]
        }
      ]
    },
    {
      "cell_type": "code",
      "source": [
        "list = []\n",
        "for title in titles_all:\n",
        "  if title.a != None: #如果標題有A就把他列出來\n",
        "    list.append(title.a.string) "
      ],
      "metadata": {
        "id": "-A7TN5lhVaxC"
      },
      "execution_count": null,
      "outputs": []
    },
    {
      "cell_type": "code",
      "source": [
        "list"
      ],
      "metadata": {
        "colab": {
          "base_uri": "https://localhost:8080/"
        },
        "id": "zYynLHvfWG3S",
        "outputId": "6f135363-ca5e-416a-e6ca-89ca7368cf34"
      },
      "execution_count": null,
      "outputs": [
        {
          "output_type": "execute_result",
          "data": {
            "text/plain": [
              "['[新聞] 大內宣炒過頭 中國急帶風向反戰:攻台不切',\n",
              " 'Re: [問卦] 有人認為中國已超英趕美大家相信嗎？',\n",
              " '[問卦] PTT裏垢被認出來了 該注意什麼',\n",
              " 'Re: [問卦]  花兩、三萬割包皮會花太多錢嗎？',\n",
              " '[問卦] 75D大概多大？？',\n",
              " '[問卦] 賣吃的店家是不是都會故意偷料啊？',\n",
              " 'Re: [新聞] 「巴氏量表」卡關難請外籍看護！專家呼籲',\n",
              " '[新聞] 足球》梅西結束禁賽回歸 首戰又被大巴黎',\n",
              " 'Re: [問卦] 「釋迦」的台語要怎麼說呀？',\n",
              " '[問卦] 66女博士是不是慈禧啊？？',\n",
              " '[問卦] 明天突然台海戰爭！你會做啥？',\n",
              " '[問卦] 天地會分舵要怎麼去？',\n",
              " '[問卦] 警察都這麼暖 善良?',\n",
              " '[新聞] 「中共陷四線作戰」文章在大陸熱傳 專家',\n",
              " '[問卦] 送什麼才會讓企鵝妹和聊天室的人滿意？',\n",
              " '[新聞] 2024最新民調賴清德領先！郭台銘勝過侯友',\n",
              " 'Re: [問卦] 南海地震是不是快了？',\n",
              " '[問卦] 今天看羽球時一直出現林襄廣告!?',\n",
              " '[公告] 八卦板板規(2023.03.01)',\n",
              " '[爆卦] 內湖托育中心虐嬰（發錢）',\n",
              " \"[協尋] 發錢 貓咪 雲林斗六環球'嘉新6路' 賞1萬6\"]"
            ]
          },
          "metadata": {},
          "execution_count": 9
        }
      ]
    },
    {
      "cell_type": "code",
      "source": [
        "dic = {}\n",
        "for title in list:\n",
        "  if title.startswith('[問卦]'):\n",
        "      dic.setdefault('[問卦]', []).append(title[5:])\n",
        "  elif title.startswith('[新聞]'):\n",
        "      dic.setdefault('[新聞]', []).append(title[5:])\n",
        "  elif title.startswith('[爆卦]'):\n",
        "      dic.setdefault('[爆卦]', []).append(title[5:])\n",
        "  elif title.startswith('[協尋]'):\n",
        "      dic.setdefault('[協尋]', []).append(title[5:]) \n",
        "  "
      ],
      "metadata": {
        "id": "AsN8WHwcXc_q"
      },
      "execution_count": null,
      "outputs": []
    },
    {
      "cell_type": "code",
      "source": [
        "dic"
      ],
      "metadata": {
        "colab": {
          "base_uri": "https://localhost:8080/"
        },
        "id": "0Vp0-neZyTHW",
        "outputId": "1bf0398f-d558-4d55-c1c2-70bbdbaf96c7"
      },
      "execution_count": null,
      "outputs": [
        {
          "output_type": "execute_result",
          "data": {
            "text/plain": [
              "{'[新聞]': ['大內宣炒過頭 中國急帶風向反戰:攻台不切',\n",
              "  '足球》梅西結束禁賽回歸 首戰又被大巴黎',\n",
              "  '「中共陷四線作戰」文章在大陸熱傳 專家',\n",
              "  '2024最新民調賴清德領先！郭台銘勝過侯友'],\n",
              " '[問卦]': ['PTT裏垢被認出來了 該注意什麼',\n",
              "  '75D大概多大？？',\n",
              "  '賣吃的店家是不是都會故意偷料啊？',\n",
              "  '66女博士是不是慈禧啊？？',\n",
              "  '明天突然台海戰爭！你會做啥？',\n",
              "  '天地會分舵要怎麼去？',\n",
              "  '警察都這麼暖 善良?',\n",
              "  '送什麼才會讓企鵝妹和聊天室的人滿意？',\n",
              "  '今天看羽球時一直出現林襄廣告!?'],\n",
              " '[爆卦]': ['內湖托育中心虐嬰（發錢）'],\n",
              " '[協尋]': [\"發錢 貓咪 雲林斗六環球'嘉新6路' 賞1萬6\"]}"
            ]
          },
          "metadata": {},
          "execution_count": 20
        }
      ]
    },
    {
      "cell_type": "code",
      "source": [
        "\n",
        "import pandas as pd\n",
        "df = pd.DataFrame([(k, title) for k, v in dic.items() for title in v], columns=['分類', '標題'])\n",
        "print(df)"
      ],
      "metadata": {
        "colab": {
          "base_uri": "https://localhost:8080/"
        },
        "id": "f8ZTMlgo1JpW",
        "outputId": "d73231e7-5617-4f94-fe6b-90830a59e312"
      },
      "execution_count": null,
      "outputs": [
        {
          "output_type": "stream",
          "name": "stdout",
          "text": [
            "      分類                       標題\n",
            "0   [新聞]     大內宣炒過頭 中國急帶風向反戰:攻台不切\n",
            "1   [新聞]      足球》梅西結束禁賽回歸 首戰又被大巴黎\n",
            "2   [新聞]      「中共陷四線作戰」文章在大陸熱傳 專家\n",
            "3   [新聞]    2024最新民調賴清德領先！郭台銘勝過侯友\n",
            "4   [問卦]         PTT裏垢被認出來了 該注意什麼\n",
            "5   [問卦]                75D大概多大？？\n",
            "6   [問卦]         賣吃的店家是不是都會故意偷料啊？\n",
            "7   [問卦]            66女博士是不是慈禧啊？？\n",
            "8   [問卦]           明天突然台海戰爭！你會做啥？\n",
            "9   [問卦]               天地會分舵要怎麼去？\n",
            "10  [問卦]               警察都這麼暖 善良?\n",
            "11  [問卦]       送什麼才會讓企鵝妹和聊天室的人滿意？\n",
            "12  [問卦]         今天看羽球時一直出現林襄廣告!?\n",
            "13  [爆卦]             內湖托育中心虐嬰（發錢）\n",
            "14  [協尋]  發錢 貓咪 雲林斗六環球'嘉新6路' 賞1萬6\n"
          ]
        }
      ]
    },
    {
      "cell_type": "markdown",
      "source": [
        "#增加網點選上一頁\n",
        "  #抓取「上頁」文字，選擇超連結"
      ],
      "metadata": {
        "id": "iw3-WREk06M6"
      }
    },
    {
      "cell_type": "code",
      "source": [
        "#增加網點選上一頁然後繼續抓取\n",
        "#抓取「上頁」文字，選擇超連結\n",
        "nextlink = root.find(\"a\", string=\"‹ 上頁\")#找到內文是‹ 上頁的a 的標籤\n"
      ],
      "metadata": {
        "id": "ViB5W7CUZZqV"
      },
      "execution_count": null,
      "outputs": []
    },
    {
      "cell_type": "code",
      "source": [
        "print(nextlink[\"href\"]) #要這個標籤的href屬性"
      ],
      "metadata": {
        "colab": {
          "base_uri": "https://localhost:8080/"
        },
        "id": "Nwy9zckG1U9q",
        "outputId": "018a9963-d4d8-4b6f-ee99-822d57dd01af"
      },
      "execution_count": null,
      "outputs": [
        {
          "output_type": "stream",
          "name": "stdout",
          "text": [
            "/bbs/Gossiping/index39488.html\n"
          ]
        }
      ]
    },
    {
      "cell_type": "markdown",
      "source": [
        "#將以上包裝成一個函數"
      ],
      "metadata": {
        "id": "yPwfGm8k2aR4"
      }
    },
    {
      "cell_type": "code",
      "source": [
        "def getData(url):\n",
        "  request = req.Request(url, headers ={\n",
        "    \"User-Agent\":\"Mozilla/5.0 (Windows NT 10.0; Win64; x64) AppleWebKit/537.36 (KHTML, like Gecko) Chrome/113.0.0.0 Safari/537.36\",\n",
        "    \"cookie\":\"over18=1\"\n",
        "     })\n",
        "\n",
        "  with req.urlopen(request) as response:\n",
        "    data = response.read().decode(\"utf-8\")\n",
        "  import bs4\n",
        "  root = bs4.BeautifulSoup (data, \"html.parser\")  #告訴她剛剛下載下來的是html\n",
        "  titles_all = root.find_all(\"div\", class_=\"title\") #搜尋 class = \"title\"的div 標籤\n",
        "  for title in titles_all:\n",
        "    if title.a != None: #如果標題有A就把他列出來\n",
        "      list.append(title.a.string)  #list 連結再一起\n",
        "  #增加網點選上一頁然後繼續抓取\n",
        "  #抓取「上頁」文字，選擇超連結\n",
        "  nextlink = root.find(\"a\", string=\"‹ 上頁\")#找到內文是‹ 上頁的a 的標籤\n",
        "  return nextlink[\"href\"] #回傳這個標籤的href屬性 \n",
        "  for title in list:   #變成dic\n",
        "    if title.startswith('[問卦]'):\n",
        "        dic.setdefault('[問卦]', []).append(title[5:])\n",
        "    elif title.startswith('[新聞]'):\n",
        "        dic.setdefault('[新聞]', []).append(title[5:])\n",
        "    elif title.startswith('[爆卦]'):\n",
        "        dic.setdefault('[爆卦]', []).append(title[5:])\n",
        "    elif title.startswith('[協尋]'):\n",
        "        dic.setdefault('[協尋]', []).append(title[5:]) \n",
        "    "
      ],
      "metadata": {
        "id": "IIKNXViO118g"
      },
      "execution_count": null,
      "outputs": []
    },
    {
      "cell_type": "code",
      "source": [
        "#主程序\n",
        "import urllib.request as req\n",
        "pageurl = \"https://www.ptt.cc/bbs/Gossiping/index.html\"\n",
        "count= 0\n",
        "list=[]\n",
        "dic = {}\n",
        "while count<3:  #看你想要抓幾頁\n",
        "  pageurl = \"https://www.ptt.cc\"+getData(pageurl) #這裡就會得到下一頁的網址 並覆蓋上去\n",
        "  count= count+1\n",
        "import pandas as pd\n",
        "dic = {}\n",
        "for title in list:\n",
        "  if title.startswith('[問卦]'):\n",
        "      dic.setdefault('[問卦]', []).append(title[5:])\n",
        "  elif title.startswith('[新聞]'):\n",
        "      dic.setdefault('[新聞]', []).append(title[5:])\n",
        "  elif title.startswith('[爆卦]'):\n",
        "      dic.setdefault('[爆卦]', []).append(title[5:])\n",
        "  elif title.startswith('[協尋]'):\n",
        "      dic.setdefault('[協尋]', []).append(title[5:]) \n",
        "df = pd.DataFrame([(k, title) for k, v in dic.items() for title in v], columns=['分類', '標題'])\n",
        "print(df)"
      ],
      "metadata": {
        "colab": {
          "base_uri": "https://localhost:8080/"
        },
        "id": "RlQybleN2fkZ",
        "outputId": "78726d6a-fa54-4c3d-fb8d-508924833954"
      },
      "execution_count": null,
      "outputs": [
        {
          "output_type": "stream",
          "name": "stdout",
          "text": [
            "      分類                       標題\n",
            "0   [問卦]            在台北領30K的意義在哪？\n",
            "1   [問卦]    不是阿.....周末都結束了...雨呢??\n",
            "2   [問卦]           日本當初貪上海是不是才是敗因\n",
            "3   [問卦]            推薦一些台灣的好品牌好嗎?\n",
            "4   [問卦]    還有在用Discman聽音樂的舉個手好嗎？\n",
            "5   [問卦]              攝圖八炯頻道很多人看嗎\n",
            "6   [問卦]         Acer和Asus 誰比較耐用?\n",
            "7   [問卦]                  今天雨下去哪了\n",
            "8   [問卦]      有沒有臺中建商「一親二發三總」的八卦？\n",
            "9   [問卦]       會自己轉頭回家的矽膠娃娃算矽基生命嗎\n",
            "10  [問卦]       大陸拍vlog都要先擺個腳架走一次?\n",
            "11  [問卦]                你各位薪水穩定嗎？\n",
            "12  [問卦]                    泰國翻盤囉\n",
            "13  [問卦]       為什麼划手機和看劇 對身體不算休息?\n",
            "14  [問卦]            為什麼胖女孩幻想嫁瘦王子？\n",
            "15  [問卦]                肥宅在海拉魯能幹嘛\n",
            "16  [問卦]                二戰最慘烈的戰役？\n",
            "17  [問卦]                 無印VS 宜特利\n",
            "18  [問卦]      R:台灣觀光哪裡輸泰國，去過的能分享一\n",
            "19  [問卦]       人民的抗中意志會影響交通死亡人數嗎?\n",
            "20  [問卦]              五月份這種天氣正常嗎？\n",
            "21  [問卦]       有沒有可愛的狗狗比三寶還聽話的卦卦？\n",
            "22  [問卦]         D卡 : 你薪水沒四萬就是不努力\n",
            "23  [問卦]               阿北：和中國互相諒解\n",
            "24  [問卦]        你敢說你或另一半IG有多少人追嗎？\n",
            "25  [問卦]                 女兒接外拍的八卦\n",
            "26  [問卦]         cheap的活動怎麽沒什麼人討論\n",
            "27  [問卦]          買地上權房子跟租房到底差在哪?\n",
            "28  [問卦]             桃園的總舖師怎麼那麼強阿\n",
            "29  [問卦]           泰國選舉轉播也大贏台灣的卦?\n",
            "30  [新聞]      賴清德重申 一旦接受九二共識「主權就沒\n",
            "31  [新聞]     國軍漢光39號兵推明起展開 傳官兵收假嚴\n",
            "32  [新聞]       買《阿共打來怎麼辦》一書…阿共真的打\n",
            "33  [新聞]     挺過18次化療！朱芯儀首公開「插管、禿頭\n",
            "34  [新聞]            女童魂斷路口 快閃捍衛路權\n",
            "35  [新聞]     屏東信賴台灣之友會授旗 賴：力量夠大 就\n",
            "36  [爆卦]             內湖托育中心虐嬰（發錢）\n",
            "37  [協尋]  發錢 貓咪 雲林斗六環球'嘉新6路' 賞1萬6\n"
          ]
        }
      ]
    }
  ]
}