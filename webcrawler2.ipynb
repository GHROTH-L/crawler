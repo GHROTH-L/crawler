{
  "nbformat": 4,
  "nbformat_minor": 0,
  "metadata": {
    "colab": {
      "provenance": [],
      "authorship_tag": "ABX9TyPS4cX6OwQ/2V5QBsVMX+sc",
      "include_colab_link": true
    },
    "kernelspec": {
      "name": "python3",
      "display_name": "Python 3"
    },
    "language_info": {
      "name": "python"
    }
  },
  "cells": [
    {
      "cell_type": "markdown",
      "metadata": {
        "id": "view-in-github",
        "colab_type": "text"
      },
      "source": [
        "<a href=\"https://colab.research.google.com/github/GHROTH-L/crawler/blob/main/webcrawler2.ipynb\" target=\"_parent\"><img src=\"https://colab.research.google.com/assets/colab-badge.svg\" alt=\"Open In Colab\"/></a>"
      ]
    },
    {
      "cell_type": "markdown",
      "source": [
        "#連續抓取頁面\n",
        "###進入網址，連續抓取\n",
        "###cookie 解決"
      ],
      "metadata": {
        "id": "JFg5_w2tW88H"
      }
    },
    {
      "cell_type": "code",
      "source": [
        "import urllib.request as req\n",
        "#抓取八卦版的原始碼\n",
        "url = \"https://www.ptt.cc/bbs/Gossiping/index.html\"\n",
        "#建立一個request 物件\n",
        "# 因為如果單純要求網頁容易被拒絕 所以要讓自己看起來像個人類\n",
        "# 網頁 >開發人員工具>網頁 >標頭>右邊格子的標頭 \n",
        "#開發人員>application >cookies (左邊選單)>下變就會出現cookies (over18)\n",
        "request = req.Request(url, headers ={\n",
        "    \"User-Agent\":\"Mozilla/5.0 (Windows NT 10.0; Win64; x64) AppleWebKit/537.36 (KHTML, like Gecko) Chrome/113.0.0.0 Safari/537.36\",\n",
        "    \"cookie\":\"over18=1\"\n",
        "})\n",
        "\n",
        "with req.urlopen(request) as response:\n",
        "  data = response.read().decode(\"utf-8\")"
      ],
      "metadata": {
        "id": "WDd5Jq_sW8oW"
      },
      "execution_count": null,
      "outputs": []
    },
    {
      "cell_type": "code",
      "execution_count": null,
      "metadata": {
        "id": "xGdJjToBW4VK"
      },
      "outputs": [],
      "source": [
        "import bs4"
      ]
    },
    {
      "cell_type": "code",
      "source": [
        "root = bs4.BeautifulSoup (data, \"html.parser\")  #告訴她剛剛下載下來的是html\n",
        "titles_all = root.find_all(\"div\", class_=\"title\") #搜尋 class = \"title\"的div 標籤"
      ],
      "metadata": {
        "id": "lcQymvpcYSgb"
      },
      "execution_count": null,
      "outputs": []
    },
    {
      "cell_type": "code",
      "source": [
        "for title in titles_all:\n",
        "  if title.a != None: #如果標題有A就把他列出來\n",
        "   print (title.a.string)"
      ],
      "metadata": {
        "colab": {
          "base_uri": "https://localhost:8080/"
        },
        "id": "tybFb8wpY9DQ",
        "outputId": "8514f60a-1741-4f59-bd83-95b88ec67b5b"
      },
      "execution_count": null,
      "outputs": [
        {
          "output_type": "stream",
          "name": "stdout",
          "text": [
            "[問卦] 從來都不讀同事line的都是什麼人？\n",
            "[問卦] 夾菜塞東西不看臉色是漢人特有文化嗎？\n",
            "[問卦] 武田信玄跑到電視台走廊鼓勵年輕人\n",
            "[新聞] 整條巷子不見了！信義區天坑「至少長20m\n",
            "[問卦] Faker可以再拿個冠軍了吧？\n",
            "[問卦] 沒人發現批評南部的都是北部人嗎?\n",
            "[問卦] 下跪為父母洗腳的歪風是怎麼開始的？\n",
            "[新聞] 《浪姐4》美依禮芽「領先3000萬票」人氣\n",
            "[問卦] 請問目前企鵝妹收到最奇怪東西是啥八卦?\n",
            "Re: [問卦] 沒人發現批評南部的都是北部人嗎?\n",
            "[問卦] 為什麼信義區天坑沒人討論啊\n",
            "[問卦] 為什麼餐廳QR code點餐還要服務費\n",
            "[問卦] 女性薪水45k，這pr有多少?\n",
            "[公告] 八卦板板規(2023.03.01)\n",
            "[爆卦] 內湖托育中心虐嬰（發錢）\n",
            "[協尋] 發錢 貓咪 雲林斗六環球'嘉新6路' 賞1萬6\n",
            "[爆卦] 台灣警察 給 企鵝妹粉絲 的聲明\n"
          ]
        }
      ]
    },
    {
      "cell_type": "markdown",
      "source": [
        "#增加網點選上一頁\n",
        "  #抓取「上頁」文字，選擇超連結"
      ],
      "metadata": {
        "id": "iw3-WREk06M6"
      }
    },
    {
      "cell_type": "code",
      "source": [
        "#增加網點選上一頁然後繼續抓取\n",
        "#抓取「上頁」文字，選擇超連結\n",
        "nextlink = root.find(\"a\", string=\"‹ 上頁\")#找到內文是‹ 上頁的a 的標籤\n"
      ],
      "metadata": {
        "id": "ViB5W7CUZZqV"
      },
      "execution_count": null,
      "outputs": []
    },
    {
      "cell_type": "code",
      "source": [
        "print(nextlink[\"href\"]) #要這個標籤的href屬性"
      ],
      "metadata": {
        "colab": {
          "base_uri": "https://localhost:8080/"
        },
        "id": "Nwy9zckG1U9q",
        "outputId": "018a9963-d4d8-4b6f-ee99-822d57dd01af"
      },
      "execution_count": null,
      "outputs": [
        {
          "output_type": "stream",
          "name": "stdout",
          "text": [
            "/bbs/Gossiping/index39488.html\n"
          ]
        }
      ]
    },
    {
      "cell_type": "markdown",
      "source": [
        "#將以上包裝成一個函數"
      ],
      "metadata": {
        "id": "yPwfGm8k2aR4"
      }
    },
    {
      "cell_type": "code",
      "source": [
        "def getData(url):\n",
        "  request = req.Request(url, headers ={\n",
        "    \"User-Agent\":\"Mozilla/5.0 (Windows NT 10.0; Win64; x64) AppleWebKit/537.36 (KHTML, like Gecko) Chrome/113.0.0.0 Safari/537.36\",\n",
        "    \"cookie\":\"over18=1\"\n",
        "     })\n",
        "\n",
        "  with req.urlopen(request) as response:\n",
        "    data = response.read().decode(\"utf-8\")\n",
        "  import bs4\n",
        "  root = bs4.BeautifulSoup (data, \"html.parser\")  #告訴她剛剛下載下來的是html\n",
        "  titles_all = root.find_all(\"div\", class_=\"title\") #搜尋 class = \"title\"的div 標籤\n",
        "  for title in titles_all:\n",
        "    if title.a != None: #如果標題有A就把他列出來\n",
        "      print(title.a.string)\n",
        "  #增加網點選上一頁然後繼續抓取\n",
        "  #抓取「上頁」文字，選擇超連結\n",
        "  nextlink = root.find(\"a\", string=\"‹ 上頁\")#找到內文是‹ 上頁的a 的標籤\n",
        "  return nextlink[\"href\"] #回傳這個標籤的href屬性 "
      ],
      "metadata": {
        "id": "IIKNXViO118g"
      },
      "execution_count": null,
      "outputs": []
    },
    {
      "cell_type": "code",
      "source": [
        "#主程序\n",
        "pageurl = \"https://www.ptt.cc/bbs/Gossiping/index.html\"\n",
        "count= 0\n",
        "while count<3:  #看你想要抓幾頁\n",
        "  pageurl = \"https://www.ptt.cc\"+getData(pageurl) #這裡就會得到下一頁的網址 並覆蓋上去\n",
        "  count= count+1"
      ],
      "metadata": {
        "colab": {
          "base_uri": "https://localhost:8080/"
        },
        "id": "RlQybleN2fkZ",
        "outputId": "85c82a3f-a491-4ea9-e78b-ba3cadf4bca6"
      },
      "execution_count": null,
      "outputs": [
        {
          "output_type": "stream",
          "name": "stdout",
          "text": [
            "[問卦]  民主黨派羅伯特甘迺迪選總統 勝率多少?\n",
            "[問卦] 吉朋把羅馬衰亡歸因於基督教公正嗎？\n",
            "[問卦] 一個字 一個詞 形容萬華 \n",
            "[問卦] 感覺一直炒作疑美論者，跟本搞錯重點。\n",
            "[新聞] 這不是粉紅色！網購母節蛋糕有色差　男\n",
            "[問卦] 帥哥之間也會喜歡貼貼嗎？\n",
            "[問卦] 餃子王將在日本是什麼水平？\n",
            "[問卦] 宋朝的皇陵怎麼都變成農田了?\n",
            "[問卦] 台女港女日女韓女\n",
            "[新聞] 40歲女不菸不酒肝癌破裂！吃飯「常見1習\n",
            "Re: [問卦] 有人有擷取到金紙男的臉 \n",
            "Re: [新聞] 小甜甜道歉！承認撒了3大謊言　證實剪毛\n",
            "[問卦] 何不剪輯120分鐘企鵝妹電影-看見台灣?\n",
            "[問卦] 鄧如雯為什麼敢殺夫\n",
            "[問卦] 告人結果連被告都寫錯會怎樣嗎 ？\n",
            "Re: [新聞] 館長90度鞠躬道歉！健身房涉抄襲\n",
            "[問卦] 台灣人愛去日本玩，怎沒把交通學回來\n",
            "[新聞] 越南推動社交帳號實名制 未驗證者恐遭封\n",
            "[公告] 八卦板板規(2023.03.01)\n",
            "[爆卦] 內湖托育中心虐嬰（發錢）\n",
            "[協尋] 發錢 貓咪 雲林斗六環球'嘉新6路' 賞1萬6\n",
            "[爆卦] 台灣警察 給 企鵝妹粉絲 的聲明\n",
            "[問卦] 從來都不讀同事line的都是什麼人？\n",
            "[問卦] 夾菜塞東西不看臉色是漢人特有文化嗎？\n",
            "[問卦] 武田信玄跑到電視台走廊鼓勵年輕人\n",
            "[新聞] 整條巷子不見了！信義區天坑「至少長20m\n",
            "[問卦] Faker可以再拿個冠軍了吧？\n",
            "[問卦] 沒人發現批評南部的都是北部人嗎?\n",
            "[問卦] 下跪為父母洗腳的歪風是怎麼開始的？\n",
            "[新聞] 《浪姐4》美依禮芽「領先3000萬票」人氣\n",
            "[問卦] 請問目前企鵝妹收到最奇怪東西是啥八卦?\n",
            "[問卦] 為什麼信義區天坑沒人討論啊\n",
            "[問卦] 為什麼餐廳QR code點餐還要服務費\n",
            "[問卦] 女性薪水45k，這pr有多少?\n",
            "[新聞] 大內宣炒過頭 中國降溫台海將戰\n",
            "[問卦] 臺灣是不是要更加保護建商？\n",
            "[問卦] 為什麼「安瓶」要以容器命名？\n",
            "[新聞] 小甜甜道歉！承認撒了3大謊言　證實剪毛\n",
            "Re: [問卦] 為什麼中捷被責難的聲音比建商多？\n",
            "[問卦] 乾燥花有那麼貴嗎..？\n",
            "[新聞] 面對負面言論後悔當總統嗎？蔡英文：再怎\n",
            "[問卦] 柳允進跟劉允樂什麼關係？\n",
            "[問卦] 是不是要禁台灣年輕人玩網遊才能避戰?\n",
            "[問卦] 急急是什麼梗？\n",
            "[問卦] 一堆人在問企鵝妹有沒有訂房，衝三洨？\n",
            "[問卦] 中捷基層的薪水值得做緊急應變嗎?\n",
            "[問卦] 老實人就該被欺負嗎？\n",
            "[問卦] 麥當勞用台語廣告的用意？\n",
            "[問卦] 什麼樣的建商 挖呀挖呀挖\n",
            "[新聞] 台南舊城區擬取消2段式左轉！網讚「食古\n",
            "[問卦]為什麼切根甘蔗突然從水果店和攤販消失了\n",
            "Re: [問卦] 台灣為什麼打造不出來汽車品牌\n",
            "[問卦] 獸醫師月薪才3萬多? 怎麼會這麼低啊?\n",
            "[問卦] 好啦現在在哪裡啦?\n",
            "[問卦] 為什麼媽祖不能走向全世界\n",
            "[新聞] 蔡總統：和平解決台海問題是全球共識 戰\n",
            "[新聞] 葡萄牙國會通過安樂死合法化！　最快今\n",
            "Re: [問卦] 處男第一次會隨便給人嗎\n",
            "Re: [新聞] 時代力量質疑興富發職安慣犯 將提案修法\n",
            "[問卦] 有推薦的洋劇嗎\n",
            "Re: [問卦] 台北哪間排骨飯最頂\n"
          ]
        }
      ]
    }
  ]
}