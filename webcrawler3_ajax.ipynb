{
  "nbformat": 4,
  "nbformat_minor": 0,
  "metadata": {
    "colab": {
      "provenance": [],
      "authorship_tag": "ABX9TyMqbX8vrzFj/bVyltoepT1y",
      "include_colab_link": true
    },
    "kernelspec": {
      "name": "python3",
      "display_name": "Python 3"
    },
    "language_info": {
      "name": "python"
    }
  },
  "cells": [
    {
      "cell_type": "markdown",
      "metadata": {
        "id": "view-in-github",
        "colab_type": "text"
      },
      "source": [
        "<a href=\"https://colab.research.google.com/github/GHROTH-L/crawler/blob/main/webcrawler3_ajax.ipynb\" target=\"_parent\"><img src=\"https://colab.research.google.com/assets/colab-badge.svg\" alt=\"Open In Colab\"/></a>"
      ]
    },
    {
      "cell_type": "markdown",
      "source": [
        "#ajax (java的前端設計)\n",
        "一開始只能先取得不帶html的網站\n",
        "，之後取求才會給予內容(會與後方伺服器連結)\n",
        "練習：ajax\n",
        "\n",
        "  #打開網址時會先出現殼而不是馬上出現\n",
        "  #打開原始碼來看會不包含文章的文字"
      ],
      "metadata": {
        "id": "z0JjXVjY6TTQ"
      }
    },
    {
      "cell_type": "markdown",
      "source": [
        "## 開發人員>network>XHR>然後一個個找 找出我們想要的內容後>點選header獲得網址\n",
        "##這裡使用女人迷的網站做測試"
      ],
      "metadata": {
        "id": "VTullueC9Kvw"
      }
    },
    {
      "cell_type": "code",
      "execution_count": 75,
      "metadata": {
        "id": "Qo3NrPlU5caP"
      },
      "outputs": [],
      "source": [
        "import urllib.request as req\n",
        "#抓取女人迷的文章資料 \n",
        "url = \"https://api.womany.net/articles/list?per_page=7&page=0\"\n",
        "#建立一個request 物件\n",
        "# 因為如果單純要求網頁容易被拒絕 所以要讓自己看起來像個人類\n",
        "# 網頁 >開發人員工具>網頁 >標頭>右邊格子的標頭 \n",
        "#開發人員>application >cookies (左邊選單)>下變就會出現cookies (over18)\n",
        "request = req.Request(url, headers ={\n",
        "    \"User-Agent\":\"Mozilla/5.0 (Windows NT 10.0; Win64; x64) AppleWebKit/537.36 (KHTML, like Gecko) Chrome/113.0.0.0 Safari/537.36\"\n",
        "})\n",
        "\n",
        "with req.urlopen(request) as response:\n",
        "  data = response.read().decode(\"utf-8\") # 根據剛剛觀察，取得的資料是jason\n"
      ]
    },
    {
      "cell_type": "code",
      "source": [
        "#r解析json格式的資烙\n",
        "import json\n",
        "data1 = json.loads(data) #把原始的資料通過json變成列表/字典格式\n"
      ],
      "metadata": {
        "id": "EbhUq3t_6tkE"
      },
      "execution_count": 76,
      "outputs": []
    },
    {
      "cell_type": "code",
      "source": [
        "data1"
      ],
      "metadata": {
        "colab": {
          "base_uri": "https://localhost:8080/"
        },
        "id": "kn8LuDFmT_Uf",
        "outputId": "bdf7fe78-f96f-4f34-c3ae-8abb6d61f0fb"
      },
      "execution_count": 131,
      "outputs": [
        {
          "output_type": "execute_result",
          "data": {
            "text/plain": [
              "{'total_count': 28882,\n",
              " 'total_pages': 4126,\n",
              " 'current_page': 0,\n",
              " 'articles': [{'id': 31825,\n",
              "   'title': '我的存在就值得慶祝！愛上真實自己的 9 個生活指南',\n",
              "   'subtitle': None,\n",
              "   'description': '要愛自己，必須先接納自己真實的模樣。透過 9 個愛自己生活小指南，為自己的存在慶祝吧。',\n",
              "   'published_at': '2023-05-13T20:30:00.000+08:00',\n",
              "   'updated_at': '2023-05-13T12:42:05.000+08:00',\n",
              "   'pv': 9,\n",
              "   'comments_count': 0,\n",
              "   'favorites_count': 0,\n",
              "   'is_sponsor': False,\n",
              "   'featured_image': '//castle.womany.net/images/articles/31825/2d5ff739aba241b01f6595739795577e.png',\n",
              "   'featured_image_thumb': '//castle.womany.net/images/articles/31825/thumb_2d5ff739aba241b01f6595739795577e.png',\n",
              "   'interests': [{'22': '品味'}],\n",
              "   'tags': [{'486': '愛自己'},\n",
              "    {'4055': '接納自己'},\n",
              "    {'4362': '好好生活'},\n",
              "    {'164': '自我成長'},\n",
              "    {'10023': '迷療癒'},\n",
              "    {'4401': '真實的自己'},\n",
              "    {'189': '快樂'},\n",
              "    {'5254': '素顏'},\n",
              "    {'1069': '牌卡'},\n",
              "    {'7584': '放假'},\n",
              "    {'1060': '情緒'},\n",
              "    {'1532': '社群媒體'},\n",
              "    {'10422': '2023 我愛我'},\n",
              "    {'769': '女人迷編輯專文'}],\n",
              "   'author': {'id': 541544,\n",
              "    'name': '女人迷編輯 Yachun Hu',\n",
              "    'url_name': 'yachunhu',\n",
              "    'avatar': '//castle.womany.net/images/users/541544/a4c22ef9536983ad137f8766ee4dfc9d.jpg'}},\n",
              "  {'id': 31827,\n",
              "   'title': '為自己慶祝！9 個「讓生活變得不凡」的魔法行動，從打破常規行為模式開始！',\n",
              "   'subtitle': None,\n",
              "   'description': '525 是女人迷宣揚「我愛我」訊息的日子，編輯在本文中整理了能點綴平凡日常的 9 個行動，邀請讀者們一同嘗試，為生活帶來一些改變！',\n",
              "   'published_at': '2023-05-12T22:30:00.000+08:00',\n",
              "   'updated_at': '2023-05-13T08:21:48.000+08:00',\n",
              "   'pv': 132,\n",
              "   'comments_count': 0,\n",
              "   'favorites_count': 1,\n",
              "   'is_sponsor': False,\n",
              "   'featured_image': '//castle.womany.net/images/articles/31827/0c8cd21a2cb34fa5a4d28f0aca46d3c9.png',\n",
              "   'featured_image_thumb': '//castle.womany.net/images/articles/31827/thumb_0c8cd21a2cb34fa5a4d28f0aca46d3c9.png',\n",
              "   'interests': [{'23': '視野'}],\n",
              "   'tags': [{'164': '自我成長'},\n",
              "    {'10025': '迷成長'},\n",
              "    {'5298': '慶祝'},\n",
              "    {'638': '525 我愛我'},\n",
              "    {'3107': '改變現狀'},\n",
              "    {'2506': '改變習慣'},\n",
              "    {'4396': '改變生活'},\n",
              "    {'6889': '改變心態'},\n",
              "    {'2406': '挑戰自己'},\n",
              "    {'6890': '挑戰'},\n",
              "    {'654': '生活'},\n",
              "    {'1142': '理想生活'},\n",
              "    {'1524': '生活哲學'},\n",
              "    {'769': '女人迷編輯專文'}],\n",
              "   'author': {'id': 535532,\n",
              "    'name': '女人迷編輯 Angela',\n",
              "    'url_name': 'angelawee',\n",
              "    'avatar': '//castle.womany.net/images/users/535532/e570285b37c530650af8146754641773.jpg'}},\n",
              "  {'id': 31831,\n",
              "   'title': 'JOY COLORi 未來鑽石新概念店五月開幕！獨特藝術鑽石切割，顛覆櫃位想像',\n",
              "   'subtitle': None,\n",
              "   'description': '獨特藝術鑽石切割，顛覆櫃位想像！JOY COLORi 未來鑽石大直 NOKE 忠泰樂生活新概念店開幕',\n",
              "   'published_at': '2023-05-12T22:00:00.000+08:00',\n",
              "   'updated_at': '2023-05-13T08:12:31.000+08:00',\n",
              "   'pv': 35,\n",
              "   'comments_count': 0,\n",
              "   'favorites_count': 0,\n",
              "   'is_sponsor': False,\n",
              "   'featured_image': '//castle.womany.net/images/articles/31831/de520da19522a62539c63e32afacd77c.png',\n",
              "   'featured_image_thumb': '//castle.womany.net/images/articles/31831/thumb_de520da19522a62539c63e32afacd77c.png',\n",
              "   'interests': [{'24': '美力'}],\n",
              "   'tags': [{'2209': '珠寶'},\n",
              "    {'10268': '美力'},\n",
              "    {'307': '藝術'},\n",
              "    {'10058': '時尚'},\n",
              "    {'1306': '永續'},\n",
              "    {'16': '飾品'},\n",
              "    {'1239': '鑽石'},\n",
              "    {'619': '設計'}],\n",
              "   'author': {'id': 358452,\n",
              "    'name': '品牌生活快訊',\n",
              "    'url_name': 'whatshappening',\n",
              "    'avatar': '//castle.womany.net/images/users/358452/womany_ying_mu_kuai_zhao_2019_07_09__xia_wu_5_53_21_1562666013-17751-0018-2831.png'}},\n",
              "  {'id': 31798,\n",
              "   'title': '長輩幫忙帶小孩，比自己更緊張？看見母親童年的傷，面對新生命，都是新手',\n",
              "   'subtitle': None,\n",
              "   'description': '請長輩幫忙帶小孩，卻發現對方不如預期的上手，試著解析背後的原因，你會發現面對新生命，大家都是新手。',\n",
              "   'published_at': '2023-05-12T21:30:00.000+08:00',\n",
              "   'updated_at': '2023-05-13T06:31:12.000+08:00',\n",
              "   'pv': 26,\n",
              "   'comments_count': 0,\n",
              "   'favorites_count': 0,\n",
              "   'is_sponsor': False,\n",
              "   'featured_image': '//castle.womany.net/images/articles/31798/ba54d316f7cc5e37754655a67a1f67c6.png',\n",
              "   'featured_image_thumb': '//castle.womany.net/images/articles/31798/thumb_ba54d316f7cc5e37754655a67a1f67c6.png',\n",
              "   'interests': [{'19': '親職'}],\n",
              "   'tags': [{'10436': '媽的多元宇宙'},\n",
              "    {'904': '想對家人說'},\n",
              "    {'125': '寶寶'},\n",
              "    {'9636': '新手媽媽'},\n",
              "    {'2492': '新生兒'},\n",
              "    {'1465': '照顧'},\n",
              "    {'10': '媽媽'}],\n",
              "   'author': {'id': 72050,\n",
              "    'name': 'Merci Kuo',\n",
              "    'url_name': 'mercikuo',\n",
              "    'avatar': '//castle.womany.net/images/users/72050/womany_1509948_10206391171243204_6224440186812551426_n_1430831531-4415-1332.jpg'}},\n",
              "  {'id': 31805,\n",
              "   'title': '阿莫多瓦《平行母親》劇情解析：母性並非本能，要先正視母職創傷',\n",
              "   'subtitle': None,\n",
              "   'description': '《平行母親》告訴我們母性並非本能，且會受自身母女關係影響。同時，成為母親前後的創傷也需要被正視。',\n",
              "   'published_at': '2023-05-12T20:30:00.000+08:00',\n",
              "   'updated_at': '2023-05-13T08:01:34.000+08:00',\n",
              "   'pv': 55,\n",
              "   'comments_count': 0,\n",
              "   'favorites_count': 0,\n",
              "   'is_sponsor': False,\n",
              "   'featured_image': '//castle.womany.net/images/articles/31805/588bb5d85611acff2fc67aa368e6fc5b.png',\n",
              "   'featured_image_thumb': '//castle.womany.net/images/articles/31805/thumb_588bb5d85611acff2fc67aa368e6fc5b.png',\n",
              "   'interests': [{'21': '女力'}],\n",
              "   'tags': [{'861': '女性故事'},\n",
              "    {'1073': '母親'},\n",
              "    {'4649': '創傷'},\n",
              "    {'2512': '母愛'},\n",
              "    {'5491': '家庭創傷'},\n",
              "    {'1417': '女性'},\n",
              "    {'658': '心理學'},\n",
              "    {'2545': '心理諮商'},\n",
              "    {'301': '電影'},\n",
              "    {'704': '母職討論'},\n",
              "    {'10436': '媽的多元宇宙'},\n",
              "    {'10024': '迷關係'}],\n",
              "   'author': {'id': 302879,\n",
              "    'name': '哈理斯 Harris｜心理師',\n",
              "    'url_name': 'harrisopera',\n",
              "    'avatar': '//castle.womany.net/images/users/302879/womany_ProfilePic_WhiteLine_1607439414-1343-0002-2658.png'}},\n",
              "  {'id': 31824,\n",
              "   'title': '慶祝母親節的 9 個提案：準備一頓特別的早餐、帶媽媽享受城市漫遊',\n",
              "   'subtitle': None,\n",
              "   'description': '2023 母親節怎麼過？女人迷精選 9 個慶祝提案，給媽媽一頓特別的早餐、帶媽媽城市漫遊。',\n",
              "   'published_at': '2023-05-12T19:30:00.000+08:00',\n",
              "   'updated_at': '2023-05-13T07:21:39.000+08:00',\n",
              "   'pv': 47,\n",
              "   'comments_count': 0,\n",
              "   'favorites_count': 0,\n",
              "   'is_sponsor': False,\n",
              "   'featured_image': '//castle.womany.net/images/articles/31824/f6ed216880fbdced83a43d73cd6ba210.png',\n",
              "   'featured_image_thumb': '//castle.womany.net/images/articles/31824/thumb_f6ed216880fbdced83a43d73cd6ba210.png',\n",
              "   'interests': [{'20': '關係'}],\n",
              "   'tags': [{'10024': '迷關係'},\n",
              "    {'10436': '媽的多元宇宙'},\n",
              "    {'10422': '2023 我愛我'},\n",
              "    {'5298': '慶祝'},\n",
              "    {'8217': '親愛的媽媽'},\n",
              "    {'220': '母親節'},\n",
              "    {'9592': '女人迷母親節特企'},\n",
              "    {'638': '525 我愛我'},\n",
              "    {'7295': '野餐趣'},\n",
              "    {'1116': '旅行'},\n",
              "    {'486': '愛自己'},\n",
              "    {'9424': '關係訂製牌卡'},\n",
              "    {'3075': '母女關係'},\n",
              "    {'1228': '家庭關係'},\n",
              "    {'769': '女人迷編輯專文'}],\n",
              "   'author': {'id': 538725,\n",
              "    'name': '女人迷編輯 Ariel',\n",
              "    'url_name': 'arielli',\n",
              "    'avatar': '//castle.womany.net/images/users/538725/51e740579f0b21bdfb38ec4a229b12ec.jpg'}},\n",
              "  {'id': 31828,\n",
              "   'title': '為懂得愛自己的你慶祝吧！九個內外兼備的愛自己行動提案！',\n",
              "   'subtitle': None,\n",
              "   'description': '透過 9 個愛自己提案，讓你在愛自己的同時，也能從內到外的長出堅韌、有厚度的模樣。',\n",
              "   'published_at': '2023-05-12T17:30:00.000+08:00',\n",
              "   'updated_at': '2023-05-13T07:21:39.000+08:00',\n",
              "   'pv': 115,\n",
              "   'comments_count': 0,\n",
              "   'favorites_count': 0,\n",
              "   'is_sponsor': False,\n",
              "   'featured_image': '//castle.womany.net/images/articles/31828/a5b912c90345df96d032483642ab7b87.png',\n",
              "   'featured_image_thumb': '//castle.womany.net/images/articles/31828/thumb_a5b912c90345df96d032483642ab7b87.png',\n",
              "   'interests': [{'23': '視野'}],\n",
              "   'tags': [{'164': '自我成長'},\n",
              "    {'10025': '迷成長'},\n",
              "    {'10422': '2023 我愛我'},\n",
              "    {'486': '愛自己'},\n",
              "    {'1159': '香水'},\n",
              "    {'1006': '儀式感'},\n",
              "    {'492': '歌單'},\n",
              "    {'8224': '私密處保養'},\n",
              "    {'167': '閱讀'},\n",
              "    {'769': '女人迷編輯專文'}],\n",
              "   'author': {'id': 541533,\n",
              "    'name': '女人迷編輯 Maggie ',\n",
              "    'url_name': 'maggiewen',\n",
              "    'avatar': '//castle.womany.net/images/users/541533/d89d88a7f476a5c6ab341bd43c898c39.jpg'}}]}"
            ]
          },
          "metadata": {},
          "execution_count": 131
        }
      ]
    },
    {
      "cell_type": "code",
      "source": [
        "for i in range(len(data1['articles'])):\n",
        "  print(data1['articles'][i]['title'])\n",
        "  i = i+1\n"
      ],
      "metadata": {
        "colab": {
          "base_uri": "https://localhost:8080/"
        },
        "id": "UD3Mdb7nGfDR",
        "outputId": "82350a26-467b-49a8-db26-fed37cab14d4"
      },
      "execution_count": 124,
      "outputs": [
        {
          "output_type": "stream",
          "name": "stdout",
          "text": [
            "我的存在就值得慶祝！愛上真實自己的 9 個生活指南\n",
            "為自己慶祝！9 個「讓生活變得不凡」的魔法行動，從打破常規行為模式開始！\n",
            "JOY COLORi 未來鑽石新概念店五月開幕！獨特藝術鑽石切割，顛覆櫃位想像\n",
            "長輩幫忙帶小孩，比自己更緊張？看見母親童年的傷，面對新生命，都是新手\n",
            "阿莫多瓦《平行母親》劇情解析：母性並非本能，要先正視母職創傷\n",
            "慶祝母親節的 9 個提案：準備一頓特別的早餐、帶媽媽享受城市漫遊\n",
            "為懂得愛自己的你慶祝吧！九個內外兼備的愛自己行動提案！\n"
          ]
        }
      ]
    },
    {
      "cell_type": "code",
      "source": [
        "posts = data1['articles']\n",
        "for i in posts:\n",
        "  print(i['title'])"
      ],
      "metadata": {
        "colab": {
          "base_uri": "https://localhost:8080/"
        },
        "id": "cK4R1cvrC0jL",
        "outputId": "1bfadd25-7219-47dd-d288-e7e522d15bc2"
      },
      "execution_count": 129,
      "outputs": [
        {
          "output_type": "stream",
          "name": "stdout",
          "text": [
            "我的存在就值得慶祝！愛上真實自己的 9 個生活指南\n",
            "為自己慶祝！9 個「讓生活變得不凡」的魔法行動，從打破常規行為模式開始！\n",
            "JOY COLORi 未來鑽石新概念店五月開幕！獨特藝術鑽石切割，顛覆櫃位想像\n",
            "長輩幫忙帶小孩，比自己更緊張？看見母親童年的傷，面對新生命，都是新手\n",
            "阿莫多瓦《平行母親》劇情解析：母性並非本能，要先正視母職創傷\n",
            "慶祝母親節的 9 個提案：準備一頓特別的早餐、帶媽媽享受城市漫遊\n",
            "為懂得愛自己的你慶祝吧！九個內外兼備的愛自己行動提案！\n"
          ]
        }
      ]
    },
    {
      "cell_type": "code",
      "source": [
        "posts = data1['articles']\n",
        "for i in posts:\n",
        "  print(i['tags'])"
      ],
      "metadata": {
        "colab": {
          "base_uri": "https://localhost:8080/"
        },
        "id": "rNRj45dWSoPt",
        "outputId": "699407e6-82b4-4d38-a52b-732cd15e751a"
      },
      "execution_count": 133,
      "outputs": [
        {
          "output_type": "stream",
          "name": "stdout",
          "text": [
            "[{'486': '愛自己'}, {'4055': '接納自己'}, {'4362': '好好生活'}, {'164': '自我成長'}, {'10023': '迷療癒'}, {'4401': '真實的自己'}, {'189': '快樂'}, {'5254': '素顏'}, {'1069': '牌卡'}, {'7584': '放假'}, {'1060': '情緒'}, {'1532': '社群媒體'}, {'10422': '2023 我愛我'}, {'769': '女人迷編輯專文'}]\n",
            "[{'164': '自我成長'}, {'10025': '迷成長'}, {'5298': '慶祝'}, {'638': '525 我愛我'}, {'3107': '改變現狀'}, {'2506': '改變習慣'}, {'4396': '改變生活'}, {'6889': '改變心態'}, {'2406': '挑戰自己'}, {'6890': '挑戰'}, {'654': '生活'}, {'1142': '理想生活'}, {'1524': '生活哲學'}, {'769': '女人迷編輯專文'}]\n",
            "[{'2209': '珠寶'}, {'10268': '美力'}, {'307': '藝術'}, {'10058': '時尚'}, {'1306': '永續'}, {'16': '飾品'}, {'1239': '鑽石'}, {'619': '設計'}]\n",
            "[{'10436': '媽的多元宇宙'}, {'904': '想對家人說'}, {'125': '寶寶'}, {'9636': '新手媽媽'}, {'2492': '新生兒'}, {'1465': '照顧'}, {'10': '媽媽'}]\n",
            "[{'861': '女性故事'}, {'1073': '母親'}, {'4649': '創傷'}, {'2512': '母愛'}, {'5491': '家庭創傷'}, {'1417': '女性'}, {'658': '心理學'}, {'2545': '心理諮商'}, {'301': '電影'}, {'704': '母職討論'}, {'10436': '媽的多元宇宙'}, {'10024': '迷關係'}]\n",
            "[{'10024': '迷關係'}, {'10436': '媽的多元宇宙'}, {'10422': '2023 我愛我'}, {'5298': '慶祝'}, {'8217': '親愛的媽媽'}, {'220': '母親節'}, {'9592': '女人迷母親節特企'}, {'638': '525 我愛我'}, {'7295': '野餐趣'}, {'1116': '旅行'}, {'486': '愛自己'}, {'9424': '關係訂製牌卡'}, {'3075': '母女關係'}, {'1228': '家庭關係'}, {'769': '女人迷編輯專文'}]\n",
            "[{'164': '自我成長'}, {'10025': '迷成長'}, {'10422': '2023 我愛我'}, {'486': '愛自己'}, {'1159': '香水'}, {'1006': '儀式感'}, {'492': '歌單'}, {'8224': '私密處保養'}, {'167': '閱讀'}, {'769': '女人迷編輯專文'}]\n"
          ]
        }
      ]
    },
    {
      "cell_type": "code",
      "source": [
        "type(data1['articles'][1]['tags'])"
      ],
      "metadata": {
        "colab": {
          "base_uri": "https://localhost:8080/"
        },
        "id": "NHT-PcufUUNQ",
        "outputId": "ae20fd07-f88a-410e-c51d-a9d8672fb2d3"
      },
      "execution_count": 136,
      "outputs": [
        {
          "output_type": "execute_result",
          "data": {
            "text/plain": [
              "list"
            ]
          },
          "metadata": {},
          "execution_count": 136
        }
      ]
    },
    {
      "cell_type": "code",
      "source": [],
      "metadata": {
        "id": "ZUIh4_XeUmjd"
      },
      "execution_count": null,
      "outputs": []
    }
  ]
}