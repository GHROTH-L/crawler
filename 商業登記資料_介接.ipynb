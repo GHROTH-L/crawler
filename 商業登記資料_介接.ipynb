{
 "cells": [
  {
   "cell_type": "markdown",
   "id": "5c810466",
   "metadata": {},
   "source": [
    "# 商業登記資料"
   ]
  },
  {
   "cell_type": "markdown",
   "id": "c3980946",
   "metadata": {},
   "source": [
    "### 商業登記基本資料_應用一"
   ]
  },
  {
   "cell_type": "code",
   "execution_count": null,
   "id": "7b459563",
   "metadata": {},
   "outputs": [],
   "source": [
    "## 遇到問題 回報\n",
    "def catch(src):\n",
    "    try:\n",
    "        with request.urlopen(src) as response:\n",
    "            data1 = response.read().decode('utf-8')  # 先讀取json\n",
    "            if data1.strip() != \"\":  # 如果json不是空集合進行抓取\n",
    "                data1 = json.loads(data1)  # 使用json 模組處理 json 資料格式\n",
    "                for item in data1:\n",
    "                    item['number'] = k[0]\n",
    "                all_data1.extend(data1)\n",
    "    except error.URLError as e:\n",
    "        print(f\"Failed to retrieve data: {e.reason}\")\n",
    "        print(src)\n",
    "        return False\n",
    "    except error.HTTPError as e:\n",
    "        print(f\"HTTP error occurred: {e.code} - {e.reason}\")\n",
    "        print(src)\n",
    "        return False\n",
    "    except Exception as e:\n",
    "        print(f\"An error occurred: {e}\")\n",
    "        print(src)\n",
    "        return False\n",
    "    return True"
   ]
  },
  {
   "cell_type": "code",
   "execution_count": null,
   "id": "8ea05bad",
   "metadata": {},
   "outputs": [],
   "source": [
    "def retry_catch(src, interval=1800):\n",
    "    success = catch(src)\n",
    "    while not success:\n",
    "        localtime = time.localtime()  # 获取当前时间\n",
    "        result = time.strftime(\"%Y-%m-%d %I:%M:%S %p\", localtime)  # 格式化时间\n",
    "        print(f\"Waiting a half hour before retrying {src}\")\n",
    "        print(result)\n",
    "        time.sleep(interval)  # 等待 interval 秒\n",
    "        success = catch(src)\n",
    "    return success"
   ]
  },
  {
   "cell_type": "code",
   "execution_count": null,
   "id": "ed41dd1e",
   "metadata": {},
   "outputs": [],
   "source": [
    "import time\n",
    "import urllib.request as request\n",
    "import json\n",
    "import requests\n",
    "import csv\n",
    "import pandas as pd\n",
    "import requests\n",
    "from requests.exceptions import RequestException\n",
    "import urllib.error as error"
   ]
  },
  {
   "cell_type": "code",
   "execution_count": null,
   "id": "4d3d7c88",
   "metadata": {},
   "outputs": [],
   "source": [
    "list = [\"376410000A\",\"379100000G\",\"383100000G\",\"376570000A\",\"376580000A\",\"376590000A\",\"376610000A\",\"376600000A\",\"376430000A\",\"376440000A\",\"376420000A\",\"376450000A\",\"376470000A\",\"376480000A\",\"376490000A\",\"376500000A\",\"376530000A\",\"376560000A\",\"376550000A\",\"376540000A\",\"371010000A\",\"371030000A\"]\n",
    "\n",
    "for i in range(4,14):\n",
    "    id1 = []\n",
    "    a = str(i)\n",
    "    path =\"D:/Users/PSFD/Desktop/工商登記資料/commerce_n\"+ a +\".csv\"   #這邊有commerce 的不同編號\n",
    "    with open(path, \"r\", newline= \"\", encoding=\"utf-8\") as number:   #製作統一編號的list\n",
    "        rows = csv.reader(number, delimiter=',')\n",
    "        headers = next(rows)\n",
    "        for row in rows:\n",
    "            cleaned_row = [item.strip() for item in row]\n",
    "            id1.append(cleaned_row)\n",
    "\n",
    "    all_data1 = []\n",
    "    count = 0\n",
    "    start_time = time.time()  #開始時間\n",
    "    for k in id1 :    \n",
    "        count = count + 1  #製作計時器\n",
    "        if count % 1000 == 0:\n",
    "            elapsed_time = time.time() - start_time  # 計算時間經過\n",
    "            print(f\"Processed {count} records in {elapsed_time:.2f} seconds\")\n",
    "            time.sleep(100)\n",
    "        if k[1] not in list:  #如果沒有商業登記處\n",
    "            for z in list:\n",
    "                src = \"https://data.gcis.nat.gov.tw/od/data/api/7E6AFA72-AD6A-46D3-8681-ED77951D912D?$format=json&$filter=President_No%20eq%20\"+k[0]+\"%20and%20Agency%20eq%20\"+z+\"&$skip=0&$top=50\"  #將統一編號區隔出來\n",
    "                retry_catch(src) \n",
    "        else:\n",
    "            src = \"https://data.gcis.nat.gov.tw/od/data/api/7E6AFA72-AD6A-46D3-8681-ED77951D912D?$format=json&$filter=President_No%20eq%20\"+k[0]+\"%20and%20Agency%20eq%20\"+k[1]+\"&$skip=0&$top=50\"  #將統一編號區隔出來\n",
    "            retry_catch(src)\n",
    "    df = pd.json_normalize(all_data1)\n",
    "    df.to_excel(r'D:\\Users\\PSFD\\Desktop\\工商登記資料\\commerce_應用一\\apply1_'+a+'.xlsx', index=False) #輸出成excel  # excel 請使用不同編號"
   ]
  },
  {
   "cell_type": "code",
   "execution_count": null,
   "id": "78fdf230",
   "metadata": {},
   "outputs": [],
   "source": [
    "df = pd.json_normalize(all_data1)\n",
    "df.to_excel(r'D:\\Users\\PSFD\\Desktop\\工商登記資料\\commerce_應用一\\apply1_'+a+'.xlsx', index=False) #輸出成excel  # excel 請使用不同編號"
   ]
  },
  {
   "cell_type": "markdown",
   "id": "66def3d8",
   "metadata": {},
   "source": [
    "#### 如果有斷掉 請用下面這個處理"
   ]
  },
  {
   "cell_type": "code",
   "execution_count": null,
   "id": "e5432e3b",
   "metadata": {},
   "outputs": [],
   "source": [
    "list = [\"376410000A\",\"379100000G\",\"383100000G\",\"376570000A\",\"376580000A\",\"376590000A\",\"376610000A\",\"376600000A\",\"376430000A\",\"376440000A\",\"376420000A\",\"376450000A\",\"376470000A\",\"376480000A\",\"376490000A\",\"376500000A\",\"376530000A\",\"376560000A\",\"376550000A\",\"376540000A\",\"371010000A\",\"371030000A\"]\n",
    "\n",
    "path =\"D:/Users/PSFD/Desktop/工商登記資料/commerce_n\"+\"13\"+\".csv\"   #這邊有commerce 的不同編號\n",
    "id1 = []\n",
    "with open(path, \"r\", newline= \"\", encoding=\"utf-8\") as number:   #製作統一編號的list\n",
    "    rows = csv.reader(number, delimiter=',')\n",
    "    headers = next(rows)\n",
    "    for row in rows:\n",
    "        cleaned_row = [item.strip() for item in row]\n",
    "        id1.append(cleaned_row)\n",
    "all_data1 = []\n",
    "count = 0\n",
    "start_time = time.time()  #開始時間\n",
    "\n",
    "id2=(id1[36567:])\n",
    "for k in id2 :    \n",
    "    count = count + 1  #製作計時器\n",
    "    if count % 1000 == 0:\n",
    "        elapsed_time = time.time() - start_time  # 計算時間經過\n",
    "        print(f\"Processed {count} records in {elapsed_time:.2f} seconds\")\n",
    "        time.sleep(100)\n",
    "    if k[1] not in list:  #如果沒有商業登記處\n",
    "        for z in list:\n",
    "            src = \"https://data.gcis.nat.gov.tw/od/data/api/7E6AFA72-AD6A-46D3-8681-ED77951D912D?$format=json&$filter=President_No%20eq%20\"+k[0]+\"%20and%20Agency%20eq%20\"+z+\"&$skip=0&$top=50\"  #將統一編號區隔出來\n",
    "            retry_catch(src) \n",
    "    else:\n",
    "        src = \"https://data.gcis.nat.gov.tw/od/data/api/7E6AFA72-AD6A-46D3-8681-ED77951D912D?$format=json&$filter=President_No%20eq%20\"+k[0]+\"%20and%20Agency%20eq%20\"+k[1]+\"&$skip=0&$top=50\"  #將統一編號區隔出來\n",
    "        retry_catch(src)\n"
   ]
  },
  {
   "cell_type": "code",
   "execution_count": null,
   "id": "c18cd7cb",
   "metadata": {},
   "outputs": [],
   "source": [
    "print(id2)"
   ]
  },
  {
   "cell_type": "code",
   "execution_count": null,
   "id": "7810e59e",
   "metadata": {},
   "outputs": [],
   "source": [
    "df = pd.json_normalize(all_data1)\n",
    "df.to_excel(r'D:\\Users\\PSFD\\Desktop\\工商登記資料\\commerce_應用一\\apply1_'+'13_2'+'.xlsx', index=False) #輸出成excel  # excel 請使用不同編號"
   ]
  },
  {
   "cell_type": "markdown",
   "id": "8385ab1e",
   "metadata": {},
   "source": [
    "### 商業登記基本資料_應用二"
   ]
  },
  {
   "cell_type": "code",
   "execution_count": 2,
   "id": "74be5c60",
   "metadata": {},
   "outputs": [],
   "source": [
    "## 遇到問題 回報\n",
    "def catch(src):\n",
    "    try:\n",
    "        with request.urlopen(src) as response:\n",
    "            data1 = response.read().decode('utf-8')  # 先讀取json\n",
    "            if data1.strip() != \"\":  # 如果json不是空集合進行抓取\n",
    "                data1 = json.loads(data1)  # 使用json 模組處理 json 資料格式\n",
    "                for item in data1:\n",
    "                    item['number'] = k[0]\n",
    "                all_data1.extend(data1)\n",
    "    except error.URLError as e:\n",
    "        print(f\"Failed to retrieve data: {e.reason}\")\n",
    "        print(src)\n",
    "        return False\n",
    "    except error.HTTPError as e:\n",
    "        print(f\"HTTP error occurred: {e.code} - {e.reason}\")\n",
    "        print(src)\n",
    "        return False\n",
    "    except Exception as e:\n",
    "        print(f\"An error occurred: {e}\")\n",
    "        print(src)\n",
    "        return False\n",
    "    return True"
   ]
  },
  {
   "cell_type": "code",
   "execution_count": 3,
   "id": "4a70b94c",
   "metadata": {},
   "outputs": [],
   "source": [
    "def retry_catch(src, interval=1800):\n",
    "    success = catch(src)\n",
    "    while not success:\n",
    "        localtime = time.localtime()  # 获取当前时间\n",
    "        result = time.strftime(\"%Y-%m-%d %I:%M:%S %p\", localtime)  # 格式化时间\n",
    "        print(f\"Waiting a half hour before retrying {src}\")\n",
    "        print(result)\n",
    "        time.sleep(interval)  # 等待 interval 秒\n",
    "        success = catch(src)\n",
    "    return success"
   ]
  },
  {
   "cell_type": "code",
   "execution_count": 4,
   "id": "0ef1aef1",
   "metadata": {},
   "outputs": [],
   "source": [
    "import time\n",
    "import urllib.request as request\n",
    "import json\n",
    "import requests\n",
    "import csv\n",
    "import pandas as pd\n",
    "import requests\n",
    "from requests.exceptions import RequestException\n",
    "import urllib.error as error"
   ]
  },
  {
   "cell_type": "code",
   "execution_count": null,
   "id": "a6361774",
   "metadata": {},
   "outputs": [],
   "source": [
    "list = [\"376410000A\",\"379100000G\",\"383100000G\",\"376570000A\",\"376580000A\",\"376590000A\",\"376610000A\",\"376600000A\",\"376430000A\",\"376440000A\",\"376420000A\",\"376450000A\",\"376470000A\",\"376480000A\",\"376490000A\",\"376500000A\",\"376530000A\",\"376560000A\",\"376550000A\",\"376540000A\",\"371010000A\",\"371030000A\"]\n",
    "\n",
    "for i in range(9,14):\n",
    "    id1 = []\n",
    "    a = str(i)\n",
    "    path =\"D:/Users/PSFD/Desktop/工商登記資料/commerce_n\"+a+\".csv\"   #這邊有commerce 的不同編號\n",
    "    with open(path, \"r\", newline= \"\", encoding=\"utf-8\") as number:   #製作統一編號的list\n",
    "        rows = csv.reader(number, delimiter=',')\n",
    "        headers = next(rows)\n",
    "        for row in rows:\n",
    "            cleaned_row = [item.strip() for item in row]\n",
    "            id1.append(cleaned_row)\n",
    "\n",
    "    all_data1 = []\n",
    "    count = 0\n",
    "    start_time = time.time()  #開始時間\n",
    "    for k in id1 :    \n",
    "        count = count + 1  #製作計時器\n",
    "        if count % 1000 == 0:\n",
    "            elapsed_time = time.time() - start_time  # 計算時間經過\n",
    "            print(f\"Processed {count} records in {elapsed_time:.2f} seconds\")\n",
    "            time.sleep(100)\n",
    "        if k[1] not in list:  #如果沒有商業登記處\n",
    "            for z in list:\n",
    "                src = \"https://data.gcis.nat.gov.tw/od/data/api/F570BC9A-DA4C-4813-8087-FB9CE95F9D38?$format=json&$filter=President_No%20eq%20\"+k[0]+\"%20and%20Agency%20eq%20\"+z+\"&$skip=0&$top=50\"  #將統一編號區隔出來\n",
    "                retry_catch(src) \n",
    "        else:\n",
    "            src = \"https://data.gcis.nat.gov.tw/od/data/api/F570BC9A-DA4C-4813-8087-FB9CE95F9D38?$format=json&$filter=President_No%20eq%20\"+k[0]+\"%20and%20Agency%20eq%20\"+k[1]+\"&$skip=0&$top=50\"   #將統一編號區隔出來\n",
    "            retry_catch(src)\n",
    "    df = pd.json_normalize(all_data1)\n",
    "    df.to_excel(r'D:\\Users\\PSFD\\Desktop\\工商登記資料\\commerce_應用二\\apply2_'+a+'.xlsx', index=False) #輸出成excel  # excel 請使用不同編號"
   ]
  },
  {
   "cell_type": "code",
   "execution_count": 37,
   "id": "cbdc38d4",
   "metadata": {},
   "outputs": [
    {
     "name": "stdout",
     "output_type": "stream",
     "text": [
      "https://data.gcis.nat.gov.tw/od/data/api/F570BC9A-DA4C-4813-8087-FB9CE95F9D38?$format=json&$filter=President_No%20eq%2000040805%20and%20Agency%20eq%20376570000A&$skip=0&$top=50\n"
     ]
    }
   ],
   "source": [
    "print(src)"
   ]
  },
  {
   "cell_type": "markdown",
   "id": "fdfe53c4",
   "metadata": {},
   "source": [
    "df = pd.json_normalize(all_data1)\n",
    "df.to_excel(r'D:\\Users\\PSFD\\Desktop\\工商登記資料\\commerce_應用二\\apply2_'+a+'.xlsx', index=False) #輸出成excel  # excel 請使用不同編號"
   ]
  },
  {
   "cell_type": "markdown",
   "id": "47877232",
   "metadata": {},
   "source": [
    "## 斷掉使用"
   ]
  },
  {
   "cell_type": "code",
   "execution_count": null,
   "id": "2f63abf9",
   "metadata": {},
   "outputs": [],
   "source": [
    "list = [\"376410000A\",\"379100000G\",\"383100000G\",\"376570000A\",\"376580000A\",\"376590000A\",\"376610000A\",\"376600000A\",\"376430000A\",\"376440000A\",\"376420000A\",\"376450000A\",\"376470000A\",\"376480000A\",\"376490000A\",\"376500000A\",\"376530000A\",\"376560000A\",\"376550000A\",\"376540000A\",\"371010000A\",\"371030000A\"]\n",
    "\n",
    "for i in range(13,14):\n",
    "    id1 = []\n",
    "    a = str(i)\n",
    "    path =\"D:/Users/PSFD/Desktop/工商登記資料/commerce_n\"+a+\".csv\"   #這邊有commerce 的不同編號\n",
    "    with open(path, \"r\", newline= \"\", encoding=\"utf-8\") as number:   #製作統一編號的list\n",
    "        rows = csv.reader(number, delimiter=',')\n",
    "        headers = next(rows)\n",
    "        for row in rows:\n",
    "            cleaned_row = [item.strip() for item in row]\n",
    "            id1.append(cleaned_row)\n",
    "\n",
    "    all_data1 = []\n",
    "    count = 0\n",
    "    start_time = time.time()  #開始時間\n",
    "    id2=(id1[36567:])\n",
    "    for k in id2 :    \n",
    "        count = count + 1  #製作計時器\n",
    "        if count % 1000 == 0:\n",
    "            elapsed_time = time.time() - start_time  # 計算時間經過\n",
    "            print(f\"Processed {count} records in {elapsed_time:.2f} seconds\")\n",
    "            time.sleep(100)\n",
    "        if k[1] not in list:  #如果沒有商業登記處\n",
    "            for z in list:\n",
    "                src = \"https://data.gcis.nat.gov.tw/od/data/api/F570BC9A-DA4C-4813-8087-FB9CE95F9D38?$format=json&$filter=President_No%20eq%20\"+k[0]+\"%20and%20Agency%20eq%20\"+z+\"&$skip=0&$top=50\"  #將統一編號區隔出來\n",
    "                retry_catch(src) \n",
    "        else:\n",
    "            src = \"https://data.gcis.nat.gov.tw/od/data/api/F570BC9A-DA4C-4813-8087-FB9CE95F9D38?$format=json&$filter=President_No%20eq%20\"+k[0]+\"%20and%20Agency%20eq%20\"+k[1]+\"&$skip=0&$top=50\"   #將統一編號區隔出來\n",
    "            retry_catch(src)\n",
    "    df = pd.json_normalize(all_data1)\n",
    "    df.to_excel(r'D:\\Users\\PSFD\\Desktop\\工商登記資料\\commerce_應用二\\apply2_1_'+a+'.xlsx', index=False) #輸出成excel  # excel 請使用不同編號"
   ]
  },
  {
   "cell_type": "code",
   "execution_count": 6,
   "id": "ab13a79a",
   "metadata": {},
   "outputs": [
    {
     "name": "stdout",
     "output_type": "stream",
     "text": [
      "['00166803', '383100000G']\n"
     ]
    }
   ],
   "source": [
    "for i in range(13,14):\n",
    "    id1 = []\n",
    "    a = str(i)\n",
    "    path =\"D:/Users/PSFD/Desktop/工商登記資料/commerce_n\"+a+\".csv\"   #這邊有commerce 的不同編號\n",
    "    with open(path, \"r\", newline= \"\", encoding=\"utf-8\") as number:   #製作統一編號的list\n",
    "        rows = csv.reader(number, delimiter=',')\n",
    "        headers = next(rows)\n",
    "        for row in rows:\n",
    "            cleaned_row = [item.strip() for item in row]\n",
    "            id1.append(cleaned_row)\n",
    "\n",
    "    all_data1 = []\n",
    "    count = 0\n",
    "    start_time = time.time()  #開始時間\n",
    "    id2=(id1[36567])\n",
    "print(id2)"
   ]
  },
  {
   "cell_type": "code",
   "execution_count": 5,
   "id": "aa7d4044",
   "metadata": {},
   "outputs": [],
   "source": [
    "df = pd.json_normalize(all_data1)\n",
    "df.to_excel(r'D:\\Users\\PSFD\\Desktop\\工商登記資料\\commerce_應用二\\apply2_1_'+a+'.xlsx', index=False) #輸出成excel  # excel 請使用不同編號"
   ]
  },
  {
   "cell_type": "code",
   "execution_count": null,
   "id": "4ae10b1c",
   "metadata": {},
   "outputs": [],
   "source": []
  }
 ],
 "metadata": {
  "kernelspec": {
   "display_name": "Python 3 (ipykernel)",
   "language": "python",
   "name": "python3"
  },
  "language_info": {
   "codemirror_mode": {
    "name": "ipython",
    "version": 3
   },
   "file_extension": ".py",
   "mimetype": "text/x-python",
   "name": "python",
   "nbconvert_exporter": "python",
   "pygments_lexer": "ipython3",
   "version": "3.11.4"
  }
 },
 "nbformat": 4,
 "nbformat_minor": 5
}
