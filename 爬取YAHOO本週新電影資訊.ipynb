{
  "nbformat": 4,
  "nbformat_minor": 0,
  "metadata": {
    "colab": {
      "provenance": [],
      "authorship_tag": "ABX9TyMlJlduEFj6XKm9x+sGySmD",
      "include_colab_link": true
    },
    "kernelspec": {
      "name": "python3",
      "display_name": "Python 3"
    },
    "language_info": {
      "name": "python"
    }
  },
  "cells": [
    {
      "cell_type": "markdown",
      "metadata": {
        "id": "view-in-github",
        "colab_type": "text"
      },
      "source": [
        "<a href=\"https://colab.research.google.com/github/GHROTH-L/crawler/blob/main/%E7%88%AC%E5%8F%96YAHOO%E6%9C%AC%E9%80%B1%E6%96%B0%E9%9B%BB%E5%BD%B1%E8%B3%87%E8%A8%8A.ipynb\" target=\"_parent\"><img src=\"https://colab.research.google.com/assets/colab-badge.svg\" alt=\"Open In Colab\"/></a>"
      ]
    },
    {
      "cell_type": "code",
      "source": [
        "import requests\n",
        "from bs4 import BeautifulSoup\n",
        "import time"
      ],
      "metadata": {
        "id": "6T6V6XgTrB1b"
      },
      "execution_count": 31,
      "outputs": []
    },
    {
      "cell_type": "code",
      "source": [
        "#製造可以爬頁數的def\n",
        "def gen_url(url, start_page, end_page):\n",
        "  urls= []\n",
        "  for page in range(start_page, end_page+1): #range 是最後-1 所以這裡要加入\n",
        "    urls.append(url.format(page))\n",
        "  return urls"
      ],
      "metadata": {
        "id": "uaTlnwZWsbpg"
      },
      "execution_count": 48,
      "outputs": []
    },
    {
      "cell_type": "code",
      "source": [
        "def movie_scraping(urls):\n",
        "  all_movies = [[\"中文片名\",\"英文片名\",\"期待度\",\"海報圖片\",\"上映日)\"]]\n",
        "  page = 1\n",
        "  headers = {\"user-agen\" :\"Mozilla/5.0 (Windows NT 10.0; Win64; x64) AppleWebKit/537.36 (KHTML, like Gecko) Chrome/113.0.0.0 Safari/537.36\"}\n",
        "  for url in urls:\n",
        "    print(\"抓取：第\"+str(page)+\"頁 網路資料中...\")\n",
        "    r= requests.get(url,headers= headers)\n",
        "    page = page+1\n",
        "    if r.status_code == requests.codes.ok:\n",
        "      soup= BeautifulSoup(r.text,\"html.parser\")\n",
        "      movies = get_movies(soup)\n",
        "      all_movies = all_movies + movies #在巢狀清單用加法\n",
        "      if soup.find(\"li\", class_=\"nexttxt disabled\"):\n",
        "          break\n",
        "      time.sleep(5)\n",
        "    else:\n",
        "      print(\"請求錯誤\")\n",
        "  return all_movies\n",
        "    "
      ],
      "metadata": {
        "id": "Vhd0ERbf5Xdv"
      },
      "execution_count": 49,
      "outputs": []
    },
    {
      "cell_type": "code",
      "source": [
        "def get_movies(soup):\n",
        "  movies = []\n",
        "  m_info = soup.find_all(\"div\", class_= \"release_info_text\")\n",
        "  for row in m_info:\n",
        "    movie_div = row.find(\"div\", class_= \"release_movie_name\")\n",
        "    ch_name = movie_div.a.text.strip()\n",
        "    en_name = movie_div.find(\"div\", class_=\"en\").a.text.strip()\n",
        "    # 要跳到data前一個div class photo\n",
        "    m_photo = row.parent.find_previous_sibling(\"div\", class_=\"release_foto\")\n",
        "    photo = m_photo.a.img[\"data-src\"]\n",
        "    date = row.find(\"div\",\"release_movie_time\").text.strip().split('：')[1].strip() #以:為分隔，取第二個\n",
        "    exp = row.find(\"div\",class_=\"leveltext\").span.text.strip()\n",
        "    movie = [ch_name,en_name,photo,date,exp]\n",
        "    movies.append(movie)\n",
        "  return movies"
      ],
      "metadata": {
        "id": "Hrfd4yeOxWp0"
      },
      "execution_count": 52,
      "outputs": []
    },
    {
      "cell_type": "code",
      "source": [
        "#主程式\n",
        "if __name__ == \"__main__\":\n",
        "  url =\"https://movies.yahoo.com.tw/movie_thisweek.html?page={0}\"\n",
        "  #url =\"https://movies.yahoo.com.tw/movie_thisweek.html?page=1\"\n",
        "  #原本是 page=1 為了搭配 翻頁(format) 所以使用中括號\n",
        "  urls = gen_url(url,1,2)\n",
        "  all_movies = movie_scraping(urls)\n",
        "  print(all_movies)"
      ],
      "metadata": {
        "colab": {
          "base_uri": "https://localhost:8080/"
        },
        "id": "e8VR6EestAsw",
        "outputId": "eabdc70b-da5c-4ebc-cce7-35a37d911327"
      },
      "execution_count": 53,
      "outputs": [
        {
          "output_type": "stream",
          "name": "stdout",
          "text": [
            "抓取：第1頁 網路資料中...\n",
            "抓取：第2頁 網路資料中...\n",
            "[['中文片名', '英文片名', '期待度', '海報圖片', '上映日)'], ['烈火浩劫', 'The Blaze', 'https://movies.yahoo.com.tw/i/r/w420/production/movies/April2023/W7RoH3m9FpWm4VppSQh6-1080x1543.jpg', '2023-06-02', '100%'], ['鬼出櫃', 'The Boogeyman', 'https://movies.yahoo.com.tw/i/r/w420/production/movies/April2023/W3jLkRQYkZUGOPHUKPNr-1280x1827.jpg', '2023-06-02', '100%'], ['名偵探神助理：黃金螺旋之謎', 'Nemesis', 'https://movies.yahoo.com.tw/i/r/w420/production/movies/April2023/kHdujp0ux4VMQ8fxkTep-1080x1544.jpg', '2023-06-02', '100%'], ['貞子DX', 'SADAKO DX', 'https://movies.yahoo.com.tw/i/r/w420/production/movies/May2023/bQXfpGgGPFc93su7rJui-1080x1543.JPG', '2023-06-02', '100%'], ['萊茵金', 'Rheingold', 'https://movies.yahoo.com.tw/i/r/w420/production/movies/May2023/MazPaEQNspiRlsmvquxE-1080x1539.jpg', '2023-06-02', '100%'], ['犯罪都市3', 'The Roundup: No Way Out', 'https://movies.yahoo.com.tw/i/r/w420/production/movies/May2023/z1qmfVG9ZY9DpDhEOeXL-1080x1543.JPG', '2023-06-02', '100%'], ['爛人', 'The Worst Ones', 'https://movies.yahoo.com.tw/i/r/w420/production/movies/May2023/IOr6meJW9pGu7mMm7D04-1080x1543.jpg', '2023-06-02', '100%'], ['安妮艾諾 超八時光', 'Les années Super-8', 'https://movies.yahoo.com.tw/i/r/w420/production/movies/May2023/ushTrBsc2AODAqTzkx53-1080x1543.jpg', '2023-06-02', '100%'], ['米蘭昆德拉：從玩笑到無謂的盛宴', 'Milan Kundera: From The Joke to Insignificance', 'https://movies.yahoo.com.tw/i/r/w420/production/movies/May2023/ECjp34DHa1mDEVwsKY4g-1080x1543.jpg', '2023-06-02', '100%'], ['催眠狙擊', 'Hypnotic', 'https://movies.yahoo.com.tw/i/r/w420/production/movies/May2023/44d6AqxxhsMG32FfgZDX-1080x1541.jpg', '2023-06-02', '100%'], ['原罪犯 數位修復版', 'Oldboy', 'https://movies.yahoo.com.tw/i/r/w420/production/movies/May2023/LrCUi1XZJcsHswfiewjm-1984x2835.jpg', '2023-06-02', '100%'], ['熱帶往事', 'Are You Lonesome Tonight', 'https://movies.yahoo.com.tw/i/r/w420/production/movies/May2023/qnWRoakhDL8sdZrl5tn6-1080x1543.jpg', '2023-06-02', '50%'], ['古董局中局', 'Shemes In Antiques', 'https://movies.yahoo.com.tw/i/r/w420/production/movies/May2023/NlRdAQernkADrt3wKzXh-1080x1542.jpg', '2023-06-02', '100%'], ['BLUE GIANT藍色巨星', 'Blue Giant', 'https://movies.yahoo.com.tw/i/r/w420/production/movies/May2023/5AJrF8mgGEol8p8X1QaW-500x714.jpg', '2023-06-09', '100%']]\n"
          ]
        }
      ]
    }
  ]
}