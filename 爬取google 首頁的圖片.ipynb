{
 "cells": [
  {
   "cell_type": "code",
   "execution_count": 7,
   "id": "7d32b7a1",
   "metadata": {},
   "outputs": [],
   "source": [
    "from urllib.request import urlopen, urlretrieve\n",
    "import json\n",
    "import os"
   ]
  },
  {
   "cell_type": "code",
   "execution_count": 8,
   "id": "2d717c7d",
   "metadata": {},
   "outputs": [
    {
     "data": {
      "text/plain": [
       "'\\nresponse = urlopen(\"https://www.google.com/doodles/json/2023/11?hl=zh_TW\")  # nete 2024 更改了頁面 json 檔案被加密\\n#這是2023年11月\\ndoodles = json.load(response)\\nprint(doodles)\\n'"
      ]
     },
     "execution_count": 8,
     "metadata": {},
     "output_type": "execute_result"
    }
   ],
   "source": [
    "'''\n",
    "response = urlopen(\"https://www.google.com/doodles/json/2023/11?hl=zh_TW\")  # nete 2024 更改了頁面 json 檔案被加密\n",
    "#這是2023年11月\n",
    "doodles = json.load(response)\n",
    "print(doodles)\n",
    "'''\n"
   ]
  },
  {
   "cell_type": "code",
   "execution_count": 24,
   "id": "942f292b",
   "metadata": {},
   "outputs": [],
   "source": [
    "for m in range(1,13):   #這裡按照月份整理\n",
    "    url = \"https://www.google.com/doodles/json/2023/\" + str(m) + \"?hl=zh_TW\"\n",
    "    response = urlopen(url)\n",
    "    doodles = json.load(response)\n",
    "    for d in doodles:\n",
    "    # 補上https, 使用[名字] 來取得對應的資料\n",
    "        url = \"https:\" + d[\"url\"]\n",
    "        title = d[\"title\"]\n",
    "        dname = \"D:/PYTHON/googledoodles\" +\"/\" + str(m)#建立月份資料夾\n",
    "        if not os.path.exists(dname): #如果沒有資料夾，則製造資料夾\n",
    "            os.mkdir(dname)\n",
    "        fpath = dname +\"/\"+ url.split(\"/\")[-1]  #返回一個列表，並選擇最後一個當最名稱\n",
    "        #['https:', '', 'www.google.com', 'logos', 'doodles', '2023', 'great-union-day-2023-6753651837109978-law.gif']\n",
    "        urlretrieve(url, fpath) #使用 URLRETRIEVE 進行下載\n",
    "        #print(\"圖片標題:\", title)\n",
    "        #print(\"圖片網址:\", url)"
   ]
  },
  {
   "cell_type": "code",
   "execution_count": null,
   "id": "0c2df842",
   "metadata": {},
   "outputs": [],
   "source": []
  }
 ],
 "metadata": {
  "kernelspec": {
   "display_name": "Python 3 (ipykernel)",
   "language": "python",
   "name": "python3"
  },
  "language_info": {
   "codemirror_mode": {
    "name": "ipython",
    "version": 3
   },
   "file_extension": ".py",
   "mimetype": "text/x-python",
   "name": "python",
   "nbconvert_exporter": "python",
   "pygments_lexer": "ipython3",
   "version": "3.8.16"
  }
 },
 "nbformat": 4,
 "nbformat_minor": 5
}
