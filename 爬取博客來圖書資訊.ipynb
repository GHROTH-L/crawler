{
  "nbformat": 4,
  "nbformat_minor": 0,
  "metadata": {
    "colab": {
      "provenance": [],
      "authorship_tag": "ABX9TyM9Qb5vGGtocibBjHBXaO8h",
      "include_colab_link": true
    },
    "kernelspec": {
      "name": "python3",
      "display_name": "Python 3"
    },
    "language_info": {
      "name": "python"
    }
  },
  "cells": [
    {
      "cell_type": "markdown",
      "metadata": {
        "id": "view-in-github",
        "colab_type": "text"
      },
      "source": [
        "<a href=\"https://colab.research.google.com/github/GHROTH-L/crawler/blob/main/%E7%88%AC%E5%8F%96%E5%8D%9A%E5%AE%A2%E4%BE%86%E5%9C%96%E6%9B%B8%E8%B3%87%E8%A8%8A.ipynb\" target=\"_parent\"><img src=\"https://colab.research.google.com/assets/colab-badge.svg\" alt=\"Open In Colab\"/></a>"
      ]
    },
    {
      "cell_type": "code",
      "execution_count": 1,
      "metadata": {
        "id": "cJUAgvBkzn3i"
      },
      "outputs": [],
      "source": [
        "import requests\n",
        "from bs4 import BeautifulSoup\n",
        "import time"
      ]
    },
    {
      "cell_type": "code",
      "source": [
        "#產生頁數與關鍵字結果\n",
        "def gen_url(url,start_page,end_page,key):\n",
        "  urls= []\n",
        "  for page in range(start_page, end_page+1): #range 是最後-1 所以這裡要加入\n",
        "    urls.append(url.format(page,key))\n",
        "  return urls"
      ],
      "metadata": {
        "id": "kiyz5bVu0swp"
      },
      "execution_count": 18,
      "outputs": []
    },
    {
      "cell_type": "code",
      "source": [
        "#價錢有的有標示打折 有的則是直接優惠價，會造成選取第一個或是第二個的問題\n",
        "def get_second_b(b):\n",
        "    if len(b) >= 2:\n",
        "        return b[1].text.strip()\n",
        "    else:\n",
        "        return b[0].text.strip()"
      ],
      "metadata": {
        "id": "eDNz7o31QwDy"
      },
      "execution_count": 71,
      "outputs": []
    },
    {
      "cell_type": "code",
      "source": [
        "def get_books(soup):\n",
        "  mods = soup.find_all(\"div\",class_=\"mod2 table-container\")\n",
        "  books = []\n",
        "  for mod in mods:\n",
        "    tables = mod.find_all(\"div\", class_=\"table-td\")\n",
        "    for table in tables:\n",
        "      boxs = table.find_all(\"div\", class_=\"box\")\n",
        "      authors =table.find_all(\"p\", class_=\"author\")\n",
        "      prices = table.find_all(\"ul\", class_=\"price clearfix\")\n",
        "      for box in boxs:\n",
        "        title = box.a[\"title\"]\n",
        "        photo = box.a.img[\"data-src\"]\n",
        "        book_url= \"http:\"+box.a[\"href\"]\n",
        "      for a in authors:\n",
        "        author = a.text.strip().replace('\\xa0\\xa0', ',').strip() #雙作者會有這個符號，所以取代掉\n",
        "      for p in prices:\n",
        "        #price = p.li.text.strip()\n",
        "        price = get_second_b(p.li.select(\"b\"))\n",
        "      book = [title,photo,author,price,book_url]\n",
        "      books.append(book)\n",
        "  return books "
      ],
      "metadata": {
        "id": "hgUEE1PsXdcL"
      },
      "execution_count": 117,
      "outputs": []
    },
    {
      "cell_type": "code",
      "source": [
        "#爬蟲\n",
        "def scraping(urls):\n",
        "  booklist= [[\"書名\",\"圖片\",\"作者\",\"價錢\",\"網址\"]]\n",
        "  page = 1\n",
        "  for url in urls:\n",
        "    print(\"抓取：第\"+str(page)+\"頁的\"+str(key)+\"網路資料中...\")\n",
        "    headers = {\"user-agen\" :\"Mozilla/5.0 (Windows NT 10.0; Win64; x64) AppleWebKit/537.36 (KHTML, like Gecko) Chrome/113.0.0.0 Safari/537.36\"}\n",
        "    r = requests.get(url, headers=headers)\n",
        "    page = page+1\n",
        "    if r.status_code == requests.codes.ok:\n",
        "      soup = BeautifulSoup(r.text,\"html.parser\")\n",
        "      books = get_books(soup)\n",
        "      booklist = booklist + books #在巢狀清單用加法\n",
        "      time.sleep(5)\n",
        "    else:\n",
        "      print(\"請求錯誤\")\n",
        "  return booklist\n",
        "\n",
        "  \n",
        "\n",
        "\n"
      ],
      "metadata": {
        "id": "lhFmK7il9WNK"
      },
      "execution_count": 108,
      "outputs": []
    },
    {
      "cell_type": "code",
      "source": [
        "if __name__ == \"__main__\":\n",
        "  url =\"https://search.books.com.tw/search/query/cat/all/sort/1/v/1/spell/3/ms2/ms2_1/page/{0}/key/{1}\"\n",
        "  key = str(input(\"請輸入要查找的項目：\"))\n",
        "  start = int(input(\"請輸入開始頁碼：\"))\n",
        "  end = int(input(\"請輸入結束頁碼：\"))\n",
        "  urls= gen_url(url,start,end,key)\n",
        "  booklist = scraping(urls)\n",
        "  print(\"以下是查找关键字为\" + str(key) + \"的清单，为博客來第\" + str(start) + \"頁至\" + str(end) + \"頁\")\n",
        "  print(booklist)\n"
      ],
      "metadata": {
        "colab": {
          "base_uri": "https://localhost:8080/"
        },
        "id": "-cb4noLs7e9r",
        "outputId": "7a988f76-203a-411d-a93b-0e2e14be9b13"
      },
      "execution_count": 127,
      "outputs": [
        {
          "output_type": "stream",
          "name": "stdout",
          "text": [
            "請輸入要查找的項目：R語言\n",
            "請輸入開始頁碼：1\n",
            "請輸入結束頁碼：3\n",
            "抓取：第1頁的R語言網路資料中...\n",
            "抓取：第2頁的R語言網路資料中...\n",
            "抓取：第3頁的R語言網路資料中...\n",
            "以下是查找关键字为R語言的清单，为博客來第1頁至3頁\n",
            "[['書名', '圖片', '作者', '價錢', '網址'], ['精通大數據!R 語言資料分析與應用 第二版', 'https://im1.book.com.tw/image/getImage?i=https://www.books.com.tw/img/001/078/27/0010782742.jpg&w=187&h=187&v=5ab0e2bb', 'Jared P. Lander,鍾振蔚', '684', 'http://search.books.com.tw/redirect/move/key/R%E8%AA%9E%E8%A8%80/area/mid/item/0010782742/page/1/idx/1/cat/001/pdf/1/spell/3'], ['R語言邁向Big Data之路：王者歸來(第二版)', 'https://im1.book.com.tw/image/getImage?i=https://www.books.com.tw/img/001/087/70/0010877047.jpg&w=187&h=187&v=5fb6492e', '洪錦魁,蔡桂宏', '616', 'http://search.books.com.tw/redirect/move/key/R%E8%AA%9E%E8%A8%80/area/mid/item/0010877047/page/1/idx/2/cat/001/pdf/1/spell/3'], ['R 語言資料分析活用範例詳解', 'https://im1.book.com.tw/image/getImage?i=https://www.books.com.tw/img/001/069/54/0010695444.jpg&w=187&h=187&v=563346f5', '姜葉飛,方匡南,朱建平,H&C', '468', 'http://search.books.com.tw/redirect/move/key/R%E8%AA%9E%E8%A8%80/area/mid/item/0010695444/page/1/idx/3/cat/001/pdf/1/spell/3'], ['機率與統計推論：R語言的應用', 'https://im1.book.com.tw/image/getImage?i=https://www.books.com.tw/img/001/081/40/0010814097.jpg&w=187&h=187&v=5c62a061', '陳旭昇', '713', 'http://search.books.com.tw/redirect/move/key/R%E8%AA%9E%E8%A8%80/area/mid/item/0010814097/page/1/idx/4/cat/001/pdf/1/spell/3'], ['輕鬆學習R語言：從基礎到應用，掌握資料科學的關鍵能力(第三版)', 'https://im1.book.com.tw/image/getImage?i=https://www.books.com.tw/img/001/089/29/0010892938.jpg&w=187&h=187&v=60a4e8b1', '郭耀仁', '432', 'http://search.books.com.tw/redirect/move/key/R%E8%AA%9E%E8%A8%80/area/mid/item/0010892938/page/1/idx/5/cat/001/pdf/1/spell/3'], ['資料科學的良器：R語言在行銷科學的應用', 'https://im1.book.com.tw/image/getImage?i=https://www.books.com.tw/img/001/090/38/0010903897.jpg&w=187&h=187&v=61446e4c', '廖如龍,葉世聰', '310', 'http://search.books.com.tw/redirect/move/key/R%E8%AA%9E%E8%A8%80/area/mid/item/0010903897/page/1/idx/6/cat/001/pdf/1/spell/3'], ['資料科學的良器：R語言在開放資料、管理數學與作業管理的應用', 'https://im1.book.com.tw/image/getImage?i=https://www.books.com.tw/img/001/086/94/0010869458.jpg&w=187&h=187&v=5f4cd139', '廖如龍,葉世聰', '399', 'http://search.books.com.tw/redirect/move/key/R%E8%AA%9E%E8%A8%80/area/mid/item/0010869458/page/1/idx/7/cat/001/pdf/1/spell/3'], ['R語言的資料採礦導引：大數據時代的資料分析(附綠色範例檔)', 'https://im1.book.com.tw/image/getImage?i=https://www.books.com.tw/img/001/079/72/0010797285.jpg&w=187&h=187&v=5b7d4943', '陳鴻敏', '646', 'http://search.books.com.tw/redirect/move/key/R%E8%AA%9E%E8%A8%80/area/mid/item/0010797285/page/1/idx/8/cat/001/pdf/1/spell/3'], ['R語言與資料分析實戰', 'https://im1.book.com.tw/image/getImage?i=https://www.books.com.tw/img/001/081/56/0010815623.jpg&w=187&h=187&v=5c7666f7', '徐珉久', '646', 'http://search.books.com.tw/redirect/move/key/R%E8%AA%9E%E8%A8%80/area/mid/item/0010815623/page/1/idx/9/cat/001/pdf/1/spell/3'], ['C 語言詳論 6/e', 'https://im1.book.com.tw/image/getImage?i=https://www.books.com.tw/img/001/046/93/0010469304.jpg&w=187&h=187&v=4be3f1d8', 'Elliot B. Koffman,Jeri R. Hanly,潘育群', '722', 'http://search.books.com.tw/redirect/move/key/R%E8%AA%9E%E8%A8%80/area/mid/item/0010469304/page/1/idx/10/cat/001/pdf/1/spell/3'], ['愛上統計學：使用R語言', 'https://im1.book.com.tw/image/getImage?i=https://www.books.com.tw/img/001/088/67/0010886713.jpg&w=187&h=187&v=604b42b3', '尼爾‧J‧薩爾金德,萊絲莉‧A‧肖,余峻瑜', '646', 'http://search.books.com.tw/redirect/move/key/R%E8%AA%9E%E8%A8%80/area/mid/item/0010886713/page/1/idx/11/cat/001/pdf/1/spell/3'], ['財金時間序列分析：使用R語言(附光碟)', 'https://im1.book.com.tw/image/getImage?i=https://www.books.com.tw/img/001/085/39/0010853951.jpg&w=187&h=187&v=5e7c8437', '林進益', '561', 'http://search.books.com.tw/redirect/move/key/R%E8%AA%9E%E8%A8%80/area/mid/item/0010853951/page/1/idx/12/cat/001/pdf/1/spell/3'], ['機器學習入門：R語言(附範例光碟)', 'https://im1.book.com.tw/image/getImage?i=https://www.books.com.tw/img/001/088/34/0010883412.jpg&w=187&h=187&v=60129231', '徐偉智,社團法人數位經濟發展', '399', 'http://search.books.com.tw/redirect/move/key/R%E8%AA%9E%E8%A8%80/area/mid/item/0010883412/page/1/idx/13/cat/001/pdf/1/spell/3'], ['R語言：量表編製、統計分析與試題反應理論(2版)', 'https://im1.book.com.tw/image/getImage?i=https://www.books.com.tw/img/001/089/51/0010895117.jpg&w=187&h=187&v=60c9d2b3', '陳新豐', '551', 'http://search.books.com.tw/redirect/move/key/R%E8%AA%9E%E8%A8%80/area/mid/item/0010895117/page/1/idx/14/cat/001/pdf/1/spell/3'], ['財金統計學：使用R語言', 'https://im1.book.com.tw/image/getImage?i=https://www.books.com.tw/img/001/073/30/0010733049.jpg&w=187&h=187&v=5805f9c9', '林進益', '595', 'http://search.books.com.tw/redirect/move/key/R%E8%AA%9E%E8%A8%80/area/mid/item/0010733049/page/1/idx/15/cat/001/pdf/1/spell/3'], ['大數據、AI應用趨勢與R語言案例分析(附範例光碟)', 'https://im1.book.com.tw/image/getImage?i=https://www.books.com.tw/img/001/084/56/0010845621.jpg&w=187&h=187&v=5e0b232f', '黃正傑', '380', 'http://search.books.com.tw/redirect/move/key/R%E8%AA%9E%E8%A8%80/area/mid/item/0010845621/page/1/idx/16/cat/001/pdf/1/spell/3'], ['衍生性金融商品：使用R語言', 'https://im1.book.com.tw/image/getImage?i=https://www.books.com.tw/img/001/080/68/0010806890.jpg&w=187&h=187&v=5bfbd93c', '林進益', '595', 'http://search.books.com.tw/redirect/move/key/R%E8%AA%9E%E8%A8%80/area/mid/item/0010806890/page/1/idx/17/cat/001/pdf/1/spell/3'], ['經濟與財務數學：使用R語言', 'https://im1.book.com.tw/image/getImage?i=https://www.books.com.tw/img/001/077/13/0010771334.jpg&w=187&h=187&v=5a0eba4c', '林進益', '686', 'http://search.books.com.tw/redirect/move/key/R%E8%AA%9E%E8%A8%80/area/mid/item/0010771334/page/1/idx/18/cat/001/pdf/1/spell/3'], ['輕鬆學習R語言(第三版)-從基礎到應用，掌握資料科學的關鍵能力 (電子書)', 'https://im1.book.com.tw/image/getImage?i=https://www.books.com.tw/img/E05/010/13/E050101396.jpg&w=187&h=187&v=611b1c59', '郭耀仁', '399', 'http://search.books.com.tw/redirect/move/key/R%E8%AA%9E%E8%A8%80/area/mid/item/E050101396/page/1/idx/19/cat/E05/pdf/1/spell/3'], ['模糊統計：使用R語言', 'https://im1.book.com.tw/image/getImage?i=https://www.books.com.tw/img/001/092/12/0010921216.jpg&w=187&h=187&v=624582bd', '吳柏林,林松柏', '532', 'http://search.books.com.tw/redirect/move/key/R%E8%AA%9E%E8%A8%80/area/mid/item/0010921216/page/1/idx/20/cat/001/pdf/1/spell/3'], ['R語言資料分析：從機器學習、資料探勘、文字探勘到巨量資料分析 [第三版] (電子書)', 'https://im1.book.com.tw/image/getImage?i=https://www.books.com.tw/img/E05/004/90/E050049062.jpg&w=187&h=187&v=5d12d0ed', '李仁鐘,李秋緣', '299', 'http://search.books.com.tw/redirect/move/key/R%E8%AA%9E%E8%A8%80/area/mid/item/E050049062/page/1/idx/21/cat/E05/pdf/1/spell/3'], ['經濟與金融計量方法：原理、應用案例及R語言實現', 'https://im1.book.com.tw/image/getImage?i=https://www.books.com.tw/img/CN1/169/69/CN11696978.jpg&w=187&h=187&v=5f86d338', '何宗武,馬衛鋒', '360', 'http://search.books.com.tw/redirect/move/key/R%E8%AA%9E%E8%A8%80/area/mid/item/CN11696978/page/1/idx/22/cat/CN1/pdf/1/spell/3'], ['R語言：深入淺出財經計量 (電子書)', 'https://im1.book.com.tw/image/getImage?i=https://www.books.com.tw/img/E05/003/84/E050038422.jpg&w=187&h=187&v=5c4044c7', '何宗武', '349', 'http://search.books.com.tw/redirect/move/key/R%E8%AA%9E%E8%A8%80/area/mid/item/E050038422/page/1/idx/23/cat/E05/pdf/1/spell/3'], ['R語言邁向Big Data之路：王者歸來(第二版) (電子書)', 'https://im1.book.com.tw/image/getImage?i=https://www.books.com.tw/img/E05/015/02/E050150273.jpg&w=187&h=187&v=63a3d85e', '洪錦魁,蔡桂宏', '702', 'http://search.books.com.tw/redirect/move/key/R%E8%AA%9E%E8%A8%80/area/mid/item/E050150273/page/1/idx/24/cat/E05/pdf/1/spell/3'], ['資料科學的良器：R語言在開放資料、管理數學與作業管理的應用 (電子書)', 'https://im1.book.com.tw/image/getImage?i=https://www.books.com.tw/img/E05/008/01/E050080167.jpg&w=187&h=187&v=5fbf2355', '廖如龍,葉世聰', '420', 'http://search.books.com.tw/redirect/move/key/R%E8%AA%9E%E8%A8%80/area/mid/item/E050080167/page/2/idx/1/cat/E05/pdf/1/spell/3'], ['資料科學的良器：R語言在行銷科學的應用 (電子書)', 'https://im1.book.com.tw/image/getImage?i=https://www.books.com.tw/img/E05/011/42/E050114293.jpg&w=187&h=187&v=6195d615', '廖如龍,葉世聰', '480', 'http://search.books.com.tw/redirect/move/key/R%E8%AA%9E%E8%A8%80/area/mid/item/E050114293/page/2/idx/2/cat/E05/pdf/1/spell/3'], ['R語言：數學計算、統計模型與金融大數據分析 (電子書)', 'https://im1.book.com.tw/image/getImage?i=https://www.books.com.tw/img/E05/002/93/E050029373.jpg&w=187&h=187&v=5b17cb59', '酆士昌', '360', 'http://search.books.com.tw/redirect/move/key/R%E8%AA%9E%E8%A8%80/area/mid/item/E050029373/page/2/idx/3/cat/E05/pdf/1/spell/3'], ['R語言高效能實戰：更多數據和更快速度', 'https://im1.book.com.tw/image/getImage?i=https://www.books.com.tw/img/CN1/174/11/CN11741173.jpg&w=187&h=187&v=62b60502', '劉藝非', '417', 'http://search.books.com.tw/redirect/move/key/R%E8%AA%9E%E8%A8%80/area/mid/item/CN11741173/page/2/idx/4/cat/CN1/pdf/1/spell/3'], ['R語言在生物統計中的應用', 'https://im1.book.com.tw/image/getImage?i=https://www.books.com.tw/img/CN1/175/96/CN11759650.jpg&w=187&h=187&v=6302ea36', '楊澤峰', '188', 'http://search.books.com.tw/redirect/move/key/R%E8%AA%9E%E8%A8%80/area/mid/item/CN11759650/page/2/idx/5/cat/CN1/pdf/1/spell/3'], ['廣義可加模型導論：R語言描述(第2版)(英文)', 'https://im1.book.com.tw/image/getImage?i=https://www.books.com.tw/img/CN1/179/17/CN11791781.jpg&w=187&h=187&v=6317940b', '（英）西蒙·伍德', '726', 'http://search.books.com.tw/redirect/move/key/R%E8%AA%9E%E8%A8%80/area/mid/item/CN11791781/page/2/idx/6/cat/CN1/pdf/1/spell/3'], ['現代數據科學(R語言·第2版)', 'https://im1.book.com.tw/image/getImage?i=https://www.books.com.tw/img/CN1/175/76/CN11757600.jpg&w=187&h=187&v=62853d86', '（美）本傑明·S.鮑默，丹尼爾·T.卡普蘭，尼古拉斯·J.霍頓,張小明，郭華，張騫允', '668', 'http://search.books.com.tw/redirect/move/key/R%E8%AA%9E%E8%A8%80/area/mid/item/CN11757600/page/2/idx/7/cat/CN1/pdf/1/spell/3'], ['精通R語言--用於量化金融(影印版)', 'https://im1.book.com.tw/image/getImage?i=https://www.books.com.tw/img/CN1/130/44/CN11304431.jpg&w=187&h=187&v=62d133a7', 'EDINA BERLINGER', '355', 'http://search.books.com.tw/redirect/move/key/R%E8%AA%9E%E8%A8%80/area/mid/item/CN11304431/page/2/idx/8/cat/CN1/pdf/1/spell/3'], ['兒童語言發展', 'https://im1.book.com.tw/image/getImage?i=https://www.books.com.tw/img/001/033/45/0010334517.jpg&w=187&h=187&v=4490b820', 'R.Cattell,曾進興', '333', 'http://search.books.com.tw/redirect/move/key/R%E8%AA%9E%E8%A8%80/area/mid/item/0010334517/page/2/idx/9/cat/001/pdf/1/spell/3'], ['實用統計學：使用Excel、SAS、R語言分析', 'https://im1.book.com.tw/image/getImage?i=https://www.books.com.tw/img/001/081/58/0010815845.jpg&w=187&h=187&v=5c7cfe57', '洪來發', '646', 'http://search.books.com.tw/redirect/move/key/R%E8%AA%9E%E8%A8%80/area/mid/item/0010815845/page/2/idx/10/cat/001/pdf/1/spell/3'], ['R資料採礦與數據分析--以 GUI 套件 Rattle 結合程式語言實作 (電子書)', 'https://im1.book.com.tw/image/getImage?i=https://www.books.com.tw/img/E05/002/52/E050025227.jpg&w=187&h=187&v=5ab5d22d', '何宗武', '350', 'http://search.books.com.tw/redirect/move/key/R%E8%AA%9E%E8%A8%80/area/mid/item/E050025227/page/2/idx/11/cat/E05/pdf/1/spell/3'], ['深度學習實戰手冊 R語言版', 'https://im1.book.com.tw/image/getImage?i=https://www.books.com.tw/img/CN1/171/21/CN11712139.jpg&w=187&h=187&v=5e268c5a', '(印度)普拉卡什,阿丘圖尼·斯裡·克裡希納·拉奧', '412', 'http://search.books.com.tw/redirect/move/key/R%E8%AA%9E%E8%A8%80/area/mid/item/CN11712139/page/2/idx/12/cat/CN1/pdf/1/spell/3'], ['MASSA-G Titan X1 4mm超合金鍺鈦手環搭配字言字語白鋼字母墬21R', 'https://im1.book.com.tw/image/getImage?i=https://www.books.com.tw/img/N01/191/93/N011919322.jpg&w=187&h=187&v=5ffbf2cc', '', '1377', 'http://search.books.com.tw/redirect/move/key/R%E8%AA%9E%E8%A8%80/area/mid/item/N011919322/page/2/idx/13/cat/N01/pdf/1/spell/3'], ['MASSA-G Titan X1 4mm超合金鍺鈦手環搭配字言字語白鋼字母墬20R', 'https://im1.book.com.tw/image/getImage?i=https://www.books.com.tw/img/N01/191/92/N011919290.jpg&w=187&h=187&v=5ffbf2c8', '', '1377', 'http://search.books.com.tw/redirect/move/key/R%E8%AA%9E%E8%A8%80/area/mid/item/N011919290/page/2/idx/14/cat/N01/pdf/1/spell/3'], ['MASSA-G Titan X1 4mm超合金鍺鈦手環搭配字言字語白鋼字母墬19R', 'https://im1.book.com.tw/image/getImage?i=https://www.books.com.tw/img/N01/191/92/N011919264.jpg&w=187&h=187&v=5ffbf2bf', '', '1377', 'http://search.books.com.tw/redirect/move/key/R%E8%AA%9E%E8%A8%80/area/mid/item/N011919264/page/2/idx/15/cat/N01/pdf/1/spell/3'], ['MASSA-G Titan X1 4mm超合金鍺鈦手環搭配字言字語白鋼字母墬18R', 'https://im1.book.com.tw/image/getImage?i=https://www.books.com.tw/img/N01/191/92/N011919244.jpg&w=187&h=187&v=5ffbf2bc', '', '1377', 'http://search.books.com.tw/redirect/move/key/R%E8%AA%9E%E8%A8%80/area/mid/item/N011919244/page/2/idx/16/cat/N01/pdf/1/spell/3'], ['MASSA-G Titan X1 4mm超合金鍺鈦手環搭配字言字語白鋼字母墬17R', 'https://im1.book.com.tw/image/getImage?i=https://www.books.com.tw/img/N01/191/92/N011919218.jpg&w=187&h=187&v=5ffbf2b7', '', '1377', 'http://search.books.com.tw/redirect/move/key/R%E8%AA%9E%E8%A8%80/area/mid/item/N011919218/page/2/idx/17/cat/N01/pdf/1/spell/3'], ['金融科技實戰：R語言與量化投資', 'https://im1.book.com.tw/image/getImage?i=https://www.books.com.tw/img/001/076/03/0010760369.jpg&w=187&h=187&v=5976c96d', '蔡立耑', '585', 'http://search.books.com.tw/redirect/move/key/R%E8%AA%9E%E8%A8%80/area/mid/item/0010760369/page/2/idx/18/cat/001/pdf/0/spell/3'], ['邁向大數據的第一步!R語言程式設計精要', 'https://im1.book.com.tw/image/getImage?i=https://www.books.com.tw/img/001/077/48/0010774876.jpg&w=187&h=187&v=5a40e13d', 'Jared P. Lander,鍾振蔚', '428', 'http://search.books.com.tw/redirect/move/key/R%E8%AA%9E%E8%A8%80/area/mid/item/0010774876/page/2/idx/19/cat/001/pdf/0/spell/3'], ['R資料採礦與數據分析：以 GUI 套件 Rattle 結合程式語言實作', 'https://im1.book.com.tw/image/getImage?i=https://www.books.com.tw/img/001/073/04/0010730494.jpg&w=187&h=187&v=57e5043b', '何宗武', '450', 'http://search.books.com.tw/redirect/move/key/R%E8%AA%9E%E8%A8%80/area/mid/item/0010730494/page/2/idx/20/cat/001/pdf/0/spell/3'], ['R語言實戰(第2版)', 'https://im1.book.com.tw/image/getImage?i=https://www.books.com.tw/img/CN1/134/35/CN11343599.jpg&w=187&h=187&v=5a6b036d', '（美）ROBERT I.KABACOFF', '517', 'http://search.books.com.tw/redirect/move/key/R%E8%AA%9E%E8%A8%80/area/mid/item/CN11343599/page/2/idx/21/cat/CN1/pdf/0/spell/3'], ['預測分析建模:Python與R語言實現', 'https://im1.book.com.tw/image/getImage?i=https://www.books.com.tw/img/CN1/138/35/CN11383530.jpg&w=187&h=187&v=58f0a526', '（美）托馬斯·W.米勒', '412', 'http://search.books.com.tw/redirect/move/key/R%E8%AA%9E%E8%A8%80/area/mid/item/CN11383530/page/2/idx/22/cat/CN1/pdf/0/spell/3'], ['基於R語言的自動數據收集：網絡抓取和文本挖掘實用指南', 'https://im1.book.com.tw/image/getImage?i=https://www.books.com.tw/img/CN1/132/99/CN11329980.jpg&w=187&h=187&v=5720869a', '（德）西蒙·蒙策爾特等', '517', 'http://search.books.com.tw/redirect/move/key/R%E8%AA%9E%E8%A8%80/area/mid/item/CN11329980/page/2/idx/23/cat/CN1/pdf/0/spell/3'], ['量化投資：以R語言為工具', 'https://im1.book.com.tw/image/getImage?i=https://www.books.com.tw/img/CN1/130/64/CN11306452.jpg&w=187&h=187&v=569f61d6', '蔡立耑', '594', 'http://search.books.com.tw/redirect/move/key/R%E8%AA%9E%E8%A8%80/area/mid/item/CN11306452/page/2/idx/24/cat/CN1/pdf/0/spell/3'], ['R語言市場研究分析', 'https://im1.book.com.tw/image/getImage?i=https://www.books.com.tw/img/CN1/138/52/CN11385258.jpg&w=187&h=187&v=582c352f', '（美）克里斯·查普曼等', '465', 'http://search.books.com.tw/redirect/move/key/R%E8%AA%9E%E8%A8%80/area/mid/item/CN11385258/page/3/idx/1/cat/CN1/pdf/0/spell/3'], ['R語言與數據挖掘最佳實踐和經典案例', 'https://im1.book.com.tw/image/getImage?i=https://www.books.com.tw/img/CN1/115/85/CN11158574.jpg&w=187&h=187&v=54326f2e', '(澳)趙彥昌', '256', 'http://search.books.com.tw/redirect/move/key/R%E8%AA%9E%E8%A8%80/area/mid/item/CN11158574/page/3/idx/2/cat/CN1/pdf/0/spell/3'], ['機器學習與R語言', 'https://im1.book.com.tw/image/getImage?i=https://www.books.com.tw/img/CN1/123/13/CN11231362.jpg&w=187&h=187&v=55420448', '（美）蘭茲', '360', 'http://search.books.com.tw/redirect/move/key/R%E8%AA%9E%E8%A8%80/area/mid/item/CN11231362/page/3/idx/3/cat/CN1/pdf/0/spell/3'], ['自動化交易R語言實戰指南', 'https://im1.book.com.tw/image/getImage?i=https://www.books.com.tw/img/CN1/145/97/CN11459780.jpg&w=187&h=187&v=5a623b82', '（美）CHRIS CONLAN', '360', 'http://search.books.com.tw/redirect/move/key/R%E8%AA%9E%E8%A8%80/area/mid/item/CN11459780/page/3/idx/4/cat/CN1/pdf/0/spell/3'], ['R語言統計入門(第2版)', 'https://im1.book.com.tw/image/getImage?i=https://www.books.com.tw/img/CN1/111/92/CN11119235.jpg&w=187&h=187&v=53b28e00', '（丹）達爾加德', '256', 'http://search.books.com.tw/redirect/move/key/R%E8%AA%9E%E8%A8%80/area/mid/item/CN11119235/page/3/idx/5/cat/CN1/pdf/0/spell/3'], ['R語言與資料分析(附範例光碟)', 'https://im1.book.com.tw/image/getImage?i=https://www.books.com.tw/img/001/092/56/0010925699.jpg&w=187&h=187&v=62876db5', '慎思齊', '399', 'http://search.books.com.tw/redirect/move/key/R%E8%AA%9E%E8%A8%80/area/mid/item/0010925699/page/3/idx/6/cat/001/pdf/0/spell/3'], ['機器學習與R語言(原書第2版)', 'https://im1.book.com.tw/image/getImage?i=https://www.books.com.tw/img/CN1/142/02/CN11420298.jpg&w=187&h=187&v=58f90089', '（美）布雷特·蘭茨', '360', 'http://search.books.com.tw/redirect/move/key/R%E8%AA%9E%E8%A8%80/area/mid/item/CN11420298/page/3/idx/7/cat/CN1/pdf/0/spell/3'], ['經濟金融計量及其R語言應用', 'https://im1.book.com.tw/image/getImage?i=https://www.books.com.tw/img/CN1/136/27/CN11362741.jpg&w=187&h=187&v=58d4769b', '朱順泉', '157', 'http://search.books.com.tw/redirect/move/key/R%E8%AA%9E%E8%A8%80/area/mid/item/CN11362741/page/3/idx/8/cat/CN1/pdf/0/spell/3'], ['數據挖掘：R語言實戰', 'https://im1.book.com.tw/image/getImage?i=https://www.books.com.tw/img/CN1/112/58/CN11125860.jpg&w=187&h=187&v=53d8911e', '黃文', '336', 'http://search.books.com.tw/redirect/move/key/R%E8%AA%9E%E8%A8%80/area/mid/item/CN11125860/page/3/idx/9/cat/CN1/pdf/0/spell/3'], ['R語言入門與實踐', 'https://im1.book.com.tw/image/getImage?i=https://www.books.com.tw/img/CN1/135/53/CN11355397.jpg&w=187&h=187&v=57bbed6f', '（美）格羅勒芒德', '308', 'http://search.books.com.tw/redirect/move/key/R%E8%AA%9E%E8%A8%80/area/mid/item/CN11355397/page/3/idx/10/cat/CN1/pdf/0/spell/3'], ['R語言--邁向大數據之路', 'https://im1.book.com.tw/image/getImage?i=https://www.books.com.tw/img/CN1/134/37/CN11343782.jpg&w=187&h=187&v=5773953e', '洪錦魁，蔡桂宏', '360', 'http://search.books.com.tw/redirect/move/key/R%E8%AA%9E%E8%A8%80/area/mid/item/CN11343782/page/3/idx/11/cat/CN1/pdf/0/spell/3'], ['神經網路：R語言實現', 'https://im1.book.com.tw/image/getImage?i=https://www.books.com.tw/img/CN1/156/17/CN11561739.jpg&w=187&h=187&v=5bed31e6', '（美）朱塞佩·查博羅', '308', 'http://search.books.com.tw/redirect/move/key/R%E8%AA%9E%E8%A8%80/area/mid/item/CN11561739/page/3/idx/12/cat/CN1/pdf/0/spell/3'], ['R語言統計分析與應用', 'https://im1.book.com.tw/image/getImage?i=https://www.books.com.tw/img/CN1/152/98/CN11529814.jpg&w=187&h=187&v=60750229', '汪海波', '412', 'http://search.books.com.tw/redirect/move/key/R%E8%AA%9E%E8%A8%80/area/mid/item/CN11529814/page/3/idx/13/cat/CN1/pdf/0/spell/3'], ['數據科學：R語言實現', 'https://im1.book.com.tw/image/getImage?i=https://www.books.com.tw/img/CN1/144/34/CN11443405.jpg&w=187&h=187&v=5995703b', '丘\\x7f\\x7f瑋', '412', 'http://search.books.com.tw/redirect/move/key/R%E8%AA%9E%E8%A8%80/area/mid/item/CN11443405/page/3/idx/14/cat/CN1/pdf/0/spell/3'], ['預測分析：R語言實現', 'https://im1.book.com.tw/image/getImage?i=https://www.books.com.tw/img/CN1/140/89/CN11408976.jpg&w=187&h=187&v=59328fac', '（希）魯伊·米格爾·福特', '308', 'http://search.books.com.tw/redirect/move/key/R%E8%AA%9E%E8%A8%80/area/mid/item/CN11408976/page/3/idx/15/cat/CN1/pdf/0/spell/3'], ['深度學習實踐指南--基於R語言', 'https://im1.book.com.tw/image/getImage?i=https://www.books.com.tw/img/CN1/154/71/CN11547119.jpg&w=187&h=187&v=5bf3b1bb', '（英）尼格爾·劉易斯', '360', 'http://search.books.com.tw/redirect/move/key/R%E8%AA%9E%E8%A8%80/area/mid/item/CN11547119/page/3/idx/16/cat/CN1/pdf/0/spell/3'], ['R語言預測實戰', 'https://im1.book.com.tw/image/getImage?i=https://www.books.com.tw/img/CN1/139/00/CN11390085.jpg&w=187&h=187&v=58a42db8', '游皓麟', '474', 'http://search.books.com.tw/redirect/move/key/R%E8%AA%9E%E8%A8%80/area/mid/item/CN11390085/page/3/idx/17/cat/CN1/pdf/0/spell/3'], ['多元時間序列分析及金融應用：R語言', 'https://im1.book.com.tw/image/getImage?i=https://www.books.com.tw/img/CN1/137/03/CN11370374.jpg&w=187&h=187&v=57c01a4f', '（美）蔡瑞胸', '412', 'http://search.books.com.tw/redirect/move/key/R%E8%AA%9E%E8%A8%80/area/mid/item/CN11370374/page/3/idx/18/cat/CN1/pdf/0/spell/3'], ['文本挖掘：基於R語言的整潔工具', 'https://im1.book.com.tw/image/getImage?i=https://www.books.com.tw/img/CN1/152/91/CN11529169.jpg&w=187&h=187&v=5aeca906', '（美）茱莉亞·斯拉格，（美）戴維·羅賓遜', '308', 'http://search.books.com.tw/redirect/move/key/R%E8%AA%9E%E8%A8%80/area/mid/item/CN11529169/page/3/idx/19/cat/CN1/pdf/0/spell/3'], ['R語言與數據挖掘', 'https://im1.book.com.tw/image/getImage?i=https://www.books.com.tw/img/CN1/135/84/CN11358430.jpg&w=187&h=187&v=5790a437', '張良均等', '308', 'http://search.books.com.tw/redirect/move/key/R%E8%AA%9E%E8%A8%80/area/mid/item/CN11358430/page/3/idx/20/cat/CN1/pdf/0/spell/3'], ['應用統計分析與R語言實戰', 'https://im1.book.com.tw/image/getImage?i=https://www.books.com.tw/img/CN1/149/01/CN11490101.jpg&w=187&h=187&v=5aec3673', '呂書龍', '360', 'http://search.books.com.tw/redirect/move/key/R%E8%AA%9E%E8%A8%80/area/mid/item/CN11490101/page/3/idx/21/cat/CN1/pdf/0/spell/3'], ['R語言核心技術手冊(第2版)', 'https://im1.book.com.tw/image/getImage?i=https://www.books.com.tw/img/CN1/114/76/CN11147612.jpg&w=187&h=187&v=54633791', '（美）JOSEPB ADLER', '594', 'http://search.books.com.tw/redirect/move/key/R%E8%AA%9E%E8%A8%80/area/mid/item/CN11147612/page/3/idx/22/cat/CN1/pdf/0/spell/3'], ['投資學及其R語言應用', 'https://im1.book.com.tw/image/getImage?i=https://www.books.com.tw/img/CN1/132/16/CN11321619.jpg&w=187&h=187&v=574f8c20', '朱順泉', '183', 'http://search.books.com.tw/redirect/move/key/R%E8%AA%9E%E8%A8%80/area/mid/item/CN11321619/page/3/idx/23/cat/CN1/pdf/0/spell/3'], ['數據科學R語言實踐：面向計算推理與問題求解的案例研究法', 'https://im1.book.com.tw/image/getImage?i=https://www.books.com.tw/img/CN1/144/69/CN11446938.jpg&w=187&h=187&v=5975b33f', '（美）德博拉·諾蘭,（美）鄧肯·坦普·郎', '621', 'http://search.books.com.tw/redirect/move/key/R%E8%AA%9E%E8%A8%80/area/mid/item/CN11446938/page/3/idx/24/cat/CN1/pdf/0/spell/3']]\n"
          ]
        }
      ]
    }
  ]
}