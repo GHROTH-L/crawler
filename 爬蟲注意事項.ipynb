{
  "nbformat": 4,
  "nbformat_minor": 0,
  "metadata": {
    "colab": {
      "provenance": [],
      "authorship_tag": "ABX9TyPEqLliz2X+aDdaJHP9jbgi",
      "include_colab_link": true
    },
    "kernelspec": {
      "name": "python3",
      "display_name": "Python 3"
    },
    "language_info": {
      "name": "python"
    }
  },
  "cells": [
    {
      "cell_type": "markdown",
      "metadata": {
        "id": "view-in-github",
        "colab_type": "text"
      },
      "source": [
        "<a href=\"https://colab.research.google.com/github/GHROTH-L/crawler/blob/main/%E7%88%AC%E8%9F%B2%E6%B3%A8%E6%84%8F%E4%BA%8B%E9%A0%85.ipynb\" target=\"_parent\"><img src=\"https://colab.research.google.com/assets/colab-badge.svg\" alt=\"Open In Colab\"/></a>"
      ]
    },
    {
      "cell_type": "markdown",
      "source": [
        "#決定函數庫\n",
        "多頁內容BEAURIFUL SOUP\n",
        "\n",
        "\n",
        "動態網頁 SELENIUM 包含表單填寫\n",
        "\n",
        "整頁大量內容 則使用SCRAPY"
      ],
      "metadata": {
        "id": "3dMmEhJZuDl5"
      }
    },
    {
      "cell_type": "markdown",
      "source": [
        "#多次請求時請加上延遲時間"
      ],
      "metadata": {
        "id": "QJBeyf5zF7cZ"
      }
    },
    {
      "cell_type": "code",
      "execution_count": 16,
      "metadata": {
        "colab": {
          "base_uri": "https://localhost:8080/"
        },
        "id": "ituE9F4cuDEz",
        "outputId": "222f660d-6fbc-48ee-a0b3-069950e21dc1"
      },
      "outputs": [
        {
          "output_type": "stream",
          "name": "stdout",
          "text": [
            "200\n",
            "等待5秒鐘...\n",
            "200\n",
            "等待5秒鐘...\n",
            "200\n",
            "等待5秒鐘...\n",
            "200\n",
            "等待5秒鐘...\n",
            "200\n",
            "等待5秒鐘...\n",
            "200\n",
            "等待5秒鐘...\n",
            "200\n",
            "等待5秒鐘...\n",
            "200\n",
            "等待5秒鐘...\n",
            "200\n",
            "等待5秒鐘...\n"
          ]
        }
      ],
      "source": [
        "import time\n",
        "import requests\n",
        "\n",
        "URL = \"http://www.majortests.com/word-lists/word-list-0{0}.html\"\n",
        "\n",
        "for i in range(1, 10):\n",
        "    url = URL.format(i) \n",
        "    r = requests.get(url)\n",
        "    print(r.status_code)\n",
        "    print(\"等待5秒鐘...\")\n",
        "    time.sleep(5) \n"
      ]
    },
    {
      "cell_type": "markdown",
      "source": [
        "#要爬多個網址(可以用URLLIB 內的做連結)\n"
      ],
      "metadata": {
        "id": "i9gJtAieHfo7"
      }
    },
    {
      "cell_type": "code",
      "source": [
        "from urllib.parse import urljoin\n",
        "\n",
        "URL = \"http://www.majortests.com/word-lists/word-list-01.html\"\n",
        "PTT = \"https://wwww.ptt.cc/bbs/movie/index.html\"\n",
        "\n",
        "catalog = [\"movie\", \"NBA\", \"Gossiping\"]\n",
        "\n",
        "for i in range(1, 5):\n",
        "    url = urljoin(URL, \"world-list-0{0}.html\".format(i))  #結合第一個參數的網址 +第二個參數的檔案名稱\n",
        "    print(url)\n",
        "for item in catalog:\n",
        "    url = urljoin(PTT, \"../{0}/index.html\".format(item)) #../取代上一層的目錄\n",
        "    print(url)"
      ],
      "metadata": {
        "colab": {
          "base_uri": "https://localhost:8080/"
        },
        "id": "ubzsNDu6wKvq",
        "outputId": "302476ca-da97-4dc1-d146-066c4a38a37b"
      },
      "execution_count": 17,
      "outputs": [
        {
          "output_type": "stream",
          "name": "stdout",
          "text": [
            "http://www.majortests.com/word-lists/world-list-01.html\n",
            "http://www.majortests.com/word-lists/world-list-02.html\n",
            "http://www.majortests.com/word-lists/world-list-03.html\n",
            "http://www.majortests.com/word-lists/world-list-04.html\n",
            "https://wwww.ptt.cc/bbs/movie/index.html\n",
            "https://wwww.ptt.cc/bbs/NBA/index.html\n",
            "https://wwww.ptt.cc/bbs/Gossiping/index.html\n"
          ]
        }
      ]
    }
  ]
}