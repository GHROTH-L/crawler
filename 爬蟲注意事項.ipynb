{
  "nbformat": 4,
  "nbformat_minor": 0,
  "metadata": {
    "colab": {
      "provenance": [],
      "authorship_tag": "ABX9TyOZIXsNC8ZRyzYKP/Ch8nb+",
      "include_colab_link": true
    },
    "kernelspec": {
      "name": "python3",
      "display_name": "Python 3"
    },
    "language_info": {
      "name": "python"
    }
  },
  "cells": [
    {
      "cell_type": "markdown",
      "metadata": {
        "id": "view-in-github",
        "colab_type": "text"
      },
      "source": [
        "<a href=\"https://colab.research.google.com/github/GHROTH-L/crawler/blob/main/%E7%88%AC%E8%9F%B2%E6%B3%A8%E6%84%8F%E4%BA%8B%E9%A0%85.ipynb\" target=\"_parent\"><img src=\"https://colab.research.google.com/assets/colab-badge.svg\" alt=\"Open In Colab\"/></a>"
      ]
    },
    {
      "cell_type": "markdown",
      "source": [
        "#決定函數庫\n",
        "多頁內容BEAURIFUL SOUP\n",
        "\n",
        "\n",
        "動態網頁 SELENIUM 包含表單填寫\n",
        "\n",
        "整頁大量內容 則使用SCRAPY"
      ],
      "metadata": {
        "id": "3dMmEhJZuDl5"
      }
    },
    {
      "cell_type": "markdown",
      "source": [
        "#多次請求時請加上延遲時間"
      ],
      "metadata": {
        "id": "QJBeyf5zF7cZ"
      }
    },
    {
      "cell_type": "code",
      "execution_count": null,
      "metadata": {
        "colab": {
          "base_uri": "https://localhost:8080/"
        },
        "id": "ituE9F4cuDEz",
        "outputId": "222f660d-6fbc-48ee-a0b3-069950e21dc1"
      },
      "outputs": [
        {
          "output_type": "stream",
          "name": "stdout",
          "text": [
            "200\n",
            "等待5秒鐘...\n",
            "200\n",
            "等待5秒鐘...\n",
            "200\n",
            "等待5秒鐘...\n",
            "200\n",
            "等待5秒鐘...\n",
            "200\n",
            "等待5秒鐘...\n",
            "200\n",
            "等待5秒鐘...\n",
            "200\n",
            "等待5秒鐘...\n",
            "200\n",
            "等待5秒鐘...\n",
            "200\n",
            "等待5秒鐘...\n"
          ]
        }
      ],
      "source": [
        "import time\n",
        "import requests\n",
        "\n",
        "URL = \"http://www.majortests.com/word-lists/word-list-0{0}.html\"\n",
        "\n",
        "for i in range(1, 10):\n",
        "    url = URL.format(i) \n",
        "    r = requests.get(url)\n",
        "    print(r.status_code)\n",
        "    print(\"等待5秒鐘...\")\n",
        "    time.sleep(5) \n"
      ]
    },
    {
      "cell_type": "markdown",
      "source": [
        "#要爬多個網址(可以用URLLIB 內的做連結)\n"
      ],
      "metadata": {
        "id": "i9gJtAieHfo7"
      }
    },
    {
      "cell_type": "code",
      "source": [
        "from urllib.parse import urljoin\n",
        "\n",
        "URL = \"http://www.majortests.com/word-lists/word-list-01.html\"\n",
        "PTT = \"https://wwww.ptt.cc/bbs/movie/index.html\"\n",
        "\n",
        "catalog = [\"movie\", \"NBA\", \"Gossiping\"]\n",
        "\n",
        "for i in range(1, 5):\n",
        "    url = urljoin(URL, \"world-list-0{0}.html\".format(i))  #結合第一個參數的網址 +第二個參數的檔案名稱\n",
        "    print(url)\n",
        "for item in catalog:\n",
        "    url = urljoin(PTT, \"../{0}/index.html\".format(item)) #../取代上一層的目錄\n",
        "    print(url)"
      ],
      "metadata": {
        "colab": {
          "base_uri": "https://localhost:8080/"
        },
        "id": "ubzsNDu6wKvq",
        "outputId": "302476ca-da97-4dc1-d146-066c4a38a37b"
      },
      "execution_count": null,
      "outputs": [
        {
          "output_type": "stream",
          "name": "stdout",
          "text": [
            "http://www.majortests.com/word-lists/world-list-01.html\n",
            "http://www.majortests.com/word-lists/world-list-02.html\n",
            "http://www.majortests.com/word-lists/world-list-03.html\n",
            "http://www.majortests.com/word-lists/world-list-04.html\n",
            "https://wwww.ptt.cc/bbs/movie/index.html\n",
            "https://wwww.ptt.cc/bbs/NBA/index.html\n",
            "https://wwww.ptt.cc/bbs/Gossiping/index.html\n"
          ]
        }
      ]
    },
    {
      "cell_type": "markdown",
      "source": [
        "#parser \n",
        "除了beautifulsoup 外，還有lxmla 以及html5lib \n",
        "\n",
        "html5lib 是使用不成對標籤使用，但是速度較慢\n",
        "lxml 則是最快的，但是沒辦法處理不成對的樣本\n"
      ],
      "metadata": {
        "id": "ZUFUHUXEb9aB"
      }
    },
    {
      "cell_type": "markdown",
      "source": [
        "#小小測試"
      ],
      "metadata": {
        "id": "qk7-f7DVdXmn"
      }
    },
    {
      "cell_type": "code",
      "source": [
        "import requests\n",
        "from bs4 import BeautifulSoup\n",
        "\n",
        "\n",
        "def main():\n",
        "    url1 = 'http://jwlin.github.io/py-scraping-analysis-book/ch1/connect.html'\n",
        "    bad_url = 'http://non-existed.domain/connect.html'\n",
        "    text1 = get_tag_text(url1, 'h1')\n",
        "    print(text1)\n",
        "    text2 = get_tag_text(url1, 'h2')\n",
        "    print(text2)\n",
        "    text3 = get_tag_text(bad_url, 'h1')\n",
        "    print(text3)\n",
        "\n",
        "\n",
        "def get_tag_text(url, tag):\n",
        "    try:\n",
        "        resp = requests.get(url)\n",
        "        if resp.status_code == 200:\n",
        "            soup = BeautifulSoup(resp.text, 'html.parser')\n",
        "            return soup.find(tag).text\n",
        "    except Exception as e:\n",
        "        print('Exception: %s' %(e))  \n",
        "    return None\n",
        "\n",
        "'''\n",
        "%s 是一個格式化字符串中的占位符，用於將變數的值插入到字符串中的指定位置。\n",
        "\n",
        "在這個特定的程式碼中，%s 被用於將異常物件 e 的值插入到格式化的字符串中。這樣可以將異常的訊息作為字串加入到輸出中，以便在控制台上顯示異常訊息。\n",
        "\n",
        "例如，假設 e 是一個 ValueError 異常物件並包含訊息 \"無效的輸入\"，當程式執行到 print('Exception: %s' %(e)) 時，它將輸出以下內容：\n",
        "'''\n",
        "\n",
        "\n",
        "if __name__ == '__main__': #說明主程式在這裡\n",
        "    main()"
      ],
      "metadata": {
        "colab": {
          "base_uri": "https://localhost:8080/"
        },
        "id": "g36ldxr2cTjR",
        "outputId": "9d5bbf98-d044-4889-e036-ea3480c28471"
      },
      "execution_count": 1,
      "outputs": [
        {
          "output_type": "stream",
          "name": "stdout",
          "text": [
            "歡迎來到 Pycone 松果城市！\n",
            "Exception: 'NoneType' object has no attribute 'text'\n",
            "None\n",
            "Exception: HTTPConnectionPool(host='non-existed.domain', port=80): Max retries exceeded with url: /connect.html (Caused by NewConnectionError('<urllib3.connection.HTTPConnection object at 0x7fde75da88b0>: Failed to establish a new connection: [Errno -2] Name or service not known'))\n",
            "None\n"
          ]
        }
      ]
    },
    {
      "cell_type": "markdown",
      "source": [
        "#strip()\n",
        "去除空白跟換行符號"
      ],
      "metadata": {
        "id": "Qa5JBlWJjnAw"
      }
    },
    {
      "cell_type": "code",
      "source": [
        "import requests\n",
        "from bs4 import BeautifulSoup\n",
        "resp = requests.get('http://jwlin.github.io/py-scraping-analysis-book/ch2/blog/blog.html')\n",
        "soup = BeautifulSoup(resp.text, 'html.parser')\n",
        "divs = soup.find_all('div', 'content')\n",
        "for div in divs:\n",
        "# 方法一, 使用 text (會包含許多換行符號)\n",
        "  print(div.text)"
      ],
      "metadata": {
        "colab": {
          "base_uri": "https://localhost:8080/"
        },
        "id": "tGIrlWyKh0xg",
        "outputId": "c01c50d8-4fbf-461f-8b87-8a7ad45915b2"
      },
      "execution_count": 4,
      "outputs": [
        {
          "output_type": "stream",
          "name": "stdout",
          "text": [
            "\n",
            "開發環境設定\n",
            "\n",
            "Mac使用者\n",
            "\n",
            "\n",
            "                                    在Mac環境下安裝Python與Sublime Text3 Read More \n",
            "\n",
            "\n",
            "\n",
            "\n",
            "                                    資料科學\n",
            "                                \n",
            "\n",
            "給初學者的 Python 網頁爬蟲與資料分析\n",
            "\n",
            "\n",
            "                                     (1) 前言 Read More \n",
            "\n",
            "\n",
            "\n",
            "\n",
            "                                    資料科學\n",
            "                                \n",
            "\n",
            "給初學者的 Python 網頁爬蟲與資料分析\n",
            "\n",
            "\n",
            "                                     (2) 套件安裝與啟動網頁爬蟲 Read More \n",
            "\n",
            "\n",
            "\n",
            "\n",
            "                                    資料科學\n",
            "                                \n",
            "\n",
            "給初學者的 Python 網頁爬蟲與資料分析\n",
            "\n",
            "\n",
            "                                     (3) 解構並擷取網頁資料 Read More \n",
            "\n",
            "\n",
            "\n",
            "\n",
            "                                    資料科學\n",
            "                                \n",
            "\n",
            "給初學者的 Python 網頁爬蟲與資料分析\n",
            "\n",
            "\n",
            "                                     (4) 擷取資料及下載圖片 Read More \n",
            "\n",
            "\n",
            "\n",
            "\n",
            "                                    資料科學\n",
            "                                \n",
            "\n",
            "給初學者的 Python 網頁爬蟲與資料分析\n",
            "\n",
            "\n",
            "                                     (5) 資料分析及展示 Read More \n",
            "\n",
            "\n"
          ]
        }
      ]
    },
    {
      "cell_type": "code",
      "source": [
        "for div in divs:\n",
        "# 方法二, 使用 tag 定位\n",
        "  print(div.h6.text.strip(), div.h4.a.text.strip(), div.p.text.strip())"
      ],
      "metadata": {
        "colab": {
          "base_uri": "https://localhost:8080/"
        },
        "id": "y3xSG_uQieqj",
        "outputId": "05716475-028c-49cd-bad5-1c4d67d28c73"
      },
      "execution_count": 5,
      "outputs": [
        {
          "output_type": "stream",
          "name": "stdout",
          "text": [
            "開發環境設定 Mac使用者 在Mac環境下安裝Python與Sublime Text3 Read More\n",
            "資料科學 給初學者的 Python 網頁爬蟲與資料分析 (1) 前言 Read More\n",
            "資料科學 給初學者的 Python 網頁爬蟲與資料分析 (2) 套件安裝與啟動網頁爬蟲 Read More\n",
            "資料科學 給初學者的 Python 網頁爬蟲與資料分析 (3) 解構並擷取網頁資料 Read More\n",
            "資料科學 給初學者的 Python 網頁爬蟲與資料分析 (4) 擷取資料及下載圖片 Read More\n",
            "資料科學 給初學者的 Python 網頁爬蟲與資料分析 (5) 資料分析及展示 Read More\n"
          ]
        }
      ]
    },
    {
      "cell_type": "code",
      "source": [
        "for div in divs:\n",
        "# 方法三, 使用 .stripped_strings 將子標籤包含的字串一個個分開，同時移除字串前後的空白跟換行\n",
        "#但是這個方法回傳的是generator 所以需要去iterate(尋覽)才能看到迴船的字串\n",
        "  print([s for s in div.stripped_strings])"
      ],
      "metadata": {
        "colab": {
          "base_uri": "https://localhost:8080/"
        },
        "id": "EfF4rN0OjUII",
        "outputId": "58f75131-deb7-4d23-a087-945eb5771e7c"
      },
      "execution_count": 6,
      "outputs": [
        {
          "output_type": "stream",
          "name": "stdout",
          "text": [
            "['開發環境設定', 'Mac使用者', '在Mac環境下安裝Python與Sublime Text3', 'Read More']\n",
            "['資料科學', '給初學者的 Python 網頁爬蟲與資料分析', '(1) 前言', 'Read More']\n",
            "['資料科學', '給初學者的 Python 網頁爬蟲與資料分析', '(2) 套件安裝與啟動網頁爬蟲', 'Read More']\n",
            "['資料科學', '給初學者的 Python 網頁爬蟲與資料分析', '(3) 解構並擷取網頁資料', 'Read More']\n",
            "['資料科學', '給初學者的 Python 網頁爬蟲與資料分析', '(4) 擷取資料及下載圖片', 'Read More']\n",
            "['資料科學', '給初學者的 Python 網頁爬蟲與資料分析', '(5) 資料分析及展示', 'Read More']\n"
          ]
        }
      ]
    },
    {
      "cell_type": "markdown",
      "source": [
        "#attr 的應用(會有字典形式)\n"
      ],
      "metadata": {
        "id": "JztnSWzfmZ7o"
      }
    },
    {
      "cell_type": "code",
      "source": [
        "resp = requests.get('http://jwlin.github.io/py-scraping-analysis-book/ch2/table/table.html')\n",
        "soup = BeautifulSoup(resp.text, 'html.parser')\n",
        "rows = soup.find('table', 'table').tbody.find_all('tr')\n",
        "for row in rows:\n",
        "  all_tds = row.find_all('td')  # 方法一: find_all('td')\n",
        "      # all_tds = [td for td in row.children]  # 方法二: 找出 row (tr) 所有的直接 (下一層) children\n",
        "      # 以下執行時會報錯, 因為最後一列的 <a> 沒有 'href' 屬性\n",
        "      # print(all_tds[0].text, all_tds[1].text, all_tds[2].text, all_tds[3].a['href'], all_tds[3].a.img['src'])\n",
        "      # 取得 href 屬性前先檢查其是否存在\n",
        "  if 'href' in all_tds[3].a.attrs:  #這裡會產生字典模式\n",
        "\n",
        "    href = all_tds[3].a['href']\n",
        "  else:\n",
        "    href = None\n",
        "  print(all_tds[0].text, all_tds[1].text, all_tds[2].text, href, all_tds[3].a.img['src'])"
      ],
      "metadata": {
        "colab": {
          "base_uri": "https://localhost:8080/"
        },
        "id": "mk4SGK8pmeym",
        "outputId": "490f2de0-781e-444c-d658-697d50afe324"
      },
      "execution_count": 7,
      "outputs": [
        {
          "output_type": "stream",
          "name": "stdout",
          "text": [
            "初心者 - Python入門 初學者 1490 http://www.pycone.com img/python-logo.png\n",
            "Python 網頁爬蟲入門實戰 有程式基礎的初學者 1890 http://www.pycone.com img/python-logo.png\n",
            "Python 機器學習入門實戰 (預計) 有程式基礎的初學者 1890 http://www.pycone.com img/python-logo.png\n",
            "Python 資料科學入門實戰 (預計) 有程式基礎的初學者 1890 http://www.pycone.com img/python-logo.png\n",
            "Python 資料視覺化入門實戰 (預計) 有程式基礎的初學者 1890 http://www.pycone.com img/python-logo.png\n",
            "Python 網站架設入門實戰 (預計) 有程式基礎的初學者 1890 None img/python-logo.png\n"
          ]
        }
      ]
    },
    {
      "cell_type": "code",
      "source": [],
      "metadata": {
        "colab": {
          "base_uri": "https://localhost:8080/"
        },
        "id": "qHeLsxYpmu_6",
        "outputId": "a7951c35-44ad-415b-f9bf-3c5527b538e7"
      },
      "execution_count": 9,
      "outputs": [
        {
          "output_type": "stream",
          "name": "stdout",
          "text": [
            "{}\n"
          ]
        }
      ]
    },
    {
      "cell_type": "code",
      "source": [],
      "metadata": {
        "id": "Hh-0JOqYm2C-"
      },
      "execution_count": null,
      "outputs": []
    }
  ]
}